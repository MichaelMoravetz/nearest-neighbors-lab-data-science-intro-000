{
 "cells": [
  {
   "cell_type": "markdown",
   "metadata": {},
   "source": [
    "# Nearest Neighbors Lab"
   ]
  },
  {
   "cell_type": "markdown",
   "metadata": {},
   "source": [
    "### Introduction\n",
    "\n",
    "In this lab, you apply nearest neighbors technique to help a taxi company predict the length of their rides.  Imagine that we are hired to consult for LiftOff, a limo and taxi service that is just opening up in NYC.  Liftoff wants it's taxi drivers to target longer rides, as the longer the ride the more money it makes.  LiftOff has the following theory:\n",
    "\n",
    "* the pickup location of a taxi ride can help predict the length of the ride.  \n",
    "\n",
    "\n",
    "\n",
    "LiftOff asks us to do some analysis to write a function that will allow it to **predict the length of a taxi ride for any given location **.\n",
    "\n",
    "Our technique will be the following:\n",
    "  * **Collect** Obtain the data containing all of the taxi information, and only select the attributes of taxi trips that we need \n",
    "  * ** Explore ** Examine the attributes of our data, and plot some of our data on a map\n",
    "  * ** Train ** Write our nearest neighbors formula, and change the number of nearby trips to predict the length of a new trip\n",
    "  * ** Predict ** Use our function to predict trip lengths of new locations"
   ]
  },
  {
   "cell_type": "markdown",
   "metadata": {},
   "source": [
    "### Collect and Explore the data"
   ]
  },
  {
   "cell_type": "markdown",
   "metadata": {},
   "source": [
    "#### Collect the Data"
   ]
  },
  {
   "cell_type": "markdown",
   "metadata": {},
   "source": [
    "Luckily for us, [NYC Open Data](https://opendata.cityofnewyork.us/) collects information about NYC taxi trips and provides this data on [its website](https://data.cityofnewyork.us/Transportation/2014-Yellow-Taxi-Trip-Data/gn7m-em8n)."
   ]
  },
  {
   "cell_type": "markdown",
   "metadata": {},
   "source": [
    "![](./nyc-taxi.png)"
   ]
  },
  {
   "cell_type": "markdown",
   "metadata": {},
   "source": [
    "For your reading pleasure, the data has already been downloaded into the [trips.json](https://github.com/learn-co-curriculum/nearest-neighbors-lab/blob/master/trips.json) file in this lab which you can find here.  We'll use Python's `json` library to take the data from the `trips.json` file and store it as a variable in our notebook."
   ]
  },
  {
   "cell_type": "code",
   "execution_count": 1,
   "metadata": {},
   "outputs": [],
   "source": [
    "import json\n",
    "# First, read the file\n",
    "trips_file = open('trips.json')\n",
    "# Then, convert contents to list of dictionaries \n",
    "trips = json.load(trips_file)"
   ]
  },
  {
   "cell_type": "markdown",
   "metadata": {},
   "source": [
    "> Press shift + enter"
   ]
  },
  {
   "cell_type": "markdown",
   "metadata": {},
   "source": [
    "#### Explore the data"
   ]
  },
  {
   "cell_type": "markdown",
   "metadata": {},
   "source": [
    "The next step is to explore the data.  First, let's see how many trips we have."
   ]
  },
  {
   "cell_type": "code",
   "execution_count": 2,
   "metadata": {},
   "outputs": [
    {
     "data": {
      "text/plain": [
       "1000"
      ]
     },
     "execution_count": 2,
     "metadata": {},
     "output_type": "execute_result"
    }
   ],
   "source": [
    "len(trips)"
   ]
  },
  {
   "cell_type": "markdown",
   "metadata": {},
   "source": [
    "Not bad at all.  Now let's see what each individual trip looks like.  Each trip is a dictionary, so we can see the attributes of each trip with the `keys` function."
   ]
  },
  {
   "cell_type": "code",
   "execution_count": 3,
   "metadata": {
    "scrolled": true
   },
   "outputs": [
    {
     "data": {
      "text/plain": [
       "dict_keys(['dropoff_datetime', 'dropoff_latitude', 'dropoff_longitude', 'fare_amount', 'imp_surcharge', 'mta_tax', 'passenger_count', 'payment_type', 'pickup_datetime', 'pickup_latitude', 'pickup_longitude', 'rate_code', 'tip_amount', 'tolls_amount', 'total_amount', 'trip_distance', 'vendor_id'])"
      ]
     },
     "execution_count": 3,
     "metadata": {},
     "output_type": "execute_result"
    }
   ],
   "source": [
    "trips[0].keys()"
   ]
  },
  {
   "cell_type": "markdown",
   "metadata": {},
   "source": [
    "#### Limit our data"
   ]
  },
  {
   "cell_type": "markdown",
   "metadata": {},
   "source": [
    "Ok, now that we have explored some of our data, let's begin to think through what data is relevant for our task."
   ]
  },
  {
   "cell_type": "markdown",
   "metadata": {
    "collapsed": true
   },
   "source": [
    "Remember that our task is to **use the trip location to predict the length of a trip**.  So let's select the `pickup_latitude`, `pickup_longitude`, and `trip_distance` from each trip.  That will give us the trip location and related `trip_distance` for each trip.  Then based on these **actual** trip distances we can use nearest neighbors to predict an **expected** trip distance for a trip, provided an **actual** location."
   ]
  },
  {
   "cell_type": "markdown",
   "metadata": {},
   "source": [
    "** Add in about trip distance ** "
   ]
  },
  {
   "cell_type": "markdown",
   "metadata": {},
   "source": [
    "Write a function called `parse_trips(trips)` that returns a list of the trips with only the following attributes: \n",
    "* `trip_distance`\n",
    "* `pickup_latitude`\n",
    "* `pickup_longitude`"
   ]
  },
  {
   "cell_type": "code",
   "execution_count": 4,
   "metadata": {},
   "outputs": [],
   "source": [
    "def parse_trips(trips):\n",
    "    return list(map(lambda trips: dict(trip_distance=trips['trip_distance'], pickup_latitude=trips['pickup_latitude'], pickup_longitude=trips['pickup_longitude']), trips))\n",
    "    "
   ]
  },
  {
   "cell_type": "code",
   "execution_count": 5,
   "metadata": {},
   "outputs": [
    {
     "data": {
      "text/plain": [
       "{'trip_distance': '18.379999999999999',\n",
       " 'pickup_latitude': '40.64499',\n",
       " 'pickup_longitude': '-73.781149999999997'}"
      ]
     },
     "execution_count": 5,
     "metadata": {},
     "output_type": "execute_result"
    }
   ],
   "source": [
    "parsed_trips = parse_trips(trips)\n",
    "parsed_trips and parsed_trips[0]\n",
    "\n",
    "# {'pickup_latitude': '40.64499',\n",
    "#  'pickup_longitude': '-73.78115',\n",
    "#  'trip_distance': '18.38'}"
   ]
  },
  {
   "cell_type": "markdown",
   "metadata": {},
   "source": [
    "Now, there's just one change to make.  If you look at one of the trips, all of the values are strings.  Let's change them to be floats."
   ]
  },
  {
   "cell_type": "code",
   "execution_count": 6,
   "metadata": {},
   "outputs": [],
   "source": [
    "def float_values(trips):\n",
    "    return list(map(lambda trips: dict(trip_distance=float(trips['trip_distance']), pickup_latitude=float(trips['pickup_latitude']), pickup_longitude= float(trips['pickup_longitude'])), trips))"
   ]
  },
  {
   "cell_type": "code",
   "execution_count": 7,
   "metadata": {},
   "outputs": [],
   "source": [
    "cleaned_trips = float_values(parsed_trips)"
   ]
  },
  {
   "cell_type": "code",
   "execution_count": 8,
   "metadata": {},
   "outputs": [
    {
     "data": {
      "text/plain": [
       "{'trip_distance': 18.38,\n",
       " 'pickup_latitude': 40.64499,\n",
       " 'pickup_longitude': -73.78115}"
      ]
     },
     "execution_count": 8,
     "metadata": {},
     "output_type": "execute_result"
    }
   ],
   "source": [
    "cleaned_trips[0]\n",
    "\n",
    "# {'pickup_latitude': 40.64499,\n",
    "#  'pickup_longitude': -73.78115,\n",
    "#  'trip_distance': 18.38}"
   ]
  },
  {
   "cell_type": "markdown",
   "metadata": {},
   "source": [
    "### Exploring the Data"
   ]
  },
  {
   "cell_type": "markdown",
   "metadata": {},
   "source": [
    "Now that we have paired down our data, let's get a sense of our trip data.  We can use the `folium` Python library to plot a map of Manhattan, and our data.  First we must import `folium`, and then use the `Map` function to pass through a `location`, and `zoom_start`.  If a map isn't showing up below, copy and paste the command `pip install -r requirements.txt` into your terminal to install `folium` then try again."
   ]
  },
  {
   "cell_type": "code",
   "execution_count": 9,
   "metadata": {},
   "outputs": [
    {
     "name": "stdout",
     "output_type": "stream",
     "text": [
      "Collecting folium\n",
      "\u001b[?25l  Downloading https://files.pythonhosted.org/packages/55/e2/7e523df8558b7f4b2ab4c62014fd378ccecce3fdc14c9928b272a88ae4cc/folium-0.7.0-py3-none-any.whl (85kB)\n",
      "\u001b[K    100% |████████████████████████████████| 92kB 34.8MB/s ta 0:00:01\n",
      "\u001b[?25hRequirement already satisfied: jinja2 in /opt/conda/envs/learn-env/lib/python3.6/site-packages (from folium) (2.10)\n",
      "Collecting branca>=0.3.0 (from folium)\n",
      "  Downloading https://files.pythonhosted.org/packages/63/36/1c93318e9653f4e414a2e0c3b98fc898b4970e939afeedeee6075dd3b703/branca-0.3.1-py3-none-any.whl\n",
      "Requirement already satisfied: six in /opt/conda/envs/learn-env/lib/python3.6/site-packages (from folium) (1.11.0)\n",
      "Requirement already satisfied: requests in /opt/conda/envs/learn-env/lib/python3.6/site-packages (from folium) (2.19.1)\n",
      "Requirement already satisfied: numpy in /opt/conda/envs/learn-env/lib/python3.6/site-packages (from folium) (1.15.0)\n",
      "Requirement already satisfied: MarkupSafe>=0.23 in /opt/conda/envs/learn-env/lib/python3.6/site-packages (from jinja2->folium) (1.1.0)\n",
      "Requirement already satisfied: certifi>=2017.4.17 in /opt/conda/envs/learn-env/lib/python3.6/site-packages (from requests->folium) (2018.8.13)\n",
      "Requirement already satisfied: idna<2.8,>=2.5 in /opt/conda/envs/learn-env/lib/python3.6/site-packages (from requests->folium) (2.7)\n",
      "Requirement already satisfied: urllib3<1.24,>=1.21.1 in /opt/conda/envs/learn-env/lib/python3.6/site-packages (from requests->folium) (1.23)\n",
      "Requirement already satisfied: chardet<3.1.0,>=3.0.2 in /opt/conda/envs/learn-env/lib/python3.6/site-packages (from requests->folium) (3.0.4)\n",
      "Installing collected packages: branca, folium\n",
      "Successfully installed branca-0.3.1 folium-0.7.0\n",
      "\u001b[33mYou are using pip version 10.0.1, however version 18.1 is available.\n",
      "You should consider upgrading via the 'pip install --upgrade pip' command.\u001b[0m\n"
     ]
    }
   ],
   "source": [
    "!pip install folium\n",
    "import folium\n",
    "manhattan_map = folium.Map(location=[40.7589, -73.9851], zoom_start=11)\n"
   ]
  },
  {
   "cell_type": "code",
   "execution_count": 10,
   "metadata": {
    "scrolled": true
   },
   "outputs": [
    {
     "data": {
      "text/html": [
       "<div style=\"width:100%;\"><div style=\"position:relative;width:100%;height:0;padding-bottom:60%;\"><iframe src=\"data:text/html;charset=utf-8;base64,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\" style=\"position:absolute;width:100%;height:100%;left:0;top:0;border:none !important;\" allowfullscreen webkitallowfullscreen mozallowfullscreen></iframe></div></div>"
      ],
      "text/plain": [
       "<folium.folium.Map at 0x7fa9dd6fb3c8>"
      ]
     },
     "execution_count": 10,
     "metadata": {},
     "output_type": "execute_result"
    }
   ],
   "source": [
    "manhattan_map"
   ]
  },
  {
   "cell_type": "markdown",
   "metadata": {},
   "source": [
    "Ok, now let's see how we could add a dot to mark a specific location.  We'll start with Times Square."
   ]
  },
  {
   "cell_type": "code",
   "execution_count": 11,
   "metadata": {},
   "outputs": [
    {
     "data": {
      "text/plain": [
       "<folium.vector_layers.CircleMarker at 0x7fa9b335de10>"
      ]
     },
     "execution_count": 11,
     "metadata": {},
     "output_type": "execute_result"
    }
   ],
   "source": [
    "marker = folium.CircleMarker(location = [40.7589, -73.9851], radius=10)\n",
    "marker.add_to(manhattan_map)"
   ]
  },
  {
   "cell_type": "markdown",
   "metadata": {},
   "source": [
    "Above, we first create a marker.  Then we add that circle marker to the `manhattan_map` we created earlier. "
   ]
  },
  {
   "cell_type": "code",
   "execution_count": 12,
   "metadata": {
    "scrolled": false
   },
   "outputs": [
    {
     "data": {
      "text/html": [
       "<div style=\"width:100%;\"><div style=\"position:relative;width:100%;height:0;padding-bottom:60%;\"><iframe src=\"data:text/html;charset=utf-8;base64,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\" style=\"position:absolute;width:100%;height:100%;left:0;top:0;border:none !important;\" allowfullscreen webkitallowfullscreen mozallowfullscreen></iframe></div></div>"
      ],
      "text/plain": [
       "<folium.folium.Map at 0x7fa9dd6fb3c8>"
      ]
     },
     "execution_count": 12,
     "metadata": {},
     "output_type": "execute_result"
    }
   ],
   "source": [
    "manhattan_map"
   ]
  },
  {
   "cell_type": "markdown",
   "metadata": {},
   "source": [
    "Do you see that blue dot near Time's Square?  That is our marker.  \n",
    "\n",
    "So now that we can plot one marker on a map, we should have a sense of how we can plot many markers on a map to display our taxi ride data.  We simply plot a map, and then we add a marker for each location of a taxi trip.\n",
    "\n",
    "Now let's write some functions to allow us to plot maps and add markers a little more easily.  "
   ]
  },
  {
   "cell_type": "markdown",
   "metadata": {},
   "source": [
    "#### Writing some map plotting functions"
   ]
  },
  {
   "cell_type": "markdown",
   "metadata": {},
   "source": [
    "As a first step towards this, note that the functions to create both a marker and map each take in a location as two element list, representing the latitude and longitude values.  Take another look:\n",
    "\n",
    "```python\n",
    "marker = folium.CircleMarker(location = [40.7589, -73.9851])\n",
    "manhattan_map = folium.Map(location=[40.7589, -73.9851])\n",
    "```\n",
    "\n",
    "So let's write a function called to create this two element list from a trip.  Write a function called `location` that  takes in a trip as an argument and returns a list where the first element is the latitude and the second is the longitude.  Remember that a location looks like the following:"
   ]
  },
  {
   "cell_type": "code",
   "execution_count": 13,
   "metadata": {},
   "outputs": [
    {
     "data": {
      "text/plain": [
       "{'pickup_latitude': 40.64499,\n",
       " 'pickup_longitude': -73.78115,\n",
       " 'trip_distance': 18.38}"
      ]
     },
     "execution_count": 13,
     "metadata": {},
     "output_type": "execute_result"
    }
   ],
   "source": [
    "first_trip = {'pickup_latitude': 40.64499, 'pickup_longitude': -73.78115,  'trip_distance': 18.38}\n",
    "first_trip"
   ]
  },
  {
   "cell_type": "code",
   "execution_count": 18,
   "metadata": {},
   "outputs": [],
   "source": [
    "def location(trip):\n",
    "    location_list = [trip['pickup_latitude'], trip['pickup_longitude']]\n",
    "    return location_list\n",
    "    "
   ]
  },
  {
   "cell_type": "code",
   "execution_count": 19,
   "metadata": {},
   "outputs": [
    {
     "data": {
      "text/plain": [
       "[40.64499, -73.78115]"
      ]
     },
     "execution_count": 19,
     "metadata": {},
     "output_type": "execute_result"
    }
   ],
   "source": [
    "first_location = location(first_trip) # [40.64499, -73.78115]\n",
    "first_location # [40.64499, -73.78115]"
   ]
  },
  {
   "cell_type": "markdown",
   "metadata": {},
   "source": [
    "Ok, now that we can turn a trip into a location, let's turn a location into a marker.  Write a function called `to_marker` that takes in a location (in the form of a list) as an argument, and returns a folium `circleMarker` for that location.  The radius of the marker should always equal 6."
   ]
  },
  {
   "cell_type": "code",
   "execution_count": 20,
   "metadata": {},
   "outputs": [],
   "source": [
    "def to_marker(location):\n",
    "    marker = folium.CircleMarker(location = [location[0], location[1]], radius=6)\n",
    "    return marker\n",
    "    "
   ]
  },
  {
   "cell_type": "code",
   "execution_count": 21,
   "metadata": {},
   "outputs": [
    {
     "data": {
      "text/plain": [
       "6"
      ]
     },
     "execution_count": 21,
     "metadata": {},
     "output_type": "execute_result"
    }
   ],
   "source": [
    "import json\n",
    "times_square_marker = to_marker([40.7589, -73.9851])\n",
    "\n",
    "times_square_marker and times_square_marker.location # [40.7589, -73.9851]\n",
    "times_square_marker and json.loads(times_square_marker.options)['radius']# 6"
   ]
  },
  {
   "cell_type": "markdown",
   "metadata": {},
   "source": [
    "Ok, now that we know how to produce a single marker, let's write a function to produce lots.  We can write a function called `markers_from_trips` that takes in a list of trips, and returns a marker object for each trip.  "
   ]
  },
  {
   "cell_type": "code",
   "execution_count": 22,
   "metadata": {},
   "outputs": [],
   "source": [
    "def markers_from_trips(trips):\n",
    "    marked_trips = list(map(lambda trip: to_marker(location(trip)),trips))\n",
    "    return marked_trips"
   ]
  },
  {
   "cell_type": "code",
   "execution_count": 23,
   "metadata": {},
   "outputs": [],
   "source": [
    "trip_markers = markers_from_trips(cleaned_trips)"
   ]
  },
  {
   "cell_type": "code",
   "execution_count": 24,
   "metadata": {},
   "outputs": [
    {
     "data": {
      "text/plain": [
       "[{'trip_distance': 18.38,\n",
       "  'pickup_latitude': 40.64499,\n",
       "  'pickup_longitude': -73.78115},\n",
       " {'trip_distance': 1.3,\n",
       "  'pickup_latitude': 40.766931,\n",
       "  'pickup_longitude': -73.982098},\n",
       " {'trip_distance': 4.5,\n",
       "  'pickup_latitude': 40.77773,\n",
       "  'pickup_longitude': -73.951902},\n",
       " {'trip_distance': 2.4,\n",
       "  'pickup_latitude': 40.795678,\n",
       "  'pickup_longitude': -73.971049}]"
      ]
     },
     "execution_count": 24,
     "metadata": {},
     "output_type": "execute_result"
    }
   ],
   "source": [
    "cleaned_trips[0:4]"
   ]
  },
  {
   "cell_type": "code",
   "execution_count": 25,
   "metadata": {},
   "outputs": [
    {
     "data": {
      "text/plain": [
       "[[40.64499, -73.78115],\n",
       " [40.766931, -73.982098],\n",
       " [40.77773, -73.951902],\n",
       " [40.795678, -73.971049]]"
      ]
     },
     "execution_count": 25,
     "metadata": {},
     "output_type": "execute_result"
    }
   ],
   "source": [
    "trip_markers and len(trip_markers) # 1000\n",
    "\n",
    "list(map(lambda marker: marker.location, trip_markers[0:4]))\n",
    "# [[40.64499, -73.78115],\n",
    "#  [40.766931, -73.982098],\n",
    "#  [40.77773, -73.951902],\n",
    "#  [40.795678, -73.971049]]"
   ]
  },
  {
   "cell_type": "markdown",
   "metadata": {},
   "source": [
    "Ok, now that we have a function that creates locations, and a function that creates markers, it is time to write a function to plot a map. \n",
    "\n",
    "Write a function called `map_from` that, provided the first argument of a list location and second argument an integer representing the `zoom_start`, returns a `folium` map the corresponding location and `zoom_start` attributes.\n",
    "\n",
    "> Hint: The following is how to write a map with folium:\n",
    "> ```python \n",
    "    folium.Map(location=location, zoom_start=zoom_amount)\n",
    "> ```"
   ]
  },
  {
   "cell_type": "code",
   "execution_count": 46,
   "metadata": {},
   "outputs": [],
   "source": [
    "def map_from(location, zoom_amount):\n",
    "    new_map = folium.Map(location=location, zoom_start=zoom_amount)\n",
    "    return new_map"
   ]
  },
  {
   "cell_type": "code",
   "execution_count": 47,
   "metadata": {},
   "outputs": [],
   "source": [
    "times_square_map = map_from([40.7589, -73.9851], 15)\n"
   ]
  },
  {
   "cell_type": "code",
   "execution_count": 48,
   "metadata": {
    "scrolled": true
   },
   "outputs": [
    {
     "data": {
      "text/html": [
       "<div style=\"width:100%;\"><div style=\"position:relative;width:100%;height:0;padding-bottom:60%;\"><iframe src=\"data:text/html;charset=utf-8;base64,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\" style=\"position:absolute;width:100%;height:100%;left:0;top:0;border:none !important;\" allowfullscreen webkitallowfullscreen mozallowfullscreen></iframe></div></div>"
      ],
      "text/plain": [
       "<folium.folium.Map at 0x7f150f088390>"
      ]
     },
     "execution_count": 48,
     "metadata": {},
     "output_type": "execute_result"
    }
   ],
   "source": [
    "times_square_marker and times_square_marker.add_to(times_square_map)\n",
    "times_square_map"
   ]
  },
  {
   "cell_type": "markdown",
   "metadata": {},
   "source": [
    "Now that we have a marker and a map, now let's write a function that adds a lot of markers to a map.  This function should add each marker in the list to the map object then return the updated map object."
   ]
  },
  {
   "cell_type": "code",
   "execution_count": 49,
   "metadata": {},
   "outputs": [],
   "source": [
    "manhattan_map = map_from([40.7589, -73.9851], 13)"
   ]
  },
  {
   "cell_type": "code",
   "execution_count": 54,
   "metadata": {},
   "outputs": [],
   "source": [
    "def add_markers(markers, map_obj):\n",
    "    marked_map = list(map(lambda marker: marker.add_to(map_obj), markers))\n",
    "    return marked_map"
   ]
  },
  {
   "cell_type": "code",
   "execution_count": 55,
   "metadata": {
    "scrolled": false
   },
   "outputs": [],
   "source": [
    "map_with_markers = add_markers(trip_markers, manhattan_map)"
   ]
  },
  {
   "cell_type": "code",
   "execution_count": 56,
   "metadata": {},
   "outputs": [
    {
     "data": {
      "text/plain": [
       "[<folium.vector_layers.CircleMarker at 0x7f150f1bde80>,\n",
       " <folium.vector_layers.CircleMarker at 0x7f150f1bdac8>,\n",
       " <folium.vector_layers.CircleMarker at 0x7f150f1bd6a0>,\n",
       " <folium.vector_layers.CircleMarker at 0x7f150f1bdfd0>,\n",
       " <folium.vector_layers.CircleMarker at 0x7f150f1bdf28>,\n",
       " <folium.vector_layers.CircleMarker at 0x7f150f1bdef0>,\n",
       " <folium.vector_layers.CircleMarker at 0x7f150f1bd908>,\n",
       " <folium.vector_layers.CircleMarker at 0x7f150f1ea048>,\n",
       " <folium.vector_layers.CircleMarker at 0x7f150f1ea1d0>,\n",
       " <folium.vector_layers.CircleMarker at 0x7f150f1ea198>,\n",
       " <folium.vector_layers.CircleMarker at 0x7f150f1ea0f0>,\n",
       " <folium.vector_layers.CircleMarker at 0x7f150f1ea390>,\n",
       " <folium.vector_layers.CircleMarker at 0x7f150f1ea3c8>,\n",
       " <folium.vector_layers.CircleMarker at 0x7f150f1bdcc0>,\n",
       " <folium.vector_layers.CircleMarker at 0x7f150f1bd8d0>,\n",
       " <folium.vector_layers.CircleMarker at 0x7f150f1bd588>,\n",
       " <folium.vector_layers.CircleMarker at 0x7f150f1bd208>,\n",
       " <folium.vector_layers.CircleMarker at 0x7f150f1bd978>,\n",
       " <folium.vector_layers.CircleMarker at 0x7f150f1bd668>,\n",
       " <folium.vector_layers.CircleMarker at 0x7f150f1bd940>,\n",
       " <folium.vector_layers.CircleMarker at 0x7f150f1ea160>,\n",
       " <folium.vector_layers.CircleMarker at 0x7f150f1ea080>,\n",
       " <folium.vector_layers.CircleMarker at 0x7f150f1ea4e0>,\n",
       " <folium.vector_layers.CircleMarker at 0x7f150f1ea518>,\n",
       " <folium.vector_layers.CircleMarker at 0x7f150f1ea400>,\n",
       " <folium.vector_layers.CircleMarker at 0x7f150f1ea5f8>,\n",
       " <folium.vector_layers.CircleMarker at 0x7f150f1ea6a0>,\n",
       " <folium.vector_layers.CircleMarker at 0x7f150f1ea748>,\n",
       " <folium.vector_layers.CircleMarker at 0x7f150f1ea7f0>,\n",
       " <folium.vector_layers.CircleMarker at 0x7f150f1ea898>,\n",
       " <folium.vector_layers.CircleMarker at 0x7f150f1ea940>,\n",
       " <folium.vector_layers.CircleMarker at 0x7f150f1ea9e8>,\n",
       " <folium.vector_layers.CircleMarker at 0x7f150f1eaa90>,\n",
       " <folium.vector_layers.CircleMarker at 0x7f150f1eab38>,\n",
       " <folium.vector_layers.CircleMarker at 0x7f150f1bddd8>,\n",
       " <folium.vector_layers.CircleMarker at 0x7f150f1bd198>,\n",
       " <folium.vector_layers.CircleMarker at 0x7f150f1bd278>,\n",
       " <folium.vector_layers.CircleMarker at 0x7f150f1bdbe0>,\n",
       " <folium.vector_layers.CircleMarker at 0x7f150f1bd710>,\n",
       " <folium.vector_layers.CircleMarker at 0x7f150f1ea828>,\n",
       " <folium.vector_layers.CircleMarker at 0x7f150f1ea6d8>,\n",
       " <folium.vector_layers.CircleMarker at 0x7f150f1ea7b8>,\n",
       " <folium.vector_layers.CircleMarker at 0x7f150f1ea550>,\n",
       " <folium.vector_layers.CircleMarker at 0x7f150f1ea5c0>,\n",
       " <folium.vector_layers.CircleMarker at 0x7f150f1ea278>,\n",
       " <folium.vector_layers.CircleMarker at 0x7f150f1ea470>,\n",
       " <folium.vector_layers.CircleMarker at 0x7f150f1ea2e8>,\n",
       " <folium.vector_layers.CircleMarker at 0x7f150f1eabe0>,\n",
       " <folium.vector_layers.CircleMarker at 0x7f150f1eaac8>,\n",
       " <folium.vector_layers.CircleMarker at 0x7f150f1eacf8>,\n",
       " <folium.vector_layers.CircleMarker at 0x7f150f1ead30>,\n",
       " <folium.vector_layers.CircleMarker at 0x7f150f1eadd8>,\n",
       " <folium.vector_layers.CircleMarker at 0x7f150f1eae80>,\n",
       " <folium.vector_layers.CircleMarker at 0x7f150f1eaf28>,\n",
       " <folium.vector_layers.CircleMarker at 0x7f150f1eafd0>,\n",
       " <folium.vector_layers.CircleMarker at 0x7f150f1eaeb8>,\n",
       " <folium.vector_layers.CircleMarker at 0x7f150f1eab00>,\n",
       " <folium.vector_layers.CircleMarker at 0x7f150f1eaef0>,\n",
       " <folium.vector_layers.CircleMarker at 0x7f150f1eac50>,\n",
       " <folium.vector_layers.CircleMarker at 0x7f150f1eacc0>,\n",
       " <folium.vector_layers.CircleMarker at 0x7f150f1ea208>,\n",
       " <folium.vector_layers.CircleMarker at 0x7f150f1ea0b8>,\n",
       " <folium.vector_layers.CircleMarker at 0x7f150f1ea358>,\n",
       " <folium.vector_layers.CircleMarker at 0x7f150f1ea4a8>,\n",
       " <folium.vector_layers.CircleMarker at 0x7f150f1eaa58>,\n",
       " <folium.vector_layers.CircleMarker at 0x7f150f1ea780>,\n",
       " <folium.vector_layers.CircleMarker at 0x7f150f1ea630>,\n",
       " <folium.vector_layers.CircleMarker at 0x7f150f1bd9b0>,\n",
       " <folium.vector_layers.CircleMarker at 0x7f150f1bdd30>,\n",
       " <folium.vector_layers.CircleMarker at 0x7f150f1bd7b8>,\n",
       " <folium.vector_layers.CircleMarker at 0x7f150f17a128>,\n",
       " <folium.vector_layers.CircleMarker at 0x7f150f17a278>,\n",
       " <folium.vector_layers.CircleMarker at 0x7f150f17a2b0>,\n",
       " <folium.vector_layers.CircleMarker at 0x7f150f17a358>,\n",
       " <folium.vector_layers.CircleMarker at 0x7f150f17a400>,\n",
       " <folium.vector_layers.CircleMarker at 0x7f150f17a4a8>,\n",
       " <folium.vector_layers.CircleMarker at 0x7f150f17a550>,\n",
       " <folium.vector_layers.CircleMarker at 0x7f150f1bdc88>,\n",
       " <folium.vector_layers.CircleMarker at 0x7f150f1bdf98>,\n",
       " <folium.vector_layers.CircleMarker at 0x7f150f1ea978>,\n",
       " <folium.vector_layers.CircleMarker at 0x7f150f1ea710>,\n",
       " <folium.vector_layers.CircleMarker at 0x7f150f1ea128>,\n",
       " <folium.vector_layers.CircleMarker at 0x7f150f1ea2b0>,\n",
       " <folium.vector_layers.CircleMarker at 0x7f150f1eaf98>,\n",
       " <folium.vector_layers.CircleMarker at 0x7f150f1eae48>,\n",
       " <folium.vector_layers.CircleMarker at 0x7f150f1eaf60>,\n",
       " <folium.vector_layers.CircleMarker at 0x7f150f1ea438>,\n",
       " <folium.vector_layers.CircleMarker at 0x7f150f17a2e8>,\n",
       " <folium.vector_layers.CircleMarker at 0x7f150f17a198>,\n",
       " <folium.vector_layers.CircleMarker at 0x7f150f17a1d0>,\n",
       " <folium.vector_layers.CircleMarker at 0x7f150f17a0f0>,\n",
       " <folium.vector_layers.CircleMarker at 0x7f150f17a4e0>,\n",
       " <folium.vector_layers.CircleMarker at 0x7f150f17a710>,\n",
       " <folium.vector_layers.CircleMarker at 0x7f150f17a748>,\n",
       " <folium.vector_layers.CircleMarker at 0x7f150f17a7f0>,\n",
       " <folium.vector_layers.CircleMarker at 0x7f150f17a898>,\n",
       " <folium.vector_layers.CircleMarker at 0x7f150f17a940>,\n",
       " <folium.vector_layers.CircleMarker at 0x7f150f17a9e8>,\n",
       " <folium.vector_layers.CircleMarker at 0x7f150f17aa90>,\n",
       " <folium.vector_layers.CircleMarker at 0x7f150f1ea668>,\n",
       " <folium.vector_layers.CircleMarker at 0x7f150f1eac88>,\n",
       " <folium.vector_layers.CircleMarker at 0x7f150f1ea8d0>,\n",
       " <folium.vector_layers.CircleMarker at 0x7f150f1bdda0>,\n",
       " <folium.vector_layers.CircleMarker at 0x7f150f1eada0>,\n",
       " <folium.vector_layers.CircleMarker at 0x7f150f1ea9b0>,\n",
       " <folium.vector_layers.CircleMarker at 0x7f150f17a9b0>,\n",
       " <folium.vector_layers.CircleMarker at 0x7f150f17a860>,\n",
       " <folium.vector_layers.CircleMarker at 0x7f150f17a048>,\n",
       " <folium.vector_layers.CircleMarker at 0x7f150f17a6d8>,\n",
       " <folium.vector_layers.CircleMarker at 0x7f150f17a470>,\n",
       " <folium.vector_layers.CircleMarker at 0x7f150f17a160>,\n",
       " <folium.vector_layers.CircleMarker at 0x7f150f17a390>,\n",
       " <folium.vector_layers.CircleMarker at 0x7f150f17ab38>,\n",
       " <folium.vector_layers.CircleMarker at 0x7f150f17aa20>,\n",
       " <folium.vector_layers.CircleMarker at 0x7f150f17ac50>,\n",
       " <folium.vector_layers.CircleMarker at 0x7f150f17ac88>,\n",
       " <folium.vector_layers.CircleMarker at 0x7f150f17ad30>,\n",
       " <folium.vector_layers.CircleMarker at 0x7f150f17add8>,\n",
       " <folium.vector_layers.CircleMarker at 0x7f150f17ae80>,\n",
       " <folium.vector_layers.CircleMarker at 0x7f150f17af28>,\n",
       " <folium.vector_layers.CircleMarker at 0x7f150f17afd0>,\n",
       " <folium.vector_layers.CircleMarker at 0x7f150f1bdf60>,\n",
       " <folium.vector_layers.CircleMarker at 0x7f150f1eae10>,\n",
       " <folium.vector_layers.CircleMarker at 0x7f150f1eab70>,\n",
       " <folium.vector_layers.CircleMarker at 0x7f150f1ea860>,\n",
       " <folium.vector_layers.CircleMarker at 0x7f150f17acc0>,\n",
       " <folium.vector_layers.CircleMarker at 0x7f150f17abe0>,\n",
       " <folium.vector_layers.CircleMarker at 0x7f150f17a668>,\n",
       " <folium.vector_layers.CircleMarker at 0x7f150f17a3c8>,\n",
       " <folium.vector_layers.CircleMarker at 0x7f150f17a978>,\n",
       " <folium.vector_layers.CircleMarker at 0x7f150f17a0b8>,\n",
       " <folium.vector_layers.CircleMarker at 0x7f150f17a630>,\n",
       " <folium.vector_layers.CircleMarker at 0x7f150f17a828>,\n",
       " <folium.vector_layers.CircleMarker at 0x7f150f17a908>,\n",
       " <folium.vector_layers.CircleMarker at 0x7f150f17aeb8>,\n",
       " <folium.vector_layers.CircleMarker at 0x7f150f17a7b8>,\n",
       " <folium.vector_layers.CircleMarker at 0x7f150f191128>,\n",
       " <folium.vector_layers.CircleMarker at 0x7f150f191208>,\n",
       " <folium.vector_layers.CircleMarker at 0x7f150f1912b0>,\n",
       " <folium.vector_layers.CircleMarker at 0x7f150f191358>,\n",
       " <folium.vector_layers.CircleMarker at 0x7f150f191400>,\n",
       " <folium.vector_layers.CircleMarker at 0x7f150f1914a8>,\n",
       " <folium.vector_layers.CircleMarker at 0x7f150f191550>,\n",
       " <folium.vector_layers.CircleMarker at 0x7f150f17af98>,\n",
       " <folium.vector_layers.CircleMarker at 0x7f150f17a588>,\n",
       " <folium.vector_layers.CircleMarker at 0x7f150f17a5f8>,\n",
       " <folium.vector_layers.CircleMarker at 0x7f150f17a208>,\n",
       " <folium.vector_layers.CircleMarker at 0x7f150f17aef0>,\n",
       " <folium.vector_layers.CircleMarker at 0x7f150f17aac8>,\n",
       " <folium.vector_layers.CircleMarker at 0x7f150f17aba8>,\n",
       " <folium.vector_layers.CircleMarker at 0x7f150f1ea908>,\n",
       " <folium.vector_layers.CircleMarker at 0x7f150f1ea240>,\n",
       " <folium.vector_layers.CircleMarker at 0x7f150f191390>,\n",
       " <folium.vector_layers.CircleMarker at 0x7f150f1913c8>,\n",
       " <folium.vector_layers.CircleMarker at 0x7f150f191278>,\n",
       " <folium.vector_layers.CircleMarker at 0x7f150f1910b8>,\n",
       " <folium.vector_layers.CircleMarker at 0x7f150f1915f8>,\n",
       " <folium.vector_layers.CircleMarker at 0x7f150f1914e0>,\n",
       " <folium.vector_layers.CircleMarker at 0x7f150f191710>,\n",
       " <folium.vector_layers.CircleMarker at 0x7f150f191748>,\n",
       " <folium.vector_layers.CircleMarker at 0x7f150f1917f0>,\n",
       " <folium.vector_layers.CircleMarker at 0x7f150f191898>,\n",
       " <folium.vector_layers.CircleMarker at 0x7f150f191940>,\n",
       " <folium.vector_layers.CircleMarker at 0x7f150f1919e8>,\n",
       " <folium.vector_layers.CircleMarker at 0x7f150f1eac18>,\n",
       " <folium.vector_layers.CircleMarker at 0x7f150f1eaa20>,\n",
       " <folium.vector_layers.CircleMarker at 0x7f150f17a080>,\n",
       " <folium.vector_layers.CircleMarker at 0x7f150f17af60>,\n",
       " <folium.vector_layers.CircleMarker at 0x7f150f17a240>,\n",
       " <folium.vector_layers.CircleMarker at 0x7f150f17aa58>,\n",
       " <folium.vector_layers.CircleMarker at 0x7f150f17acf8>,\n",
       " <folium.vector_layers.CircleMarker at 0x7f150f191780>,\n",
       " <folium.vector_layers.CircleMarker at 0x7f150f1916a0>,\n",
       " <folium.vector_layers.CircleMarker at 0x7f150f191080>,\n",
       " <folium.vector_layers.CircleMarker at 0x7f150f1911d0>,\n",
       " <folium.vector_layers.CircleMarker at 0x7f150f191438>,\n",
       " <folium.vector_layers.CircleMarker at 0x7f150f1910f0>,\n",
       " <folium.vector_layers.CircleMarker at 0x7f150f191518>,\n",
       " <folium.vector_layers.CircleMarker at 0x7f150f191978>,\n",
       " <folium.vector_layers.CircleMarker at 0x7f150f191ba8>,\n",
       " <folium.vector_layers.CircleMarker at 0x7f150f191be0>,\n",
       " <folium.vector_layers.CircleMarker at 0x7f150f191c88>,\n",
       " <folium.vector_layers.CircleMarker at 0x7f150f191d30>,\n",
       " <folium.vector_layers.CircleMarker at 0x7f150f191dd8>,\n",
       " <folium.vector_layers.CircleMarker at 0x7f150f191e80>,\n",
       " <folium.vector_layers.CircleMarker at 0x7f150f191f28>,\n",
       " <folium.vector_layers.CircleMarker at 0x7f150f1ea320>,\n",
       " <folium.vector_layers.CircleMarker at 0x7f150f17ada0>,\n",
       " <folium.vector_layers.CircleMarker at 0x7f150f17a320>,\n",
       " <folium.vector_layers.CircleMarker at 0x7f150f17ab70>,\n",
       " <folium.vector_layers.CircleMarker at 0x7f150f191e48>,\n",
       " <folium.vector_layers.CircleMarker at 0x7f150f191cf8>,\n",
       " <folium.vector_layers.CircleMarker at 0x7f150f1915c0>,\n",
       " <folium.vector_layers.CircleMarker at 0x7f150f191b70>,\n",
       " <folium.vector_layers.CircleMarker at 0x7f150f191630>,\n",
       " <folium.vector_layers.CircleMarker at 0x7f150f191198>,\n",
       " <folium.vector_layers.CircleMarker at 0x7f150f191908>,\n",
       " <folium.vector_layers.CircleMarker at 0x7f150f191668>,\n",
       " <folium.vector_layers.CircleMarker at 0x7f150f191828>,\n",
       " <folium.vector_layers.CircleMarker at 0x7f150f191fd0>,\n",
       " <folium.vector_layers.CircleMarker at 0x7f150f191f60>,\n",
       " <folium.vector_layers.CircleMarker at 0x7f150f191a90>,\n",
       " <folium.vector_layers.CircleMarker at 0x7f150f1a6128>,\n",
       " <folium.vector_layers.CircleMarker at 0x7f150f1a6208>,\n",
       " <folium.vector_layers.CircleMarker at 0x7f150f1a62b0>,\n",
       " <folium.vector_layers.CircleMarker at 0x7f150f1a6358>,\n",
       " <folium.vector_layers.CircleMarker at 0x7f150f1a6400>,\n",
       " <folium.vector_layers.CircleMarker at 0x7f150f1a64a8>,\n",
       " <folium.vector_layers.CircleMarker at 0x7f150f191d68>,\n",
       " <folium.vector_layers.CircleMarker at 0x7f150f191e10>,\n",
       " <folium.vector_layers.CircleMarker at 0x7f150f191240>,\n",
       " <folium.vector_layers.CircleMarker at 0x7f150f191048>,\n",
       " <folium.vector_layers.CircleMarker at 0x7f150f191c18>,\n",
       " <folium.vector_layers.CircleMarker at 0x7f150f191c50>,\n",
       " <folium.vector_layers.CircleMarker at 0x7f150f191ef0>,\n",
       " <folium.vector_layers.CircleMarker at 0x7f150f191a58>,\n",
       " <folium.vector_layers.CircleMarker at 0x7f150f191a20>,\n",
       " <folium.vector_layers.CircleMarker at 0x7f150f1bd1d0>,\n",
       " <folium.vector_layers.CircleMarker at 0x7f150f17a518>,\n",
       " <folium.vector_layers.CircleMarker at 0x7f150f1eaba8>,\n",
       " <folium.vector_layers.CircleMarker at 0x7f150f17a438>,\n",
       " <folium.vector_layers.CircleMarker at 0x7f150f17ae48>,\n",
       " <folium.vector_layers.CircleMarker at 0x7f153ca02780>,\n",
       " <folium.vector_layers.CircleMarker at 0x7f150f1aef28>,\n",
       " <folium.vector_layers.CircleMarker at 0x7f150f1aeb70>,\n",
       " <folium.vector_layers.CircleMarker at 0x7f150f1aed68>,\n",
       " <folium.vector_layers.CircleMarker at 0x7f150f1a63c8>,\n",
       " <folium.vector_layers.CircleMarker at 0x7f150f1a6278>,\n",
       " <folium.vector_layers.CircleMarker at 0x7f150f1a60b8>,\n",
       " <folium.vector_layers.CircleMarker at 0x7f150f1a6550>,\n",
       " <folium.vector_layers.CircleMarker at 0x7f150f1ea588>,\n",
       " <folium.vector_layers.CircleMarker at 0x7f153ca02908>,\n",
       " <folium.vector_layers.CircleMarker at 0x7f150f1bd320>,\n",
       " <folium.vector_layers.CircleMarker at 0x7f150f1aeef0>,\n",
       " <folium.vector_layers.CircleMarker at 0x7f150f17a5c0>,\n",
       " <folium.vector_layers.CircleMarker at 0x7f150f17ae10>,\n",
       " <folium.vector_layers.CircleMarker at 0x7f150f17ac18>,\n",
       " <folium.vector_layers.CircleMarker at 0x7f150f191b38>,\n",
       " <folium.vector_layers.CircleMarker at 0x7f150f1917b8>,\n",
       " <folium.vector_layers.CircleMarker at 0x7f150f1912e8>,\n",
       " <folium.vector_layers.CircleMarker at 0x7f150f1916d8>,\n",
       " <folium.vector_layers.CircleMarker at 0x7f150f191470>,\n",
       " <folium.vector_layers.CircleMarker at 0x7f150f1a6390>,\n",
       " <folium.vector_layers.CircleMarker at 0x7f150f1a6320>,\n",
       " <folium.vector_layers.CircleMarker at 0x7f150f1a6048>,\n",
       " <folium.vector_layers.CircleMarker at 0x7f150f1a6080>,\n",
       " <folium.vector_layers.CircleMarker at 0x7f150f1a66a0>,\n",
       " <folium.vector_layers.CircleMarker at 0x7f150f1a6748>,\n",
       " <folium.vector_layers.CircleMarker at 0x7f150f1a67f0>,\n",
       " <folium.vector_layers.CircleMarker at 0x7f150f1a6898>,\n",
       " <folium.vector_layers.CircleMarker at 0x7f150f1a6940>,\n",
       " <folium.vector_layers.CircleMarker at 0x7f150f1a69e8>,\n",
       " <folium.vector_layers.CircleMarker at 0x7f150f191860>,\n",
       " <folium.vector_layers.CircleMarker at 0x7f150f191588>,\n",
       " <folium.vector_layers.CircleMarker at 0x7f153ca02d68>,\n",
       " <folium.vector_layers.CircleMarker at 0x7f150f191ac8>,\n",
       " <folium.vector_layers.CircleMarker at 0x7f150f1918d0>,\n",
       " <folium.vector_layers.CircleMarker at 0x7f150f1aee80>,\n",
       " <folium.vector_layers.CircleMarker at 0x7f150f1aeb38>,\n",
       " <folium.vector_layers.CircleMarker at 0x7f150f17a8d0>,\n",
       " <folium.vector_layers.CircleMarker at 0x7f150f1a6908>,\n",
       " <folium.vector_layers.CircleMarker at 0x7f150f1a67b8>,\n",
       " <folium.vector_layers.CircleMarker at 0x7f150f1a6470>,\n",
       " <folium.vector_layers.CircleMarker at 0x7f150f1a64e0>,\n",
       " <folium.vector_layers.CircleMarker at 0x7f150f1a60f0>,\n",
       " <folium.vector_layers.CircleMarker at 0x7f150f1a6a90>,\n",
       " <folium.vector_layers.CircleMarker at 0x7f150f1a6978>,\n",
       " <folium.vector_layers.CircleMarker at 0x7f150f1a6ba8>,\n",
       " <folium.vector_layers.CircleMarker at 0x7f150f1a6be0>,\n",
       " <folium.vector_layers.CircleMarker at 0x7f150f1a6c88>,\n",
       " <folium.vector_layers.CircleMarker at 0x7f150f1a6d30>,\n",
       " <folium.vector_layers.CircleMarker at 0x7f150f1a6dd8>,\n",
       " <folium.vector_layers.CircleMarker at 0x7f150f1a6e80>,\n",
       " <folium.vector_layers.CircleMarker at 0x7f150f1a6f28>,\n",
       " <folium.vector_layers.CircleMarker at 0x7f150f1ae7b8>,\n",
       " <folium.vector_layers.CircleMarker at 0x7f150f17ab00>,\n",
       " <folium.vector_layers.CircleMarker at 0x7f150f17a780>,\n",
       " <folium.vector_layers.CircleMarker at 0x7f150f191eb8>,\n",
       " <folium.vector_layers.CircleMarker at 0x7f150f191cc0>,\n",
       " <folium.vector_layers.CircleMarker at 0x7f150f1a6e48>,\n",
       " <folium.vector_layers.CircleMarker at 0x7f150f1a6cf8>,\n",
       " <folium.vector_layers.CircleMarker at 0x7f150f1a6b00>,\n",
       " <folium.vector_layers.CircleMarker at 0x7f150f1a6b70>,\n",
       " <folium.vector_layers.CircleMarker at 0x7f150f1a62e8>,\n",
       " <folium.vector_layers.CircleMarker at 0x7f150f1a65f8>,\n",
       " <folium.vector_layers.CircleMarker at 0x7f150f1a6780>,\n",
       " <folium.vector_layers.CircleMarker at 0x7f150f1a6860>,\n",
       " <folium.vector_layers.CircleMarker at 0x7f150f1a6fd0>,\n",
       " <folium.vector_layers.CircleMarker at 0x7f150f1a6f60>,\n",
       " <folium.vector_layers.CircleMarker at 0x7f150f1a69b0>,\n",
       " <folium.vector_layers.CircleMarker at 0x7f150f13d128>,\n",
       " <folium.vector_layers.CircleMarker at 0x7f150f13d208>,\n",
       " <folium.vector_layers.CircleMarker at 0x7f150f13d2b0>,\n",
       " <folium.vector_layers.CircleMarker at 0x7f150f13d358>,\n",
       " <folium.vector_layers.CircleMarker at 0x7f150f13d400>,\n",
       " <folium.vector_layers.CircleMarker at 0x7f150f13d4a8>,\n",
       " <folium.vector_layers.CircleMarker at 0x7f150f1a6d68>,\n",
       " <folium.vector_layers.CircleMarker at 0x7f150f1a6e10>,\n",
       " <folium.vector_layers.CircleMarker at 0x7f150f1a6438>,\n",
       " <folium.vector_layers.CircleMarker at 0x7f150f1a6ac8>,\n",
       " <folium.vector_layers.CircleMarker at 0x7f150f1a6cc0>,\n",
       " <folium.vector_layers.CircleMarker at 0x7f150f17a6a0>,\n",
       " <folium.vector_layers.CircleMarker at 0x7f150f1ead68>,\n",
       " <folium.vector_layers.CircleMarker at 0x7f150f1919b0>,\n",
       " <folium.vector_layers.CircleMarker at 0x7f150f191160>,\n",
       " <folium.vector_layers.CircleMarker at 0x7f150f1a6c50>,\n",
       " <folium.vector_layers.CircleMarker at 0x7f150f13d3c8>,\n",
       " <folium.vector_layers.CircleMarker at 0x7f150f13d278>,\n",
       " <folium.vector_layers.CircleMarker at 0x7f150f13d0b8>,\n",
       " <folium.vector_layers.CircleMarker at 0x7f150f13d550>,\n",
       " <folium.vector_layers.CircleMarker at 0x7f150f13d438>,\n",
       " <folium.vector_layers.CircleMarker at 0x7f150f13d668>,\n",
       " <folium.vector_layers.CircleMarker at 0x7f150f13d6a0>,\n",
       " <folium.vector_layers.CircleMarker at 0x7f150f13d748>,\n",
       " <folium.vector_layers.CircleMarker at 0x7f150f13d7f0>,\n",
       " <folium.vector_layers.CircleMarker at 0x7f150f13d898>,\n",
       " <folium.vector_layers.CircleMarker at 0x7f150f13d940>,\n",
       " <folium.vector_layers.CircleMarker at 0x7f150f13d9e8>,\n",
       " <folium.vector_layers.CircleMarker at 0x7f150f191f98>,\n",
       " <folium.vector_layers.CircleMarker at 0x7f153ca02898>,\n",
       " <folium.vector_layers.CircleMarker at 0x7f150f1a6da0>,\n",
       " <folium.vector_layers.CircleMarker at 0x7f150f1a6eb8>,\n",
       " <folium.vector_layers.CircleMarker at 0x7f150f1a65c0>,\n",
       " <folium.vector_layers.CircleMarker at 0x7f150f1a6b38>,\n",
       " <folium.vector_layers.CircleMarker at 0x7f150f13d828>,\n",
       " <folium.vector_layers.CircleMarker at 0x7f150f13d860>,\n",
       " <folium.vector_layers.CircleMarker at 0x7f150f13d710>,\n",
       " <folium.vector_layers.CircleMarker at 0x7f150f13d048>,\n",
       " <folium.vector_layers.CircleMarker at 0x7f150f13d588>,\n",
       " <folium.vector_layers.CircleMarker at 0x7f150f13d240>,\n",
       " <folium.vector_layers.CircleMarker at 0x7f150f13d320>,\n",
       " <folium.vector_layers.CircleMarker at 0x7f150f13da90>,\n",
       " <folium.vector_layers.CircleMarker at 0x7f150f13d978>,\n",
       " <folium.vector_layers.CircleMarker at 0x7f150f13dba8>,\n",
       " <folium.vector_layers.CircleMarker at 0x7f150f13dbe0>,\n",
       " <folium.vector_layers.CircleMarker at 0x7f150f13dc88>,\n",
       " <folium.vector_layers.CircleMarker at 0x7f150f13dd30>,\n",
       " <folium.vector_layers.CircleMarker at 0x7f150f13ddd8>,\n",
       " <folium.vector_layers.CircleMarker at 0x7f150f13de80>,\n",
       " <folium.vector_layers.CircleMarker at 0x7f150f13df28>,\n",
       " <folium.vector_layers.CircleMarker at 0x7f150f17ad68>,\n",
       " <folium.vector_layers.CircleMarker at 0x7f150f1a6a20>,\n",
       " <folium.vector_layers.CircleMarker at 0x7f150f1a6198>,\n",
       " <folium.vector_layers.CircleMarker at 0x7f150f1a6160>,\n",
       " <folium.vector_layers.CircleMarker at 0x7f150f13de48>,\n",
       " <folium.vector_layers.CircleMarker at 0x7f150f13dcf8>,\n",
       " <folium.vector_layers.CircleMarker at 0x7f150f13db00>,\n",
       " <folium.vector_layers.CircleMarker at 0x7f150f13db70>,\n",
       " <folium.vector_layers.CircleMarker at 0x7f150f13d160>,\n",
       " <folium.vector_layers.CircleMarker at 0x7f150f13d0f0>,\n",
       " <folium.vector_layers.CircleMarker at 0x7f150f13d4e0>,\n",
       " <folium.vector_layers.CircleMarker at 0x7f150f13d080>,\n",
       " <folium.vector_layers.CircleMarker at 0x7f150f13d908>,\n",
       " <folium.vector_layers.CircleMarker at 0x7f150f13dfd0>,\n",
       " <folium.vector_layers.CircleMarker at 0x7f150f13df60>,\n",
       " <folium.vector_layers.CircleMarker at 0x7f150f13d9b0>,\n",
       " <folium.vector_layers.CircleMarker at 0x7f150f1500f0>,\n",
       " <folium.vector_layers.CircleMarker at 0x7f150f150208>,\n",
       " <folium.vector_layers.CircleMarker at 0x7f150f1502b0>,\n",
       " <folium.vector_layers.CircleMarker at 0x7f150f150358>,\n",
       " <folium.vector_layers.CircleMarker at 0x7f150f150400>,\n",
       " <folium.vector_layers.CircleMarker at 0x7f150f191320>,\n",
       " <folium.vector_layers.CircleMarker at 0x7f150f1a6630>,\n",
       " <folium.vector_layers.CircleMarker at 0x7f150f1a6668>,\n",
       " <folium.vector_layers.CircleMarker at 0x7f150f13d5f8>,\n",
       " <folium.vector_layers.CircleMarker at 0x7f150f13d7b8>,\n",
       " <folium.vector_layers.CircleMarker at 0x7f150f13d198>,\n",
       " <folium.vector_layers.CircleMarker at 0x7f150f13d630>,\n",
       " <folium.vector_layers.CircleMarker at 0x7f150f13dc18>,\n",
       " <folium.vector_layers.CircleMarker at 0x7f150f13dc50>,\n",
       " <folium.vector_layers.CircleMarker at 0x7f150f13def0>,\n",
       " <folium.vector_layers.CircleMarker at 0x7f150f13da20>,\n",
       " <folium.vector_layers.CircleMarker at 0x7f150f1503c8>,\n",
       " <folium.vector_layers.CircleMarker at 0x7f150f150278>,\n",
       " <folium.vector_layers.CircleMarker at 0x7f150f150080>,\n",
       " <folium.vector_layers.CircleMarker at 0x7f150f150390>,\n",
       " <folium.vector_layers.CircleMarker at 0x7f150f1505c0>,\n",
       " <folium.vector_layers.CircleMarker at 0x7f150f1505f8>,\n",
       " <folium.vector_layers.CircleMarker at 0x7f150f1506a0>,\n",
       " <folium.vector_layers.CircleMarker at 0x7f150f150748>,\n",
       " <folium.vector_layers.CircleMarker at 0x7f150f1507f0>,\n",
       " <folium.vector_layers.CircleMarker at 0x7f150f150898>,\n",
       " <folium.vector_layers.CircleMarker at 0x7f150f150940>,\n",
       " <folium.vector_layers.CircleMarker at 0x7f150f13deb8>,\n",
       " <folium.vector_layers.CircleMarker at 0x7f150f13d390>,\n",
       " <folium.vector_layers.CircleMarker at 0x7f150f13d2e8>,\n",
       " <folium.vector_layers.CircleMarker at 0x7f150f13d5c0>,\n",
       " <folium.vector_layers.CircleMarker at 0x7f150f1a6c18>,\n",
       " <folium.vector_layers.CircleMarker at 0x7f150f1a6240>,\n",
       " <folium.vector_layers.CircleMarker at 0x7f150f13de10>,\n",
       " <folium.vector_layers.CircleMarker at 0x7f150f150860>,\n",
       " <folium.vector_layers.CircleMarker at 0x7f150f150710>,\n",
       " <folium.vector_layers.CircleMarker at 0x7f150f150048>,\n",
       " <folium.vector_layers.CircleMarker at 0x7f150f150588>,\n",
       " <folium.vector_layers.CircleMarker at 0x7f150f150240>,\n",
       " <folium.vector_layers.CircleMarker at 0x7f150f150320>,\n",
       " <folium.vector_layers.CircleMarker at 0x7f150f1509e8>,\n",
       " <folium.vector_layers.CircleMarker at 0x7f150f1508d0>,\n",
       " <folium.vector_layers.CircleMarker at 0x7f150f150b00>,\n",
       " <folium.vector_layers.CircleMarker at 0x7f150f150b38>,\n",
       " <folium.vector_layers.CircleMarker at 0x7f150f150be0>,\n",
       " <folium.vector_layers.CircleMarker at 0x7f150f150c88>,\n",
       " <folium.vector_layers.CircleMarker at 0x7f150f150d30>,\n",
       " <folium.vector_layers.CircleMarker at 0x7f150f150dd8>,\n",
       " <folium.vector_layers.CircleMarker at 0x7f150f150e80>,\n",
       " <folium.vector_layers.CircleMarker at 0x7f150f1a6ef0>,\n",
       " <folium.vector_layers.CircleMarker at 0x7f150f13dcc0>,\n",
       " <folium.vector_layers.CircleMarker at 0x7f150f13d8d0>,\n",
       " <folium.vector_layers.CircleMarker at 0x7f150f13d780>,\n",
       " <folium.vector_layers.CircleMarker at 0x7f150f150cc0>,\n",
       " <folium.vector_layers.CircleMarker at 0x7f150f150cf8>,\n",
       " <folium.vector_layers.CircleMarker at 0x7f150f150ba8>,\n",
       " <folium.vector_layers.CircleMarker at 0x7f150f150518>,\n",
       " <folium.vector_layers.CircleMarker at 0x7f150f150a20>,\n",
       " <folium.vector_layers.CircleMarker at 0x7f150f150128>,\n",
       " <folium.vector_layers.CircleMarker at 0x7f150f1504e0>,\n",
       " <folium.vector_layers.CircleMarker at 0x7f150f1506d8>,\n",
       " <folium.vector_layers.CircleMarker at 0x7f150f1507b8>,\n",
       " <folium.vector_layers.CircleMarker at 0x7f150f150f28>,\n",
       " <folium.vector_layers.CircleMarker at 0x7f150f150e10>,\n",
       " <folium.vector_layers.CircleMarker at 0x7f150f150780>,\n",
       " <folium.vector_layers.CircleMarker at 0x7f150f150f98>,\n",
       " <folium.vector_layers.CircleMarker at 0x7f150f167128>,\n",
       " <folium.vector_layers.CircleMarker at 0x7f150f167208>,\n",
       " <folium.vector_layers.CircleMarker at 0x7f150f1672b0>,\n",
       " <folium.vector_layers.CircleMarker at 0x7f150f167358>,\n",
       " <folium.vector_layers.CircleMarker at 0x7f150f167400>,\n",
       " <folium.vector_layers.CircleMarker at 0x7f150f150c18>,\n",
       " <folium.vector_layers.CircleMarker at 0x7f150f150f60>,\n",
       " <folium.vector_layers.CircleMarker at 0x7f150f150160>,\n",
       " <folium.vector_layers.CircleMarker at 0x7f150f150550>,\n",
       " <folium.vector_layers.CircleMarker at 0x7f150f150978>,\n",
       " <folium.vector_layers.CircleMarker at 0x7f150f1504a8>,\n",
       " <folium.vector_layers.CircleMarker at 0x7f150f150da0>,\n",
       " <folium.vector_layers.CircleMarker at 0x7f150f150a90>,\n",
       " <folium.vector_layers.CircleMarker at 0x7f150f13dac8>,\n",
       " <folium.vector_layers.CircleMarker at 0x7f150f13d1d0>,\n",
       " <folium.vector_layers.CircleMarker at 0x7f150f13dd68>,\n",
       " <folium.vector_layers.CircleMarker at 0x7f150f1670f0>,\n",
       " <folium.vector_layers.CircleMarker at 0x7f150f1670b8>,\n",
       " <folium.vector_layers.CircleMarker at 0x7f150f1674a8>,\n",
       " <folium.vector_layers.CircleMarker at 0x7f150f167390>,\n",
       " <folium.vector_layers.CircleMarker at 0x7f150f1675c0>,\n",
       " <folium.vector_layers.CircleMarker at 0x7f150f1675f8>,\n",
       " <folium.vector_layers.CircleMarker at 0x7f150f1676a0>,\n",
       " <folium.vector_layers.CircleMarker at 0x7f150f167748>,\n",
       " <folium.vector_layers.CircleMarker at 0x7f150f1677f0>,\n",
       " <folium.vector_layers.CircleMarker at 0x7f150f167898>,\n",
       " <folium.vector_layers.CircleMarker at 0x7f150f1a66d8>,\n",
       " <folium.vector_layers.CircleMarker at 0x7f150f13d470>,\n",
       " <folium.vector_layers.CircleMarker at 0x7f150f150a58>,\n",
       " <folium.vector_layers.CircleMarker at 0x7f150f150630>,\n",
       " <folium.vector_layers.CircleMarker at 0x7f150f150ac8>,\n",
       " <folium.vector_layers.CircleMarker at 0x7f150f150668>,\n",
       " <folium.vector_layers.CircleMarker at 0x7f150f1500b8>,\n",
       " <folium.vector_layers.CircleMarker at 0x7f150f167940>,\n",
       " <folium.vector_layers.CircleMarker at 0x7f150f1677b8>,\n",
       " <folium.vector_layers.CircleMarker at 0x7f150f167668>,\n",
       " <folium.vector_layers.CircleMarker at 0x7f150f167048>,\n",
       " <folium.vector_layers.CircleMarker at 0x7f150f1674e0>,\n",
       " <folium.vector_layers.CircleMarker at 0x7f150f167198>,\n",
       " <folium.vector_layers.CircleMarker at 0x7f150f167240>,\n",
       " <folium.vector_layers.CircleMarker at 0x7f150f167828>,\n",
       " <folium.vector_layers.CircleMarker at 0x7f150f167a58>,\n",
       " <folium.vector_layers.CircleMarker at 0x7f150f167a90>,\n",
       " <folium.vector_layers.CircleMarker at 0x7f150f167b38>,\n",
       " <folium.vector_layers.CircleMarker at 0x7f150f167be0>,\n",
       " <folium.vector_layers.CircleMarker at 0x7f150f167c88>,\n",
       " <folium.vector_layers.CircleMarker at 0x7f150f167d30>,\n",
       " <folium.vector_layers.CircleMarker at 0x7f150f167dd8>,\n",
       " <folium.vector_layers.CircleMarker at 0x7f150f150b70>,\n",
       " <folium.vector_layers.CircleMarker at 0x7f150f191da0>,\n",
       " <folium.vector_layers.CircleMarker at 0x7f150f1501d0>,\n",
       " <folium.vector_layers.CircleMarker at 0x7f150f150fd0>,\n",
       " <folium.vector_layers.CircleMarker at 0x7f150f1aecc0>,\n",
       " <folium.vector_layers.CircleMarker at 0x7f150f1502e8>,\n",
       " <folium.vector_layers.CircleMarker at 0x7f150f13df98>,\n",
       " <folium.vector_layers.CircleMarker at 0x7f150f13d518>,\n",
       " <folium.vector_layers.CircleMarker at 0x7f150f1a6a58>,\n",
       " <folium.vector_layers.CircleMarker at 0x7f150f1a68d0>,\n",
       " <folium.vector_layers.CircleMarker at 0x7f150f167cf8>,\n",
       " <folium.vector_layers.CircleMarker at 0x7f150f167ba8>,\n",
       " <folium.vector_layers.CircleMarker at 0x7f150f167470>,\n",
       " <folium.vector_layers.CircleMarker at 0x7f150f167a20>,\n",
       " <folium.vector_layers.CircleMarker at 0x7f150f167588>,\n",
       " <folium.vector_layers.CircleMarker at 0x7f150f1672e8>,\n",
       " <folium.vector_layers.CircleMarker at 0x7f150f167630>,\n",
       " <folium.vector_layers.CircleMarker at 0x7f150f167710>,\n",
       " <folium.vector_layers.CircleMarker at 0x7f150f167780>,\n",
       " <folium.vector_layers.CircleMarker at 0x7f150f167e80>,\n",
       " <folium.vector_layers.CircleMarker at 0x7f150f167d68>,\n",
       " <folium.vector_layers.CircleMarker at 0x7f150f167f98>,\n",
       " <folium.vector_layers.CircleMarker at 0x7f150f167fd0>,\n",
       " <folium.vector_layers.CircleMarker at 0x7f150f13d6d8>,\n",
       " <folium.vector_layers.CircleMarker at 0x7f150f13da58>,\n",
       " <folium.vector_layers.CircleMarker at 0x7f150f1a6f98>,\n",
       " <folium.vector_layers.CircleMarker at 0x7f150f150ef0>,\n",
       " <folium.vector_layers.CircleMarker at 0x7f150f150c50>,\n",
       " <folium.vector_layers.CircleMarker at 0x7f150f150198>,\n",
       " <folium.vector_layers.CircleMarker at 0x7f150f167f60>,\n",
       " <folium.vector_layers.CircleMarker at 0x7f150f167cc0>,\n",
       " <folium.vector_layers.CircleMarker at 0x7f150f167160>,\n",
       " <folium.vector_layers.CircleMarker at 0x7f150f167278>,\n",
       " <folium.vector_layers.CircleMarker at 0x7f150f1679e8>,\n",
       " <folium.vector_layers.CircleMarker at 0x7f150f1671d0>,\n",
       " <folium.vector_layers.CircleMarker at 0x7f150f1678d0>,\n",
       " <folium.vector_layers.CircleMarker at 0x7f150f167c18>,\n",
       " <folium.vector_layers.CircleMarker at 0x7f150f167c50>,\n",
       " <folium.vector_layers.CircleMarker at 0x7f150f0f6048>,\n",
       " <folium.vector_layers.CircleMarker at 0x7f150f0f6160>,\n",
       " <folium.vector_layers.CircleMarker at 0x7f150f0f6240>,\n",
       " <folium.vector_layers.CircleMarker at 0x7f150f0f62e8>,\n",
       " <folium.vector_layers.CircleMarker at 0x7f150f0f6390>,\n",
       " <folium.vector_layers.CircleMarker at 0x7f150f0f6438>,\n",
       " <folium.vector_layers.CircleMarker at 0x7f150f167e10>,\n",
       " <folium.vector_layers.CircleMarker at 0x7f150f167978>,\n",
       " <folium.vector_layers.CircleMarker at 0x7f150f167ac8>,\n",
       " <folium.vector_layers.CircleMarker at 0x7f150f167860>,\n",
       " <folium.vector_layers.CircleMarker at 0x7f150f1679b0>,\n",
       " <folium.vector_layers.CircleMarker at 0x7f150f1676d8>,\n",
       " <folium.vector_layers.CircleMarker at 0x7f150f167320>,\n",
       " <folium.vector_layers.CircleMarker at 0x7f150f13db38>,\n",
       " <folium.vector_layers.CircleMarker at 0x7f150f1a6710>,\n",
       " <folium.vector_layers.CircleMarker at 0x7f150f1a6588>,\n",
       " <folium.vector_layers.CircleMarker at 0x7f150f150d68>,\n",
       " <folium.vector_layers.CircleMarker at 0x7f150f0f6358>,\n",
       " <folium.vector_layers.CircleMarker at 0x7f150f0f61d0>,\n",
       " <folium.vector_layers.CircleMarker at 0x7f150f0f64e0>,\n",
       " <folium.vector_layers.CircleMarker at 0x7f150f0f63c8>,\n",
       " <folium.vector_layers.CircleMarker at 0x7f150f0f65f8>,\n",
       " <folium.vector_layers.CircleMarker at 0x7f150f0f6630>,\n",
       " <folium.vector_layers.CircleMarker at 0x7f150f0f66d8>,\n",
       " <folium.vector_layers.CircleMarker at 0x7f150f0f6780>,\n",
       " <folium.vector_layers.CircleMarker at 0x7f150f0f6828>,\n",
       " <folium.vector_layers.CircleMarker at 0x7f150f0f68d0>,\n",
       " <folium.vector_layers.CircleMarker at 0x7f150f0f6978>,\n",
       " <folium.vector_layers.CircleMarker at 0x7f150f1a61d0>,\n",
       " <folium.vector_layers.CircleMarker at 0x7f150f150438>,\n",
       " <folium.vector_layers.CircleMarker at 0x7f150f1509b0>,\n",
       " <folium.vector_layers.CircleMarker at 0x7f150f167eb8>,\n",
       " <folium.vector_layers.CircleMarker at 0x7f150f167518>,\n",
       " <folium.vector_layers.CircleMarker at 0x7f150f167f28>,\n",
       " <folium.vector_layers.CircleMarker at 0x7f150f167b00>,\n",
       " <folium.vector_layers.CircleMarker at 0x7f150f0f6898>,\n",
       " <folium.vector_layers.CircleMarker at 0x7f150f0f6748>,\n",
       " <folium.vector_layers.CircleMarker at 0x7f150f0f6550>,\n",
       " <folium.vector_layers.CircleMarker at 0x7f150f0f65c0>,\n",
       " <folium.vector_layers.CircleMarker at 0x7f150f0f6198>,\n",
       " <folium.vector_layers.CircleMarker at 0x7f150f0f62b0>,\n",
       " <folium.vector_layers.CircleMarker at 0x7f150f0f6a20>,\n",
       " <folium.vector_layers.CircleMarker at 0x7f150f0f6908>,\n",
       " <folium.vector_layers.CircleMarker at 0x7f150f0f6b38>,\n",
       " <folium.vector_layers.CircleMarker at 0x7f150f0f6b70>,\n",
       " <folium.vector_layers.CircleMarker at 0x7f150f0f6c18>,\n",
       " <folium.vector_layers.CircleMarker at 0x7f150f0f6cc0>,\n",
       " <folium.vector_layers.CircleMarker at 0x7f150f0f6d68>,\n",
       " <folium.vector_layers.CircleMarker at 0x7f150f0f6e10>,\n",
       " <folium.vector_layers.CircleMarker at 0x7f150f0f6eb8>,\n",
       " <folium.vector_layers.CircleMarker at 0x7f150f13dda0>,\n",
       " <folium.vector_layers.CircleMarker at 0x7f150f1673c8>,\n",
       " <folium.vector_layers.CircleMarker at 0x7f150f167438>,\n",
       " <folium.vector_layers.CircleMarker at 0x7f150f150e48>,\n",
       " <folium.vector_layers.CircleMarker at 0x7f150f0f6cf8>,\n",
       " <folium.vector_layers.CircleMarker at 0x7f150f0f6d30>,\n",
       " <folium.vector_layers.CircleMarker at 0x7f150f0f6be0>,\n",
       " <folium.vector_layers.CircleMarker at 0x7f150f0f6400>,\n",
       " <folium.vector_layers.CircleMarker at 0x7f150f0f6a58>,\n",
       " <folium.vector_layers.CircleMarker at 0x7f150f0f60b8>,\n",
       " <folium.vector_layers.CircleMarker at 0x7f150f0f6518>,\n",
       " <folium.vector_layers.CircleMarker at 0x7f150f0f6710>,\n",
       " <folium.vector_layers.CircleMarker at 0x7f150f0f67f0>,\n",
       " <folium.vector_layers.CircleMarker at 0x7f150f0f6f60>,\n",
       " <folium.vector_layers.CircleMarker at 0x7f150f0f6e48>,\n",
       " <folium.vector_layers.CircleMarker at 0x7f150f0f6fd0>,\n",
       " <folium.vector_layers.CircleMarker at 0x7f150f10d048>,\n",
       " <folium.vector_layers.CircleMarker at 0x7f150f10d160>,\n",
       " <folium.vector_layers.CircleMarker at 0x7f150f10d240>,\n",
       " <folium.vector_layers.CircleMarker at 0x7f150f10d2e8>,\n",
       " <folium.vector_layers.CircleMarker at 0x7f150f10d390>,\n",
       " <folium.vector_layers.CircleMarker at 0x7f150f10d438>,\n",
       " <folium.vector_layers.CircleMarker at 0x7f150f0f6c50>,\n",
       " <folium.vector_layers.CircleMarker at 0x7f150f0f6f98>,\n",
       " <folium.vector_layers.CircleMarker at 0x7f150f0f6128>,\n",
       " <folium.vector_layers.CircleMarker at 0x7f150f0f6588>,\n",
       " <folium.vector_layers.CircleMarker at 0x7f150f0f69b0>,\n",
       " <folium.vector_layers.CircleMarker at 0x7f150f0f6278>,\n",
       " <folium.vector_layers.CircleMarker at 0x7f150f150eb8>,\n",
       " <folium.vector_layers.CircleMarker at 0x7f150f0f6dd8>,\n",
       " <folium.vector_layers.CircleMarker at 0x7f150f0f6e80>,\n",
       " <folium.vector_layers.CircleMarker at 0x7f150f167da0>,\n",
       " <folium.vector_layers.CircleMarker at 0x7f150f167080>,\n",
       " <folium.vector_layers.CircleMarker at 0x7f150f10d128>,\n",
       " <folium.vector_layers.CircleMarker at 0x7f150f10d0f0>,\n",
       " <folium.vector_layers.CircleMarker at 0x7f150f10d4e0>,\n",
       " <folium.vector_layers.CircleMarker at 0x7f150f10d3c8>,\n",
       " <folium.vector_layers.CircleMarker at 0x7f150f10d5f8>,\n",
       " <folium.vector_layers.CircleMarker at 0x7f150f10d630>,\n",
       " <folium.vector_layers.CircleMarker at 0x7f150f10d6d8>,\n",
       " <folium.vector_layers.CircleMarker at 0x7f150f10d780>,\n",
       " <folium.vector_layers.CircleMarker at 0x7f150f10d828>,\n",
       " <folium.vector_layers.CircleMarker at 0x7f150f10d8d0>,\n",
       " <folium.vector_layers.CircleMarker at 0x7f150f10d978>,\n",
       " <folium.vector_layers.CircleMarker at 0x7f150f167550>,\n",
       " <folium.vector_layers.CircleMarker at 0x7f150f150470>,\n",
       " <folium.vector_layers.CircleMarker at 0x7f150f0f6a90>,\n",
       " <folium.vector_layers.CircleMarker at 0x7f150f0f6860>,\n",
       " <folium.vector_layers.CircleMarker at 0x7f150f0f6208>,\n",
       " <folium.vector_layers.CircleMarker at 0x7f150f0f6940>,\n",
       " <folium.vector_layers.CircleMarker at 0x7f150f0f67b8>,\n",
       " <folium.vector_layers.CircleMarker at 0x7f150f10d668>,\n",
       " <folium.vector_layers.CircleMarker at 0x7f150f10d588>,\n",
       " <folium.vector_layers.CircleMarker at 0x7f150f10d0b8>,\n",
       " <folium.vector_layers.CircleMarker at 0x7f150f10d2b0>,\n",
       " <folium.vector_layers.CircleMarker at 0x7f150f10d320>,\n",
       " <folium.vector_layers.CircleMarker at 0x7f150f10d198>,\n",
       " <folium.vector_layers.CircleMarker at 0x7f150f10da20>,\n",
       " <folium.vector_layers.CircleMarker at 0x7f150f10d908>,\n",
       " <folium.vector_layers.CircleMarker at 0x7f150f10db38>,\n",
       " <folium.vector_layers.CircleMarker at 0x7f150f10db70>,\n",
       " <folium.vector_layers.CircleMarker at 0x7f150f10dc18>,\n",
       " <folium.vector_layers.CircleMarker at 0x7f150f10dcc0>,\n",
       " <folium.vector_layers.CircleMarker at 0x7f150f10dd68>,\n",
       " <folium.vector_layers.CircleMarker at 0x7f150f10de10>,\n",
       " <folium.vector_layers.CircleMarker at 0x7f150f10deb8>,\n",
       " <folium.vector_layers.CircleMarker at 0x7f150f150828>,\n",
       " <folium.vector_layers.CircleMarker at 0x7f150f0f6c88>,\n",
       " <folium.vector_layers.CircleMarker at 0x7f150f0f6ba8>,\n",
       " <folium.vector_layers.CircleMarker at 0x7f150f0f6080>,\n",
       " <folium.vector_layers.CircleMarker at 0x7f150f10dcf8>,\n",
       " <folium.vector_layers.CircleMarker at 0x7f150f10dd30>,\n",
       " <folium.vector_layers.CircleMarker at 0x7f150f10dbe0>,\n",
       " <folium.vector_layers.CircleMarker at 0x7f150f10d278>,\n",
       " <folium.vector_layers.CircleMarker at 0x7f150f10da58>,\n",
       " <folium.vector_layers.CircleMarker at 0x7f150f10d080>,\n",
       " <folium.vector_layers.CircleMarker at 0x7f150f10d358>,\n",
       " <folium.vector_layers.CircleMarker at 0x7f150f10d898>,\n",
       " <folium.vector_layers.CircleMarker at 0x7f150f10d470>,\n",
       " <folium.vector_layers.CircleMarker at 0x7f150f10d9e8>,\n",
       " <folium.vector_layers.CircleMarker at 0x7f150f10dfd0>,\n",
       " <folium.vector_layers.CircleMarker at 0x7f150f10def0>,\n",
       " <folium.vector_layers.CircleMarker at 0x7f150f10df98>,\n",
       " <folium.vector_layers.CircleMarker at 0x7f150f1220f0>,\n",
       " <folium.vector_layers.CircleMarker at 0x7f150f1221d0>,\n",
       " <folium.vector_layers.CircleMarker at 0x7f150f122278>,\n",
       " <folium.vector_layers.CircleMarker at 0x7f150f122320>,\n",
       " <folium.vector_layers.CircleMarker at 0x7f150f167908>,\n",
       " <folium.vector_layers.CircleMarker at 0x7f150f0f66a0>,\n",
       " <folium.vector_layers.CircleMarker at 0x7f150f0f6da0>,\n",
       " <folium.vector_layers.CircleMarker at 0x7f150f10d940>,\n",
       " <folium.vector_layers.CircleMarker at 0x7f150f10d550>,\n",
       " <folium.vector_layers.CircleMarker at 0x7f150f10d208>,\n",
       " <folium.vector_layers.CircleMarker at 0x7f150f10d5c0>,\n",
       " <folium.vector_layers.CircleMarker at 0x7f150f10da90>,\n",
       " <folium.vector_layers.CircleMarker at 0x7f150f10d1d0>,\n",
       " <folium.vector_layers.CircleMarker at 0x7f150f10dac8>,\n",
       " <folium.vector_layers.CircleMarker at 0x7f150f10de80>,\n",
       " <folium.vector_layers.CircleMarker at 0x7f150f10dc88>,\n",
       " <folium.vector_layers.CircleMarker at 0x7f150f1222e8>,\n",
       " <folium.vector_layers.CircleMarker at 0x7f150f122160>,\n",
       " <folium.vector_layers.CircleMarker at 0x7f150f1222b0>,\n",
       " <folium.vector_layers.CircleMarker at 0x7f150f1224e0>,\n",
       " <folium.vector_layers.CircleMarker at 0x7f150f122518>,\n",
       " <folium.vector_layers.CircleMarker at 0x7f150f1225c0>,\n",
       " <folium.vector_layers.CircleMarker at 0x7f150f122668>,\n",
       " <folium.vector_layers.CircleMarker at 0x7f150f122710>,\n",
       " <folium.vector_layers.CircleMarker at 0x7f150f1227b8>,\n",
       " <folium.vector_layers.CircleMarker at 0x7f150f122860>,\n",
       " <folium.vector_layers.CircleMarker at 0x7f150f10dda0>,\n",
       " <folium.vector_layers.CircleMarker at 0x7f150f10db00>,\n",
       " <folium.vector_layers.CircleMarker at 0x7f150f10d6a0>,\n",
       " <folium.vector_layers.CircleMarker at 0x7f150f10d7b8>,\n",
       " <folium.vector_layers.CircleMarker at 0x7f150f167b70>,\n",
       " <folium.vector_layers.CircleMarker at 0x7f150f10d7f0>,\n",
       " <folium.vector_layers.CircleMarker at 0x7f150f0f60f0>,\n",
       " <folium.vector_layers.CircleMarker at 0x7f150f0f6668>,\n",
       " <folium.vector_layers.CircleMarker at 0x7f150f122550>,\n",
       " <folium.vector_layers.CircleMarker at 0x7f150f122470>,\n",
       " <folium.vector_layers.CircleMarker at 0x7f150f122048>,\n",
       " <folium.vector_layers.CircleMarker at 0x7f150f122128>,\n",
       " <folium.vector_layers.CircleMarker at 0x7f150f122240>,\n",
       " <folium.vector_layers.CircleMarker at 0x7f150f122908>,\n",
       " <folium.vector_layers.CircleMarker at 0x7f150f1227f0>,\n",
       " <folium.vector_layers.CircleMarker at 0x7f150f122a20>,\n",
       " <folium.vector_layers.CircleMarker at 0x7f150f122a58>,\n",
       " <folium.vector_layers.CircleMarker at 0x7f150f122b00>,\n",
       " <folium.vector_layers.CircleMarker at 0x7f150f122ba8>,\n",
       " <folium.vector_layers.CircleMarker at 0x7f150f122c50>,\n",
       " <folium.vector_layers.CircleMarker at 0x7f150f122cf8>,\n",
       " <folium.vector_layers.CircleMarker at 0x7f150f122da0>,\n",
       " <folium.vector_layers.CircleMarker at 0x7f150f0f6b00>,\n",
       " <folium.vector_layers.CircleMarker at 0x7f150f10dc50>,\n",
       " <folium.vector_layers.CircleMarker at 0x7f150f10d9b0>,\n",
       " <folium.vector_layers.CircleMarker at 0x7f150f10dba8>,\n",
       " <folium.vector_layers.CircleMarker at 0x7f150f10d400>,\n",
       " <folium.vector_layers.CircleMarker at 0x7f150f122a90>,\n",
       " <folium.vector_layers.CircleMarker at 0x7f150f1229b0>,\n",
       " <folium.vector_layers.CircleMarker at 0x7f150f1223c8>,\n",
       " <folium.vector_layers.CircleMarker at 0x7f150f122400>,\n",
       " <folium.vector_layers.CircleMarker at 0x7f150f122748>,\n",
       " <folium.vector_layers.CircleMarker at 0x7f150f1226d8>,\n",
       " <folium.vector_layers.CircleMarker at 0x7f150f122080>,\n",
       " <folium.vector_layers.CircleMarker at 0x7f150f1225f8>,\n",
       " <folium.vector_layers.CircleMarker at 0x7f150f122e48>,\n",
       " <folium.vector_layers.CircleMarker at 0x7f150f122d30>,\n",
       " <folium.vector_layers.CircleMarker at 0x7f150f122f60>,\n",
       " <folium.vector_layers.CircleMarker at 0x7f150f122f98>,\n",
       " <folium.vector_layers.CircleMarker at 0x7f150f122dd8>,\n",
       " <folium.vector_layers.CircleMarker at 0x7f150f0b7080>,\n",
       " <folium.vector_layers.CircleMarker at 0x7f150f0b7160>,\n",
       " <folium.vector_layers.CircleMarker at 0x7f150f0b7278>,\n",
       " <folium.vector_layers.CircleMarker at 0x7f150f0b7320>,\n",
       " <folium.vector_layers.CircleMarker at 0x7f150f122d68>,\n",
       " <folium.vector_layers.CircleMarker at 0x7f150f1226a0>,\n",
       " <folium.vector_layers.CircleMarker at 0x7f150f122c88>,\n",
       " <folium.vector_layers.CircleMarker at 0x7f150f122940>,\n",
       " <folium.vector_layers.CircleMarker at 0x7f150f122198>,\n",
       " <folium.vector_layers.CircleMarker at 0x7f150f122c18>,\n",
       " <folium.vector_layers.CircleMarker at 0x7f150f122978>,\n",
       " <folium.vector_layers.CircleMarker at 0x7f150f122b38>,\n",
       " <folium.vector_layers.CircleMarker at 0x7f150f122b70>,\n",
       " <folium.vector_layers.CircleMarker at 0x7f150f10d518>,\n",
       " <folium.vector_layers.CircleMarker at 0x7f150f10df60>,\n",
       " <folium.vector_layers.CircleMarker at 0x7f150f10de48>,\n",
       " <folium.vector_layers.CircleMarker at 0x7f150f0b7128>,\n",
       " <folium.vector_layers.CircleMarker at 0x7f150f0b73c8>,\n",
       " <folium.vector_layers.CircleMarker at 0x7f150f0b72b0>,\n",
       " <folium.vector_layers.CircleMarker at 0x7f150f0b74e0>,\n",
       " <folium.vector_layers.CircleMarker at 0x7f150f0b7518>,\n",
       " <folium.vector_layers.CircleMarker at 0x7f150f0b75c0>,\n",
       " <folium.vector_layers.CircleMarker at 0x7f150f0b7668>,\n",
       " <folium.vector_layers.CircleMarker at 0x7f150f0b7710>,\n",
       " <folium.vector_layers.CircleMarker at 0x7f150f0b77b8>,\n",
       " <folium.vector_layers.CircleMarker at 0x7f150f0b7860>,\n",
       " <folium.vector_layers.CircleMarker at 0x7f150f1224a8>,\n",
       " <folium.vector_layers.CircleMarker at 0x7f150f122780>,\n",
       " <folium.vector_layers.CircleMarker at 0x7f150f122438>,\n",
       " <folium.vector_layers.CircleMarker at 0x7f150f122e80>,\n",
       " <folium.vector_layers.CircleMarker at 0x7f150f122ef0>,\n",
       " <folium.vector_layers.CircleMarker at 0x7f150f1228d0>,\n",
       " <folium.vector_layers.CircleMarker at 0x7f150f167ef0>,\n",
       " <folium.vector_layers.CircleMarker at 0x7f150f122f28>,\n",
       " <folium.vector_layers.CircleMarker at 0x7f150f10df28>,\n",
       " <folium.vector_layers.CircleMarker at 0x7f150f10d710>,\n",
       " <folium.vector_layers.CircleMarker at 0x7f150f0f6f28>,\n",
       " <folium.vector_layers.CircleMarker at 0x7f150f0f6ef0>,\n",
       " <folium.vector_layers.CircleMarker at 0x7f150f0b76a0>,\n",
       " <folium.vector_layers.CircleMarker at 0x7f150f0b76d8>,\n",
       " <folium.vector_layers.CircleMarker at 0x7f150f0b7588>,\n",
       " <folium.vector_layers.CircleMarker at 0x7f150f0b70b8>,\n",
       " <folium.vector_layers.CircleMarker at 0x7f150f0b7400>,\n",
       " <folium.vector_layers.CircleMarker at 0x7f150f0b7208>,\n",
       " <folium.vector_layers.CircleMarker at 0x7f150f0b7748>,\n",
       " <folium.vector_layers.CircleMarker at 0x7f150f0b7940>,\n",
       " <folium.vector_layers.CircleMarker at 0x7f150f0b79e8>,\n",
       " <folium.vector_layers.CircleMarker at 0x7f150f0b72e8>,\n",
       " <folium.vector_layers.CircleMarker at 0x7f150f10ddd8>,\n",
       " <folium.vector_layers.CircleMarker at 0x7f150f10d748>,\n",
       " <folium.vector_layers.CircleMarker at 0x7f150f0f6ac8>,\n",
       " <folium.vector_layers.CircleMarker at 0x7f150f122208>,\n",
       " <folium.vector_layers.CircleMarker at 0x7f150f122e10>,\n",
       " <folium.vector_layers.CircleMarker at 0x7f150f122358>,\n",
       " <folium.vector_layers.CircleMarker at 0x7f150f122898>,\n",
       " <folium.vector_layers.CircleMarker at 0x7f150f1220b8>,\n",
       " <folium.vector_layers.CircleMarker at 0x7f150f0b7908>,\n",
       " <folium.vector_layers.CircleMarker at 0x7f150f0b7978>,\n",
       " <folium.vector_layers.CircleMarker at 0x7f150f0b7048>,\n",
       " <folium.vector_layers.CircleMarker at 0x7f150f0b7550>,\n",
       " <folium.vector_layers.CircleMarker at 0x7f150f0b7630>,\n",
       " <folium.vector_layers.CircleMarker at 0x7f150f0b78d0>,\n",
       " <folium.vector_layers.CircleMarker at 0x7f150f0b7b38>,\n",
       " <folium.vector_layers.CircleMarker at 0x7f150f0b7b70>,\n",
       " <folium.vector_layers.CircleMarker at 0x7f150f0b7a58>,\n",
       " <folium.vector_layers.CircleMarker at 0x7f150f0b7c50>,\n",
       " <folium.vector_layers.CircleMarker at 0x7f150f0b7cf8>,\n",
       " <folium.vector_layers.CircleMarker at 0x7f150f0b7da0>,\n",
       " <folium.vector_layers.CircleMarker at 0x7f150f0b7e48>,\n",
       " <folium.vector_layers.CircleMarker at 0x7f150f0b7ef0>,\n",
       " <folium.vector_layers.CircleMarker at 0x7f150f0f64a8>,\n",
       " <folium.vector_layers.CircleMarker at 0x7f150f1a6828>,\n",
       " <folium.vector_layers.CircleMarker at 0x7f150f122630>,\n",
       " <folium.vector_layers.CircleMarker at 0x7f150f122390>,\n",
       " <folium.vector_layers.CircleMarker at 0x7f150f122588>,\n",
       " <folium.vector_layers.CircleMarker at 0x7f150f0b7d30>,\n",
       " <folium.vector_layers.CircleMarker at 0x7f150f0b7d68>,\n",
       " <folium.vector_layers.CircleMarker at 0x7f150f0b7c18>,\n",
       " <folium.vector_layers.CircleMarker at 0x7f150f0b7780>,\n",
       " <folium.vector_layers.CircleMarker at 0x7f150f0b7ac8>,\n",
       " <folium.vector_layers.CircleMarker at 0x7f150f0b74a8>,\n",
       " <folium.vector_layers.CircleMarker at 0x7f150f0b71d0>,\n",
       " <folium.vector_layers.CircleMarker at 0x7f150f0b79b0>,\n",
       " <folium.vector_layers.CircleMarker at 0x7f150f0b7f98>,\n",
       " <folium.vector_layers.CircleMarker at 0x7f150f0b70f0>,\n",
       " <folium.vector_layers.CircleMarker at 0x7f150f0b7e80>,\n",
       " <folium.vector_layers.CircleMarker at 0x7f150f0cb080>,\n",
       " <folium.vector_layers.CircleMarker at 0x7f150f0cb160>,\n",
       " <folium.vector_layers.CircleMarker at 0x7f150f0cb278>,\n",
       " <folium.vector_layers.CircleMarker at 0x7f150f0cb320>,\n",
       " <folium.vector_layers.CircleMarker at 0x7f150f0cb3c8>,\n",
       " <folium.vector_layers.CircleMarker at 0x7f150f0cb470>,\n",
       " <folium.vector_layers.CircleMarker at 0x7f150f0b7c88>,\n",
       " <folium.vector_layers.CircleMarker at 0x7f150f0b7470>,\n",
       " <folium.vector_layers.CircleMarker at 0x7f150f0b7198>,\n",
       " <folium.vector_layers.CircleMarker at 0x7f150f0b7ba8>,\n",
       " <folium.vector_layers.CircleMarker at 0x7f150f0b7be0>,\n",
       " <folium.vector_layers.CircleMarker at 0x7f150f0b7e10>,\n",
       " <folium.vector_layers.CircleMarker at 0x7f150f0b7b00>,\n",
       " <folium.vector_layers.CircleMarker at 0x7f150f0f6320>,\n",
       " <folium.vector_layers.CircleMarker at 0x7f150f10d860>,\n",
       " <folium.vector_layers.CircleMarker at 0x7f150f122eb8>,\n",
       " <folium.vector_layers.CircleMarker at 0x7f150f0cb2b0>,\n",
       " <folium.vector_layers.CircleMarker at 0x7f150f0cb2e8>,\n",
       " <folium.vector_layers.CircleMarker at 0x7f150f0cb0b8>,\n",
       " <folium.vector_layers.CircleMarker at 0x7f150f0cb518>,\n",
       " <folium.vector_layers.CircleMarker at 0x7f150f0cb400>,\n",
       " <folium.vector_layers.CircleMarker at 0x7f150f0cb630>,\n",
       " <folium.vector_layers.CircleMarker at 0x7f150f0cb668>,\n",
       " <folium.vector_layers.CircleMarker at 0x7f150f0cb710>,\n",
       " <folium.vector_layers.CircleMarker at 0x7f150f0cb7b8>,\n",
       " <folium.vector_layers.CircleMarker at 0x7f150f0cb860>,\n",
       " <folium.vector_layers.CircleMarker at 0x7f150f0cb908>,\n",
       " <folium.vector_layers.CircleMarker at 0x7f150f0cb9b0>,\n",
       " <folium.vector_layers.CircleMarker at 0x7f150f0f6470>,\n",
       " <folium.vector_layers.CircleMarker at 0x7f150f122cc0>,\n",
       " <folium.vector_layers.CircleMarker at 0x7f150f0b7eb8>,\n",
       " <folium.vector_layers.CircleMarker at 0x7f150f0b7dd8>,\n",
       " <folium.vector_layers.CircleMarker at 0x7f150f0b7390>,\n",
       " <folium.vector_layers.CircleMarker at 0x7f150f0b7898>,\n",
       " <folium.vector_layers.CircleMarker at 0x7f150f0b75f8>,\n",
       " <folium.vector_layers.CircleMarker at 0x7f150f0cb6a0>,\n",
       " <folium.vector_layers.CircleMarker at 0x7f150f0cb5c0>,\n",
       " <folium.vector_layers.CircleMarker at 0x7f150f0cb240>,\n",
       " <folium.vector_layers.CircleMarker at 0x7f150f0cb208>,\n",
       " <folium.vector_layers.CircleMarker at 0x7f150f0cb358>,\n",
       " <folium.vector_layers.CircleMarker at 0x7f150f0cb390>,\n",
       " <folium.vector_layers.CircleMarker at 0x7f150f0cba58>,\n",
       " <folium.vector_layers.CircleMarker at 0x7f150f0cb940>,\n",
       " <folium.vector_layers.CircleMarker at 0x7f150f0cbb70>,\n",
       " <folium.vector_layers.CircleMarker at 0x7f150f0cbba8>,\n",
       " <folium.vector_layers.CircleMarker at 0x7f150f0cbc50>,\n",
       " <folium.vector_layers.CircleMarker at 0x7f150f0cbcf8>,\n",
       " <folium.vector_layers.CircleMarker at 0x7f150f0cbda0>,\n",
       " <folium.vector_layers.CircleMarker at 0x7f150f0cbe48>,\n",
       " <folium.vector_layers.CircleMarker at 0x7f150f0cbef0>,\n",
       " <folium.vector_layers.CircleMarker at 0x7f150f10d4a8>,\n",
       " <folium.vector_layers.CircleMarker at 0x7f150f122828>,\n",
       " <folium.vector_layers.CircleMarker at 0x7f150f122be0>,\n",
       " <folium.vector_layers.CircleMarker at 0x7f150f0b7a20>,\n",
       " <folium.vector_layers.CircleMarker at 0x7f150f0cbe10>,\n",
       " <folium.vector_layers.CircleMarker at 0x7f150f0cbcc0>,\n",
       " <folium.vector_layers.CircleMarker at 0x7f150f0cbac8>,\n",
       " <folium.vector_layers.CircleMarker at 0x7f150f0cbb38>,\n",
       " <folium.vector_layers.CircleMarker at 0x7f150f0cb550>,\n",
       " <folium.vector_layers.CircleMarker at 0x7f150f0cb1d0>,\n",
       " <folium.vector_layers.CircleMarker at 0x7f150f0cb828>,\n",
       " <folium.vector_layers.CircleMarker at 0x7f150f0cb588>,\n",
       " <folium.vector_layers.CircleMarker at 0x7f150f0cb748>,\n",
       " <folium.vector_layers.CircleMarker at 0x7f150f0cbf60>,\n",
       " <folium.vector_layers.CircleMarker at 0x7f150f0cbe80>,\n",
       " <folium.vector_layers.CircleMarker at 0x7f150f0cbf28>,\n",
       " <folium.vector_layers.CircleMarker at 0x7f150f0cbdd8>,\n",
       " <folium.vector_layers.CircleMarker at 0x7f150f0df0f0>,\n",
       " <folium.vector_layers.CircleMarker at 0x7f150f0df208>,\n",
       " <folium.vector_layers.CircleMarker at 0x7f150f0df2b0>,\n",
       " <folium.vector_layers.CircleMarker at 0x7f150f0df358>,\n",
       " <folium.vector_layers.CircleMarker at 0x7f150f0cbfd0>,\n",
       " <folium.vector_layers.CircleMarker at 0x7f150f0cb780>,\n",
       " <folium.vector_layers.CircleMarker at 0x7f150f0cb4a8>,\n",
       " <folium.vector_layers.CircleMarker at 0x7f150f0cb128>,\n",
       " <folium.vector_layers.CircleMarker at 0x7f150f0cb048>,\n",
       " <folium.vector_layers.CircleMarker at 0x7f150f122fd0>,\n",
       " <folium.vector_layers.CircleMarker at 0x7f150f0cbc88>,\n",
       " <folium.vector_layers.CircleMarker at 0x7f150f0cb9e8>,\n",
       " <folium.vector_layers.CircleMarker at 0x7f150f0cbc18>,\n",
       " <folium.vector_layers.CircleMarker at 0x7f150f0b77f0>,\n",
       " <folium.vector_layers.CircleMarker at 0x7f150f0b7240>,\n",
       " <folium.vector_layers.CircleMarker at 0x7f150f0b7358>,\n",
       " <folium.vector_layers.CircleMarker at 0x7f150f0df198>,\n",
       " <folium.vector_layers.CircleMarker at 0x7f150f0df400>,\n",
       " <folium.vector_layers.CircleMarker at 0x7f150f0df2e8>,\n",
       " <folium.vector_layers.CircleMarker at 0x7f150f0df518>,\n",
       " <folium.vector_layers.CircleMarker at 0x7f150f0df550>,\n",
       " <folium.vector_layers.CircleMarker at 0x7f150f0df5f8>,\n",
       " <folium.vector_layers.CircleMarker at 0x7f150f0df6a0>,\n",
       " <folium.vector_layers.CircleMarker at 0x7f150f0df748>,\n",
       " <folium.vector_layers.CircleMarker at 0x7f150f0df7f0>,\n",
       " <folium.vector_layers.CircleMarker at 0x7f150f0df898>,\n",
       " <folium.vector_layers.CircleMarker at 0x7f150f122ac8>,\n",
       " <folium.vector_layers.CircleMarker at 0x7f150f0b7828>,\n",
       " <folium.vector_layers.CircleMarker at 0x7f150f0cbeb8>,\n",
       " <folium.vector_layers.CircleMarker at 0x7f150f0cba90>,\n",
       " <folium.vector_layers.CircleMarker at 0x7f150f0cb7f0>,\n",
       " <folium.vector_layers.CircleMarker at 0x7f150f0cb5f8>,\n",
       " <folium.vector_layers.CircleMarker at 0x7f150f0cb8d0>,\n",
       " <folium.vector_layers.CircleMarker at 0x7f150f0df6d8>,\n",
       " <folium.vector_layers.CircleMarker at 0x7f150f0df710>,\n",
       " <folium.vector_layers.CircleMarker at 0x7f150f0df5c0>,\n",
       " <folium.vector_layers.CircleMarker at 0x7f150f0df160>,\n",
       " <folium.vector_layers.CircleMarker at 0x7f150f0df438>,\n",
       " <folium.vector_layers.CircleMarker at 0x7f150f0df080>,\n",
       " <folium.vector_layers.CircleMarker at 0x7f150f0df940>,\n",
       " <folium.vector_layers.CircleMarker at 0x7f150f0df828>,\n",
       " <folium.vector_layers.CircleMarker at 0x7f150f0dfa58>,\n",
       " <folium.vector_layers.CircleMarker at 0x7f150f0dfa90>,\n",
       " <folium.vector_layers.CircleMarker at 0x7f150f0dfb38>,\n",
       " <folium.vector_layers.CircleMarker at 0x7f150f0dfbe0>,\n",
       " <folium.vector_layers.CircleMarker at 0x7f150f0dfc88>,\n",
       " <folium.vector_layers.CircleMarker at 0x7f150f0dfd30>,\n",
       " <folium.vector_layers.CircleMarker at 0x7f150f0dfdd8>,\n",
       " <folium.vector_layers.CircleMarker at 0x7f150f0cbd68>,\n",
       " <folium.vector_layers.CircleMarker at 0x7f150f0cba20>,\n",
       " <folium.vector_layers.CircleMarker at 0x7f150f0b7fd0>,\n",
       " <folium.vector_layers.CircleMarker at 0x7f150f0cbd30>,\n",
       " <folium.vector_layers.CircleMarker at 0x7f150f0cb438>,\n",
       " <folium.vector_layers.CircleMarker at 0x7f150f0dfac8>,\n",
       " <folium.vector_layers.CircleMarker at 0x7f150f0df9e8>,\n",
       " <folium.vector_layers.CircleMarker at 0x7f150f0df320>,\n",
       " <folium.vector_layers.CircleMarker at 0x7f150f0df048>,\n",
       " <folium.vector_layers.CircleMarker at 0x7f150f0df780>,\n",
       " <folium.vector_layers.CircleMarker at 0x7f150f0df390>,\n",
       " <folium.vector_layers.CircleMarker at 0x7f150f0df1d0>,\n",
       " <folium.vector_layers.CircleMarker at 0x7f150f0df7b8>,\n",
       " <folium.vector_layers.CircleMarker at 0x7f150f0dfe80>,\n",
       " <folium.vector_layers.CircleMarker at 0x7f150f0dfd68>,\n",
       " <folium.vector_layers.CircleMarker at 0x7f150f0dff98>,\n",
       " <folium.vector_layers.CircleMarker at 0x7f150f0dffd0>,\n",
       " <folium.vector_layers.CircleMarker at 0x7f150f0dff28>,\n",
       " <folium.vector_layers.CircleMarker at 0x7f150f0740f0>,\n",
       " <folium.vector_layers.CircleMarker at 0x7f150f074208>,\n",
       " <folium.vector_layers.CircleMarker at 0x7f150f0742b0>,\n",
       " <folium.vector_layers.CircleMarker at 0x7f150f074358>,\n",
       " <folium.vector_layers.CircleMarker at 0x7f150f0dfda0>,\n",
       " <folium.vector_layers.CircleMarker at 0x7f150f0dff60>,\n",
       " <folium.vector_layers.CircleMarker at 0x7f150f0df470>,\n",
       " <folium.vector_layers.CircleMarker at 0x7f150f0df588>,\n",
       " <folium.vector_layers.CircleMarker at 0x7f150f0dfb00>,\n",
       " <folium.vector_layers.CircleMarker at 0x7f150f0b7438>,\n",
       " <folium.vector_layers.CircleMarker at 0x7f150f0df128>,\n",
       " <folium.vector_layers.CircleMarker at 0x7f150f0df4e0>,\n",
       " <folium.vector_layers.CircleMarker at 0x7f150f0dfb70>,\n",
       " <folium.vector_layers.CircleMarker at 0x7f150f0cb898>,\n",
       " <folium.vector_layers.CircleMarker at 0x7f150f0cb6d8>,\n",
       " <folium.vector_layers.CircleMarker at 0x7f150f074128>,\n",
       " <folium.vector_layers.CircleMarker at 0x7f150f074160>,\n",
       " <folium.vector_layers.CircleMarker at 0x7f150f074400>,\n",
       " <folium.vector_layers.CircleMarker at 0x7f150f0742e8>,\n",
       " <folium.vector_layers.CircleMarker at 0x7f150f074518>,\n",
       " <folium.vector_layers.CircleMarker at 0x7f150f074550>,\n",
       " <folium.vector_layers.CircleMarker at 0x7f150f0745f8>,\n",
       " <folium.vector_layers.CircleMarker at 0x7f150f0746a0>,\n",
       " <folium.vector_layers.CircleMarker at 0x7f150f074748>,\n",
       " <folium.vector_layers.CircleMarker at 0x7f150f0747f0>,\n",
       " <folium.vector_layers.CircleMarker at 0x7f150f074898>,\n",
       " <folium.vector_layers.CircleMarker at 0x7f150f0cbb00>,\n",
       " <folium.vector_layers.CircleMarker at 0x7f150f0cb0f0>,\n",
       " <folium.vector_layers.CircleMarker at 0x7f150f0df8d0>,\n",
       " <folium.vector_layers.CircleMarker at 0x7f150f0dfc50>,\n",
       " <folium.vector_layers.CircleMarker at 0x7f150f0df630>,\n",
       " <folium.vector_layers.CircleMarker at 0x7f150f0dfeb8>,\n",
       " <folium.vector_layers.CircleMarker at 0x7f150f0df978>,\n",
       " <folium.vector_layers.CircleMarker at 0x7f150f0746d8>,\n",
       " <folium.vector_layers.CircleMarker at 0x7f150f074710>,\n",
       " <folium.vector_layers.CircleMarker at 0x7f150f0745c0>,\n",
       " <folium.vector_layers.CircleMarker at 0x7f150f0740b8>,\n",
       " <folium.vector_layers.CircleMarker at 0x7f150f074438>,\n",
       " <folium.vector_layers.CircleMarker at 0x7f150f074278>,\n",
       " <folium.vector_layers.CircleMarker at 0x7f150f074940>,\n",
       " <folium.vector_layers.CircleMarker at 0x7f150f074828>,\n",
       " <folium.vector_layers.CircleMarker at 0x7f150f074a58>,\n",
       " <folium.vector_layers.CircleMarker at 0x7f150f074a90>,\n",
       " <folium.vector_layers.CircleMarker at 0x7f150f074b38>,\n",
       " <folium.vector_layers.CircleMarker at 0x7f150f074be0>,\n",
       " <folium.vector_layers.CircleMarker at 0x7f150f074c88>,\n",
       " <folium.vector_layers.CircleMarker at 0x7f150f074d30>,\n",
       " <folium.vector_layers.CircleMarker at 0x7f150f074dd8>,\n",
       " <folium.vector_layers.CircleMarker at 0x7f150f0dfba8>,\n",
       " <folium.vector_layers.CircleMarker at 0x7f150f0df278>,\n",
       " <folium.vector_layers.CircleMarker at 0x7f150f0cb198>,\n",
       " <folium.vector_layers.CircleMarker at 0x7f150f0dfcc0>,\n",
       " <folium.vector_layers.CircleMarker at 0x7f150f0dfc18>,\n",
       " <folium.vector_layers.CircleMarker at 0x7f150f074cf8>,\n",
       " <folium.vector_layers.CircleMarker at 0x7f150f074ba8>,\n",
       " <folium.vector_layers.CircleMarker at 0x7f150f0749b0>,\n",
       " <folium.vector_layers.CircleMarker at 0x7f150f074a20>,\n",
       " <folium.vector_layers.CircleMarker at 0x7f150f0744e0>,\n",
       " <folium.vector_layers.CircleMarker at 0x7f150f074048>,\n",
       " <folium.vector_layers.CircleMarker at 0x7f150f074588>,\n",
       " <folium.vector_layers.CircleMarker at 0x7f150f074668>,\n",
       " <folium.vector_layers.CircleMarker at 0x7f150f074908>,\n",
       " <folium.vector_layers.CircleMarker at 0x7f150f074ef0>,\n",
       " <folium.vector_layers.CircleMarker at 0x7f150f074f28>,\n",
       " <folium.vector_layers.CircleMarker at 0x7f150f074e10>,\n",
       " <folium.vector_layers.CircleMarker at 0x7f150f074f60>,\n",
       " <folium.vector_layers.CircleMarker at 0x7f150f088048>,\n",
       " <folium.vector_layers.CircleMarker at 0x7f150f088128>,\n",
       " <folium.vector_layers.CircleMarker at 0x7f150f088240>,\n",
       " <folium.vector_layers.CircleMarker at 0x7f150f074c18>,\n",
       " <folium.vector_layers.CircleMarker at 0x7f150f074fd0>,\n",
       " <folium.vector_layers.CircleMarker at 0x7f150f074e80>,\n",
       " <folium.vector_layers.CircleMarker at 0x7f150f074780>,\n",
       " <folium.vector_layers.CircleMarker at 0x7f150f074198>]"
      ]
     },
     "execution_count": 56,
     "metadata": {},
     "output_type": "execute_result"
    }
   ],
   "source": [
    "map_with_markers"
   ]
  },
  {
   "cell_type": "markdown",
   "metadata": {},
   "source": [
    "### Using Nearest Neighbors"
   ]
  },
  {
   "cell_type": "markdown",
   "metadata": {},
   "source": [
    "Ok, let's write a function that given a latitude and longitude will predict the distance for us.  We'll do this by first finding the nearest trips given a latitude and longitude. "
   ]
  },
  {
   "cell_type": "markdown",
   "metadata": {},
   "source": [
    "Here we once again apply the nearest neighbors formula. As a first step, write a function named `distance_location` that calculates the distance in pickup location between two trips."
   ]
  },
  {
   "cell_type": "code",
   "execution_count": null,
   "metadata": {},
   "outputs": [],
   "source": [
    "import math\n",
    "\n",
    "def distance_location(selected_trip, neighbor_trip):\n",
    "    pass"
   ]
  },
  {
   "cell_type": "code",
   "execution_count": null,
   "metadata": {},
   "outputs": [],
   "source": [
    "first_trip = {'pickup_latitude': 40.64499, 'pickup_longitude': -73.78115, 'trip_distance': 18.38}\n",
    "second_trip = {'pickup_latitude': 40.766931, 'pickup_longitude': -73.982098, 'trip_distance': 1.3}\n",
    "distance_first_and_second = distance_location(first_trip, second_trip)\n",
    "\n",
    "distance_first_and_second and round(distance_first_and_second, 3) # 0.235"
   ]
  },
  {
   "cell_type": "markdown",
   "metadata": {},
   "source": [
    "Ok, next write a function called `distance_between_neighbors` that adds a new key-value pair, called `distance_from_selected`, that calculates the distance of the `neighbor_trip` from the `selected_trip`."
   ]
  },
  {
   "cell_type": "code",
   "execution_count": null,
   "metadata": {},
   "outputs": [],
   "source": [
    "def distance_between_neighbors(selected_trip, neighbor_trip):\n",
    "    pass"
   ]
  },
  {
   "cell_type": "code",
   "execution_count": null,
   "metadata": {},
   "outputs": [],
   "source": [
    "distance_between_neighbors(first_trip, second_trip)\n",
    "\n",
    "# {'distance_from_selected': 0.23505256047318146,\n",
    "#  'pickup_latitude': 40.766931,\n",
    "#  'pickup_longitude': -73.982098,\n",
    "#  'trip_distance': 1.3}"
   ]
  },
  {
   "cell_type": "markdown",
   "metadata": {},
   "source": [
    "Ok, now our `neighbor_trip` has another attribute called `distance_from_selected`, that indicates the distance from the `neighbor_trip`'s pickup location from the `selected_trip`."
   ]
  },
  {
   "cell_type": "markdown",
   "metadata": {},
   "source": [
    "> ** Understand the data:** Our dictionary now has a few attributes, two of which say distance.  Let's make sure we understand the difference. \n",
    "> * **`distance_from_selected`:** This is our calculation of the distance of the neighbor's pickup location from the selected trip.\n",
    "> * **`trip_distance`:** This is the attribute we were provided initially.  It tells us the length of the neighbor's taxi trip from pickup to drop-off.  "
   ]
  },
  {
   "cell_type": "markdown",
   "metadata": {},
   "source": [
    "Next, write a function called `distance_all` that provided a list of neighbors, returns each of those neighbors with their respective `distance_from_selected` numbers."
   ]
  },
  {
   "cell_type": "code",
   "execution_count": null,
   "metadata": {},
   "outputs": [],
   "source": [
    "def distance_all(selected_individual, neighbors):\n",
    "    pass"
   ]
  },
  {
   "cell_type": "code",
   "execution_count": null,
   "metadata": {},
   "outputs": [],
   "source": [
    "cleaned_trips and distance_all(first_trip, cleaned_trips[0:4])"
   ]
  },
  {
   "cell_type": "markdown",
   "metadata": {},
   "source": [
    "Now write the nearest neighbors formula to calculate the distance of the `selected_trip` from all of the `cleaned_trips` in our dataset.  If no number is provided, it should return the top 3 neighbors."
   ]
  },
  {
   "cell_type": "code",
   "execution_count": null,
   "metadata": {},
   "outputs": [],
   "source": [
    "def nearest_neighbors(selected_trip, trips, number = 3):\n",
    "    pass"
   ]
  },
  {
   "cell_type": "code",
   "execution_count": null,
   "metadata": {},
   "outputs": [],
   "source": [
    "new_trip = {'pickup_latitude': 40.64499,\n",
    "'pickup_longitude': -73.78115,\n",
    "'trip_distance': 18.38}\n",
    "\n",
    "nearest_three_neighbors = nearest_neighbors(new_trip, cleaned_trips or [], number = 3)\n",
    "nearest_three_neighbors\n",
    "# [{'distance_from_selected': 0.0004569288784918792,\n",
    "#   'pickup_latitude': 40.64483,\n",
    "#   'pickup_longitude': -73.781578,\n",
    "#   'trip_distance': 7.78},\n",
    "#  {'distance_from_selected': 0.0011292165425673159,\n",
    "#   'pickup_latitude': 40.644657,\n",
    "#   'pickup_longitude': -73.782229,\n",
    "#   'trip_distance': 12.7},\n",
    "#  {'distance_from_selected': 0.0042359798158141185,\n",
    "#   'pickup_latitude': 40.648509,\n",
    "#   'pickup_longitude': -73.783508,\n",
    "#   'trip_distance': 17.3}]"
   ]
  },
  {
   "cell_type": "markdown",
   "metadata": {},
   "source": [
    "Ok great! Now that we can provide a new trip location, and find the distances of the three nearest trips, we can take  calculate an estimate of the trip distance for that new trip location.  \n",
    "\n",
    "We do so simply by calculating the average of it's nearest neighbors."
   ]
  },
  {
   "cell_type": "code",
   "execution_count": null,
   "metadata": {},
   "outputs": [],
   "source": [
    "import statistics\n",
    "def mean_distance(neighbors):\n",
    "    nearest_distances = list(map(lambda neighbor: neighbor['trip_distance'], neighbors))\n",
    "    return round(statistics.mean(nearest_distances), 3)\n",
    "\n",
    "nearest_three_neighbors = nearest_neighbors(new_trip, cleaned_trips or [], number = 3)\n",
    "distance_estimate_of_selected_trip = mean_distance(nearest_three_neighbors) # 12.593\n",
    "distance_estimate_of_selected_trip"
   ]
  },
  {
   "cell_type": "markdown",
   "metadata": {},
   "source": [
    "### Choosing the correct number of neighbors"
   ]
  },
  {
   "cell_type": "markdown",
   "metadata": {},
   "source": [
    "Now, as we know from the last lesson, one tricky element is to determine how many neighbors to choose, our $k$ value,  before calculating the average.  We want to choose our value of $k$ such that it properly matches actual data, and so that it applies to new data.  There are fancy formulas to ensure that we **train** our algorithm so that our formula is optimized for all data, but here let's see different $k$ values manually.  This is the gist of choosing our $k$ value:\n",
    "\n",
    "* If we choose a $k$ value too low, our formula will be too heavily influenced by a single neighbor, whereas if our $k$ value is too high, we will be choosing so many neighbors that our nearest neighbors formula will not be adjust enough according to locations.\n",
    "\n",
    "Ok, let's experiment with this."
   ]
  },
  {
   "cell_type": "markdown",
   "metadata": {},
   "source": [
    "First, let's choose a midtown location, to see what the trip distance would be.  A Google search reveals the coordinates of 51st and 7th avenue to be the following."
   ]
  },
  {
   "cell_type": "code",
   "execution_count": null,
   "metadata": {},
   "outputs": [],
   "source": [
    "midtown_trip = dict(pickup_latitude=40.761710, pickup_longitude=-73.982760)"
   ]
  },
  {
   "cell_type": "code",
   "execution_count": null,
   "metadata": {},
   "outputs": [],
   "source": [
    "seven_closest = nearest_neighbors(midtown_trip, cleaned_trips, number = 7)\n",
    "seven_closest\n",
    "# [{'trip_distance': 0.58,\n",
    "#   'pickup_latitude': 40.761372,\n",
    "#   'pickup_longitude': -73.982602,\n",
    "#   'distance_from_selected': 0.00037310588309379025},\n",
    "#  {'trip_distance': 0.8,\n",
    "#   'pickup_latitude': 40.762444,\n",
    "#   'pickup_longitude': -73.98244,\n",
    "#   'distance_from_selected': 0.00080072217404248},\n",
    "#  {'trip_distance': 1.4,\n",
    "#   'pickup_latitude': 40.762767,\n",
    "#   'pickup_longitude': -73.982293,\n",
    "#   'distance_from_selected': 0.0011555682584735844},\n",
    "#  {'trip_distance': 8.3,\n",
    "#   'pickup_latitude': 40.762868,\n",
    "#   'pickup_longitude': -73.983233,\n",
    "#   'distance_from_selected': 0.0012508768924205918},\n",
    "#  {'trip_distance': 1.26,\n",
    "#   'pickup_latitude': 40.760057,\n",
    "#   'pickup_longitude': -73.983502,\n",
    "#   'distance_from_selected': 0.0018118976240381972},\n",
    "#  {'trip_distance': 0.0,\n",
    "#   'pickup_latitude': 40.760644,\n",
    "#   'pickup_longitude': -73.984531,\n",
    "#   'distance_from_selected': 0.002067074502774709},\n",
    "#  {'trip_distance': 1.72,\n",
    "#   'pickup_latitude': 40.762107,\n",
    "#   'pickup_longitude': -73.98479,\n",
    "#   'distance_from_selected': 0.0020684557041472677}]"
   ]
  },
  {
   "cell_type": "markdown",
   "metadata": {},
   "source": [
    "Looking at the `distance_from_selected` it appears that our our trips are still fairly close to our selected trip.  Notice that most of the data is within a distance of .002 away, so going to the top 7 nearest neighbors didn't seem to give us neighbors too far from each other, which is a good sign.\n",
    "\n",
    "Still, it's hard to know what distance in latitude and longitude really look like, so let's map the data. "
   ]
  },
  {
   "cell_type": "code",
   "execution_count": null,
   "metadata": {},
   "outputs": [],
   "source": [
    "midtown_location = location(midtown_trip) # [40.76171, -73.98276]\n",
    "midtown_map = map_from(midtown_location, 16)\n",
    "closest_markers = markers_from_trips(seven_closest)\n",
    "\n",
    "add_markers(closest_markers, midtown_map)"
   ]
  },
  {
   "cell_type": "markdown",
   "metadata": {},
   "source": [
    "Ok.  These locations stay fairly close to our estimated location of 51st street and 7th Avenue.  So they could be a good estimate of a trip distance."
   ]
  },
  {
   "cell_type": "code",
   "execution_count": null,
   "metadata": {},
   "outputs": [],
   "source": [
    "mean_distance(seven_closest) # 2.009"
   ]
  },
  {
   "cell_type": "markdown",
   "metadata": {},
   "source": [
    "Ok, now let's try a different location"
   ]
  },
  {
   "cell_type": "code",
   "execution_count": null,
   "metadata": {},
   "outputs": [],
   "source": [
    "charging_bull_closest = nearest_neighbors({'pickup_latitude': 40.7049, 'pickup_longitude': -74.0137}, cleaned_trips, number = 12)"
   ]
  },
  {
   "cell_type": "code",
   "execution_count": null,
   "metadata": {
    "scrolled": true
   },
   "outputs": [],
   "source": [
    "mean_distance(charging_bull_closest) # 3.145"
   ]
  },
  {
   "cell_type": "markdown",
   "metadata": {},
   "source": [
    "Ok, so there appears to be a significant difference between choosing a location near Times Square versus choosing a location at Wall Street."
   ]
  },
  {
   "cell_type": "markdown",
   "metadata": {},
   "source": [
    "### Summary"
   ]
  },
  {
   "cell_type": "markdown",
   "metadata": {},
   "source": [
    "In this lab, we used the nearest neighbors function to predict the length of a taxi ride.  To do so, we selected a location, then found a number of taxi rides closest to that location, and finally took the average trip lengths of the nearest taxi rides to find an estimate of the new ride's trip length.  You can see that even with just a little bit of math and programming we can begin to make meaningful predictions with data."
   ]
  }
 ],
 "metadata": {
  "kernelspec": {
   "display_name": "Python 3",
   "language": "python",
   "name": "python3"
  },
  "language_info": {
   "codemirror_mode": {
    "name": "ipython",
    "version": 3
   },
   "file_extension": ".py",
   "mimetype": "text/x-python",
   "name": "python",
   "nbconvert_exporter": "python",
   "pygments_lexer": "ipython3",
   "version": "3.6.6"
  }
 },
 "nbformat": 4,
 "nbformat_minor": 2
}
