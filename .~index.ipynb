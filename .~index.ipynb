{
 "cells": [
  {
   "cell_type": "markdown",
   "metadata": {},
   "source": [
    "# Nearest Neighbors Lab"
   ]
  },
  {
   "cell_type": "markdown",
   "metadata": {},
   "source": [
    "### Introduction\n",
    "\n",
    "In this lab, you apply nearest neighbors technique to help a taxi company predict the length of their rides.  Imagine that we are hired to consult for LiftOff, a limo and taxi service that is just opening up in NYC.  Liftoff wants it's taxi drivers to target longer rides, as the longer the ride the more money it makes.  LiftOff has the following theory:\n",
    "\n",
    "* the pickup location of a taxi ride can help predict the length of the ride.  \n",
    "\n",
    "\n",
    "\n",
    "LiftOff asks us to do some analysis to write a function that will allow it to **predict the length of a taxi ride for any given location **.\n",
    "\n",
    "Our technique will be the following:\n",
    "  * **Collect** Obtain the data containing all of the taxi information, and only select the attributes of taxi trips that we need \n",
    "  * ** Explore ** Examine the attributes of our data, and plot some of our data on a map\n",
    "  * ** Train ** Write our nearest neighbors formula, and change the number of nearby trips to predict the length of a new trip\n",
    "  * ** Predict ** Use our function to predict trip lengths of new locations"
   ]
  },
  {
   "cell_type": "markdown",
   "metadata": {},
   "source": [
    "### Collect and Explore the data"
   ]
  },
  {
   "cell_type": "markdown",
   "metadata": {},
   "source": [
    "#### Collect the Data"
   ]
  },
  {
   "cell_type": "markdown",
   "metadata": {},
   "source": [
    "Luckily for us, [NYC Open Data](https://opendata.cityofnewyork.us/) collects information about NYC taxi trips and provides this data on [its website](https://data.cityofnewyork.us/Transportation/2014-Yellow-Taxi-Trip-Data/gn7m-em8n)."
   ]
  },
  {
   "cell_type": "markdown",
   "metadata": {},
   "source": [
    "![](./nyc-taxi.png)"
   ]
  },
  {
   "cell_type": "markdown",
   "metadata": {},
   "source": [
    "For your reading pleasure, the data has already been downloaded into the [trips.json](https://github.com/learn-co-curriculum/nearest-neighbors-lab/blob/master/trips.json) file in this lab which you can find here.  We'll use Python's `json` library to take the data from the `trips.json` file and store it as a variable in our notebook."
   ]
  },
  {
   "cell_type": "code",
   "execution_count": 1,
   "metadata": {},
   "outputs": [],
   "source": [
    "import json\n",
    "# First, read the file\n",
    "trips_file = open('trips.json')\n",
    "# Then, convert contents to list of dictionaries \n",
    "trips = json.load(trips_file)"
   ]
  },
  {
   "cell_type": "markdown",
   "metadata": {},
   "source": [
    "> Press shift + enter"
   ]
  },
  {
   "cell_type": "markdown",
   "metadata": {},
   "source": [
    "#### Explore the data"
   ]
  },
  {
   "cell_type": "markdown",
   "metadata": {},
   "source": [
    "The next step is to explore the data.  First, let's see how many trips we have."
   ]
  },
  {
   "cell_type": "code",
   "execution_count": 2,
   "metadata": {},
   "outputs": [
    {
     "data": {
      "text/plain": [
       "1000"
      ]
     },
     "execution_count": 2,
     "metadata": {},
     "output_type": "execute_result"
    }
   ],
   "source": [
    "len(trips)"
   ]
  },
  {
   "cell_type": "markdown",
   "metadata": {},
   "source": [
    "Not bad at all.  Now let's see what each individual trip looks like.  Each trip is a dictionary, so we can see the attributes of each trip with the `keys` function."
   ]
  },
  {
   "cell_type": "code",
   "execution_count": 3,
   "metadata": {
    "scrolled": true
   },
   "outputs": [
    {
     "data": {
      "text/plain": [
       "dict_keys(['dropoff_datetime', 'dropoff_latitude', 'dropoff_longitude', 'fare_amount', 'imp_surcharge', 'mta_tax', 'passenger_count', 'payment_type', 'pickup_datetime', 'pickup_latitude', 'pickup_longitude', 'rate_code', 'tip_amount', 'tolls_amount', 'total_amount', 'trip_distance', 'vendor_id'])"
      ]
     },
     "execution_count": 3,
     "metadata": {},
     "output_type": "execute_result"
    }
   ],
   "source": [
    "trips[0].keys()"
   ]
  },
  {
   "cell_type": "markdown",
   "metadata": {},
   "source": [
    "#### Limit our data"
   ]
  },
  {
   "cell_type": "markdown",
   "metadata": {},
   "source": [
    "Ok, now that we have explored some of our data, let's begin to think through what data is relevant for our task."
   ]
  },
  {
   "cell_type": "markdown",
   "metadata": {
    "collapsed": true
   },
   "source": [
    "Remember that our task is to **use the trip location to predict the length of a trip**.  So let's select the `pickup_latitude`, `pickup_longitude`, and `trip_distance` from each trip.  That will give us the trip location and related `trip_distance` for each trip.  Then based on these **actual** trip distances we can use nearest neighbors to predict an **expected** trip distance for a trip, provided an **actual** location."
   ]
  },
  {
   "cell_type": "markdown",
   "metadata": {},
   "source": [
    "** Add in about trip distance ** "
   ]
  },
  {
   "cell_type": "markdown",
   "metadata": {},
   "source": [
    "Write a function called `parse_trips(trips)` that returns a list of the trips with only the following attributes: \n",
    "* `trip_distance`\n",
    "* `pickup_latitude`\n",
    "* `pickup_longitude`"
   ]
  },
  {
   "cell_type": "code",
   "execution_count": 4,
   "metadata": {},
   "outputs": [],
   "source": [
    "def parse_trips(trips):\n",
    "    return list(map(lambda trips: dict(trip_distance=trips['trip_distance'], pickup_latitude=trips['pickup_latitude'], pickup_longitude=trips['pickup_longitude']), trips))\n",
    "    "
   ]
  },
  {
   "cell_type": "code",
   "execution_count": 5,
   "metadata": {},
   "outputs": [
    {
     "data": {
      "text/plain": [
       "{'trip_distance': '18.379999999999999',\n",
       " 'pickup_latitude': '40.64499',\n",
       " 'pickup_longitude': '-73.781149999999997'}"
      ]
     },
     "execution_count": 5,
     "metadata": {},
     "output_type": "execute_result"
    }
   ],
   "source": [
    "parsed_trips = parse_trips(trips)\n",
    "parsed_trips and parsed_trips[0]\n",
    "\n",
    "# {'pickup_latitude': '40.64499',\n",
    "#  'pickup_longitude': '-73.78115',\n",
    "#  'trip_distance': '18.38'}"
   ]
  },
  {
   "cell_type": "markdown",
   "metadata": {},
   "source": [
    "Now, there's just one change to make.  If you look at one of the trips, all of the values are strings.  Let's change them to be floats."
   ]
  },
  {
   "cell_type": "code",
   "execution_count": 6,
   "metadata": {},
   "outputs": [],
   "source": [
    "def float_values(trips):\n",
    "    return list(map(lambda trips: dict(trip_distance=float(trips['trip_distance']), pickup_latitude=float(trips['pickup_latitude']), pickup_longitude= float(trips['pickup_longitude'])), trips))"
   ]
  },
  {
   "cell_type": "code",
   "execution_count": 7,
   "metadata": {},
   "outputs": [],
   "source": [
    "cleaned_trips = float_values(parsed_trips)"
   ]
  },
  {
   "cell_type": "code",
   "execution_count": 8,
   "metadata": {},
   "outputs": [
    {
     "data": {
      "text/plain": [
       "{'trip_distance': 18.38,\n",
       " 'pickup_latitude': 40.64499,\n",
       " 'pickup_longitude': -73.78115}"
      ]
     },
     "execution_count": 8,
     "metadata": {},
     "output_type": "execute_result"
    }
   ],
   "source": [
    "cleaned_trips[0]\n",
    "\n",
    "# {'pickup_latitude': 40.64499,\n",
    "#  'pickup_longitude': -73.78115,\n",
    "#  'trip_distance': 18.38}"
   ]
  },
  {
   "cell_type": "markdown",
   "metadata": {},
   "source": [
    "### Exploring the Data"
   ]
  },
  {
   "cell_type": "markdown",
   "metadata": {},
   "source": [
    "Now that we have paired down our data, let's get a sense of our trip data.  We can use the `folium` Python library to plot a map of Manhattan, and our data.  First we must import `folium`, and then use the `Map` function to pass through a `location`, and `zoom_start`.  If a map isn't showing up below, copy and paste the command `pip install -r requirements.txt` into your terminal to install `folium` then try again."
   ]
  },
  {
   "cell_type": "code",
   "execution_count": 9,
   "metadata": {},
   "outputs": [
    {
     "name": "stdout",
     "output_type": "stream",
     "text": [
      "Collecting folium\n",
      "\u001b[?25l  Downloading https://files.pythonhosted.org/packages/55/e2/7e523df8558b7f4b2ab4c62014fd378ccecce3fdc14c9928b272a88ae4cc/folium-0.7.0-py3-none-any.whl (85kB)\n",
      "\u001b[K    100% |████████████████████████████████| 92kB 34.8MB/s ta 0:00:01\n",
      "\u001b[?25hRequirement already satisfied: jinja2 in /opt/conda/envs/learn-env/lib/python3.6/site-packages (from folium) (2.10)\n",
      "Collecting branca>=0.3.0 (from folium)\n",
      "  Downloading https://files.pythonhosted.org/packages/63/36/1c93318e9653f4e414a2e0c3b98fc898b4970e939afeedeee6075dd3b703/branca-0.3.1-py3-none-any.whl\n",
      "Requirement already satisfied: six in /opt/conda/envs/learn-env/lib/python3.6/site-packages (from folium) (1.11.0)\n",
      "Requirement already satisfied: requests in /opt/conda/envs/learn-env/lib/python3.6/site-packages (from folium) (2.19.1)\n",
      "Requirement already satisfied: numpy in /opt/conda/envs/learn-env/lib/python3.6/site-packages (from folium) (1.15.0)\n",
      "Requirement already satisfied: MarkupSafe>=0.23 in /opt/conda/envs/learn-env/lib/python3.6/site-packages (from jinja2->folium) (1.1.0)\n",
      "Requirement already satisfied: certifi>=2017.4.17 in /opt/conda/envs/learn-env/lib/python3.6/site-packages (from requests->folium) (2018.8.13)\n",
      "Requirement already satisfied: idna<2.8,>=2.5 in /opt/conda/envs/learn-env/lib/python3.6/site-packages (from requests->folium) (2.7)\n",
      "Requirement already satisfied: urllib3<1.24,>=1.21.1 in /opt/conda/envs/learn-env/lib/python3.6/site-packages (from requests->folium) (1.23)\n",
      "Requirement already satisfied: chardet<3.1.0,>=3.0.2 in /opt/conda/envs/learn-env/lib/python3.6/site-packages (from requests->folium) (3.0.4)\n",
      "Installing collected packages: branca, folium\n",
      "Successfully installed branca-0.3.1 folium-0.7.0\n",
      "\u001b[33mYou are using pip version 10.0.1, however version 18.1 is available.\n",
      "You should consider upgrading via the 'pip install --upgrade pip' command.\u001b[0m\n"
     ]
    }
   ],
   "source": [
    "!pip install folium\n",
    "import folium\n",
    "manhattan_map = folium.Map(location=[40.7589, -73.9851], zoom_start=11)\n"
   ]
  },
  {
   "cell_type": "code",
   "execution_count": 10,
   "metadata": {
    "scrolled": true
   },
   "outputs": [
    {
     "data": {
      "text/html": [
       "<div style=\"width:100%;\"><div style=\"position:relative;width:100%;height:0;padding-bottom:60%;\"><iframe src=\"data:text/html;charset=utf-8;base64,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\" style=\"position:absolute;width:100%;height:100%;left:0;top:0;border:none !important;\" allowfullscreen webkitallowfullscreen mozallowfullscreen></iframe></div></div>"
      ],
      "text/plain": [
       "<folium.folium.Map at 0x7fa9dd6fb3c8>"
      ]
     },
     "execution_count": 10,
     "metadata": {},
     "output_type": "execute_result"
    }
   ],
   "source": [
    "manhattan_map"
   ]
  },
  {
   "cell_type": "markdown",
   "metadata": {},
   "source": [
    "Ok, now let's see how we could add a dot to mark a specific location.  We'll start with Times Square."
   ]
  },
  {
   "cell_type": "code",
   "execution_count": 11,
   "metadata": {},
   "outputs": [
    {
     "data": {
      "text/plain": [
       "<folium.vector_layers.CircleMarker at 0x7fa9b335de10>"
      ]
     },
     "execution_count": 11,
     "metadata": {},
     "output_type": "execute_result"
    }
   ],
   "source": [
    "marker = folium.CircleMarker(location = [40.7589, -73.9851], radius=10)\n",
    "marker.add_to(manhattan_map)"
   ]
  },
  {
   "cell_type": "markdown",
   "metadata": {},
   "source": [
    "Above, we first create a marker.  Then we add that circle marker to the `manhattan_map` we created earlier. "
   ]
  },
  {
   "cell_type": "code",
   "execution_count": 12,
   "metadata": {
    "scrolled": false
   },
   "outputs": [
    {
     "data": {
      "text/html": [
       "<div style=\"width:100%;\"><div style=\"position:relative;width:100%;height:0;padding-bottom:60%;\"><iframe src=\"data:text/html;charset=utf-8;base64,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\" style=\"position:absolute;width:100%;height:100%;left:0;top:0;border:none !important;\" allowfullscreen webkitallowfullscreen mozallowfullscreen></iframe></div></div>"
      ],
      "text/plain": [
       "<folium.folium.Map at 0x7fa9dd6fb3c8>"
      ]
     },
     "execution_count": 12,
     "metadata": {},
     "output_type": "execute_result"
    }
   ],
   "source": [
    "manhattan_map"
   ]
  },
  {
   "cell_type": "markdown",
   "metadata": {},
   "source": [
    "Do you see that blue dot near Time's Square?  That is our marker.  \n",
    "\n",
    "So now that we can plot one marker on a map, we should have a sense of how we can plot many markers on a map to display our taxi ride data.  We simply plot a map, and then we add a marker for each location of a taxi trip.\n",
    "\n",
    "Now let's write some functions to allow us to plot maps and add markers a little more easily.  "
   ]
  },
  {
   "cell_type": "markdown",
   "metadata": {},
   "source": [
    "#### Writing some map plotting functions"
   ]
  },
  {
   "cell_type": "markdown",
   "metadata": {},
   "source": [
    "As a first step towards this, note that the functions to create both a marker and map each take in a location as two element list, representing the latitude and longitude values.  Take another look:\n",
    "\n",
    "```python\n",
    "marker = folium.CircleMarker(location = [40.7589, -73.9851])\n",
    "manhattan_map = folium.Map(location=[40.7589, -73.9851])\n",
    "```\n",
    "\n",
    "So let's write a function called to create this two element list from a trip.  Write a function called `location` that  takes in a trip as an argument and returns a list where the first element is the latitude and the second is the longitude.  Remember that a location looks like the following:"
   ]
  },
  {
   "cell_type": "code",
   "execution_count": 13,
   "metadata": {},
   "outputs": [
    {
     "data": {
      "text/plain": [
       "{'pickup_latitude': 40.64499,\n",
       " 'pickup_longitude': -73.78115,\n",
       " 'trip_distance': 18.38}"
      ]
     },
     "execution_count": 13,
     "metadata": {},
     "output_type": "execute_result"
    }
   ],
   "source": [
    "first_trip = {'pickup_latitude': 40.64499, 'pickup_longitude': -73.78115,  'trip_distance': 18.38}\n",
    "first_trip"
   ]
  },
  {
   "cell_type": "code",
   "execution_count": 14,
   "metadata": {},
   "outputs": [],
   "source": [
    "def location(trip):\n",
    "    location_list = [trip['pickup_latitude'], trip['pickup_longitude']]\n",
    "    return location_list\n",
    "    "
   ]
  },
  {
   "cell_type": "code",
   "execution_count": 15,
   "metadata": {},
   "outputs": [
    {
     "data": {
      "text/plain": [
       "[40.64499, -73.78115]"
      ]
     },
     "execution_count": 15,
     "metadata": {},
     "output_type": "execute_result"
    }
   ],
   "source": [
    "first_location = location(first_trip) # [40.64499, -73.78115]\n",
    "first_location # [40.64499, -73.78115]"
   ]
  },
  {
   "cell_type": "markdown",
   "metadata": {},
   "source": [
    "Ok, now that we can turn a trip into a location, let's turn a location into a marker.  Write a function called `to_marker` that takes in a location (in the form of a list) as an argument, and returns a folium `circleMarker` for that location.  The radius of the marker should always equal 6."
   ]
  },
  {
   "cell_type": "code",
   "execution_count": 16,
   "metadata": {},
   "outputs": [],
   "source": [
    "def to_marker(location):\n",
    "    marker = folium.CircleMarker(location = [location[0], location[1]], radius=6)\n",
    "    return marker\n",
    "    "
   ]
  },
  {
   "cell_type": "code",
   "execution_count": 17,
   "metadata": {},
   "outputs": [
    {
     "data": {
      "text/plain": [
       "6"
      ]
     },
     "execution_count": 17,
     "metadata": {},
     "output_type": "execute_result"
    }
   ],
   "source": [
    "import json\n",
    "times_square_marker = to_marker([40.7589, -73.9851])\n",
    "\n",
    "times_square_marker and times_square_marker.location # [40.7589, -73.9851]\n",
    "times_square_marker and json.loads(times_square_marker.options)['radius']# 6"
   ]
  },
  {
   "cell_type": "markdown",
   "metadata": {},
   "source": [
    "Ok, now that we know how to produce a single marker, let's write a function to produce lots.  We can write a function called `markers_from_trips` that takes in a list of trips, and returns a marker object for each trip.  "
   ]
  },
  {
   "cell_type": "code",
   "execution_count": 18,
   "metadata": {},
   "outputs": [],
   "source": [
    "def markers_from_trips(trips):\n",
    "    marked_trips = list(map(lambda trip: to_marker(location(trip)),trips))\n",
    "    return marked_trips"
   ]
  },
  {
   "cell_type": "code",
   "execution_count": 19,
   "metadata": {},
   "outputs": [],
   "source": [
    "trip_markers = markers_from_trips(cleaned_trips)"
   ]
  },
  {
   "cell_type": "code",
   "execution_count": 20,
   "metadata": {},
   "outputs": [
    {
     "data": {
      "text/plain": [
       "[{'trip_distance': 18.38,\n",
       "  'pickup_latitude': 40.64499,\n",
       "  'pickup_longitude': -73.78115},\n",
       " {'trip_distance': 1.3,\n",
       "  'pickup_latitude': 40.766931,\n",
       "  'pickup_longitude': -73.982098},\n",
       " {'trip_distance': 4.5,\n",
       "  'pickup_latitude': 40.77773,\n",
       "  'pickup_longitude': -73.951902},\n",
       " {'trip_distance': 2.4,\n",
       "  'pickup_latitude': 40.795678,\n",
       "  'pickup_longitude': -73.971049}]"
      ]
     },
     "execution_count": 20,
     "metadata": {},
     "output_type": "execute_result"
    }
   ],
   "source": [
    "cleaned_trips[0:4]"
   ]
  },
  {
   "cell_type": "code",
   "execution_count": 21,
   "metadata": {},
   "outputs": [
    {
     "data": {
      "text/plain": [
       "[[40.64499, -73.78115],\n",
       " [40.766931, -73.982098],\n",
       " [40.77773, -73.951902],\n",
       " [40.795678, -73.971049]]"
      ]
     },
     "execution_count": 21,
     "metadata": {},
     "output_type": "execute_result"
    }
   ],
   "source": [
    "trip_markers and len(trip_markers) # 1000\n",
    "\n",
    "list(map(lambda marker: marker.location, trip_markers[0:4]))\n",
    "# [[40.64499, -73.78115],\n",
    "#  [40.766931, -73.982098],\n",
    "#  [40.77773, -73.951902],\n",
    "#  [40.795678, -73.971049]]"
   ]
  },
  {
   "cell_type": "markdown",
   "metadata": {},
   "source": [
    "Ok, now that we have a function that creates locations, and a function that creates markers, it is time to write a function to plot a map. \n",
    "\n",
    "Write a function called `map_from` that, provided the first argument of a list location and second argument an integer representing the `zoom_start`, returns a `folium` map the corresponding location and `zoom_start` attributes.\n",
    "\n",
    "> Hint: The following is how to write a map with folium:\n",
    "> ```python \n",
    "    folium.Map(location=location, zoom_start=zoom_amount)\n",
    "> ```"
   ]
  },
  {
   "cell_type": "code",
   "execution_count": 22,
   "metadata": {},
   "outputs": [],
   "source": [
    "def map_from(location, zoom_amount):\n",
    "    new_map = folium.Map(location=location, zoom_start=zoom_amount)\n",
    "    return new_map"
   ]
  },
  {
   "cell_type": "code",
   "execution_count": 23,
   "metadata": {},
   "outputs": [],
   "source": [
    "times_square_map = map_from([40.7589, -73.9851], 15)\n"
   ]
  },
  {
   "cell_type": "code",
   "execution_count": 32,
   "metadata": {
    "scrolled": true
   },
   "outputs": [
    {
     "data": {
      "text/html": [
       "<div style=\"width:100%;\"><div style=\"position:relative;width:100%;height:0;padding-bottom:60%;\"><iframe src=\"data:text/html;charset=utf-8;base64,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\" style=\"position:absolute;width:100%;height:100%;left:0;top:0;border:none !important;\" allowfullscreen webkitallowfullscreen mozallowfullscreen></iframe></div></div>"
      ],
      "text/plain": [
       "<folium.folium.Map at 0x7fa9b31f6400>"
      ]
     },
     "execution_count": 32,
     "metadata": {},
     "output_type": "execute_result"
    }
   ],
   "source": [
    "times_square_marker and times_square_marker.add_to(times_square_map)\n",
    "times_square_map"
   ]
  },
  {
   "cell_type": "markdown",
   "metadata": {},
   "source": [
    "Now that we have a marker and a map, now let's write a function that adds a lot of markers to a map.  This function should add each marker in the list to the map object then return the updated map object."
   ]
  },
  {
   "cell_type": "code",
   "execution_count": 25,
   "metadata": {},
   "outputs": [],
   "source": [
    "manhattan_map = map_from([40.7589, -73.9851], 13)"
   ]
  },
  {
   "cell_type": "code",
   "execution_count": 52,
   "metadata": {},
   "outputs": [
    {
     "ename": "SyntaxError",
     "evalue": "invalid syntax (<ipython-input-52-c287d2a353e9>, line 2)",
     "output_type": "error",
     "traceback": [
      "\u001b[0;36m  File \u001b[0;32m\"<ipython-input-52-c287d2a353e9>\"\u001b[0;36m, line \u001b[0;32m2\u001b[0m\n\u001b[0;31m    marked_map = list(map(add_to(map_obj) :marker,  Markers))\u001b[0m\n\u001b[0m                                          ^\u001b[0m\n\u001b[0;31mSyntaxError\u001b[0m\u001b[0;31m:\u001b[0m invalid syntax\n"
     ]
    }
   ],
   "source": [
    "def add_markers(markers, map_obj):\n",
    "    marked_map = list(map(add_to(map_obj) :marker,  Markers))\n",
    "    return marked_map"
   ]
  },
  {
   "cell_type": "code",
   "execution_count": 51,
   "metadata": {
    "scrolled": false
   },
   "outputs": [
    {
     "ename": "TypeError",
     "evalue": "must be real number, not CircleMarker",
     "output_type": "error",
     "traceback": [
      "\u001b[0;31m\u001b[0m",
      "\u001b[0;31mTypeError\u001b[0mTraceback (most recent call last)",
      "\u001b[0;32m<ipython-input-51-cc1a912a8e96>\u001b[0m in \u001b[0;36m<module>\u001b[0;34m()\u001b[0m\n\u001b[0;32m----> 1\u001b[0;31m \u001b[0mmap_with_markers\u001b[0m \u001b[0;34m=\u001b[0m \u001b[0madd_markers\u001b[0m\u001b[0;34m(\u001b[0m\u001b[0mtrip_markers\u001b[0m\u001b[0;34m,\u001b[0m \u001b[0mmanhattan_map\u001b[0m\u001b[0;34m)\u001b[0m\u001b[0;34m\u001b[0m\u001b[0m\n\u001b[0m",
      "\u001b[0;32m<ipython-input-48-7768df8f5eeb>\u001b[0m in \u001b[0;36madd_markers\u001b[0;34m(markers, map_obj)\u001b[0m\n\u001b[1;32m      1\u001b[0m \u001b[0;32mdef\u001b[0m \u001b[0madd_markers\u001b[0m\u001b[0;34m(\u001b[0m\u001b[0mmarkers\u001b[0m\u001b[0;34m,\u001b[0m \u001b[0mmap_obj\u001b[0m\u001b[0;34m)\u001b[0m\u001b[0;34m:\u001b[0m\u001b[0;34m\u001b[0m\u001b[0m\n\u001b[0;32m----> 2\u001b[0;31m     \u001b[0mmarked_map\u001b[0m \u001b[0;34m=\u001b[0m \u001b[0mfolium\u001b[0m\u001b[0;34m.\u001b[0m\u001b[0mMarker\u001b[0m\u001b[0;34m(\u001b[0m\u001b[0mmarkers\u001b[0m\u001b[0;34m)\u001b[0m\u001b[0;34m.\u001b[0m\u001b[0madd_to\u001b[0m\u001b[0;34m(\u001b[0m\u001b[0mmap_obj\u001b[0m\u001b[0;34m)\u001b[0m\u001b[0;34m\u001b[0m\u001b[0m\n\u001b[0m\u001b[1;32m      3\u001b[0m     \u001b[0;32mreturn\u001b[0m \u001b[0mmarked_map\u001b[0m\u001b[0;34m\u001b[0m\u001b[0m\n",
      "\u001b[0;32m/opt/conda/envs/learn-env/lib/python3.6/site-packages/folium/map.py\u001b[0m in \u001b[0;36m__init__\u001b[0;34m(self, location, popup, tooltip, icon)\u001b[0m\n\u001b[1;32m    250\u001b[0m         \u001b[0mself\u001b[0m\u001b[0;34m.\u001b[0m\u001b[0m_name\u001b[0m \u001b[0;34m=\u001b[0m \u001b[0;34m'Marker'\u001b[0m\u001b[0;34m\u001b[0m\u001b[0m\n\u001b[1;32m    251\u001b[0m         \u001b[0mself\u001b[0m\u001b[0;34m.\u001b[0m\u001b[0mtooltip\u001b[0m \u001b[0;34m=\u001b[0m \u001b[0mtooltip\u001b[0m\u001b[0;34m\u001b[0m\u001b[0m\n\u001b[0;32m--> 252\u001b[0;31m         \u001b[0mself\u001b[0m\u001b[0;34m.\u001b[0m\u001b[0mlocation\u001b[0m \u001b[0;34m=\u001b[0m \u001b[0m_validate_coordinates\u001b[0m\u001b[0;34m(\u001b[0m\u001b[0mlocation\u001b[0m\u001b[0;34m)\u001b[0m\u001b[0;34m\u001b[0m\u001b[0m\n\u001b[0m\u001b[1;32m    253\u001b[0m         \u001b[0;32mif\u001b[0m \u001b[0micon\u001b[0m \u001b[0;32mis\u001b[0m \u001b[0;32mnot\u001b[0m \u001b[0;32mNone\u001b[0m\u001b[0;34m:\u001b[0m\u001b[0;34m\u001b[0m\u001b[0m\n\u001b[1;32m    254\u001b[0m             \u001b[0mself\u001b[0m\u001b[0;34m.\u001b[0m\u001b[0madd_child\u001b[0m\u001b[0;34m(\u001b[0m\u001b[0micon\u001b[0m\u001b[0;34m)\u001b[0m\u001b[0;34m\u001b[0m\u001b[0m\n",
      "\u001b[0;32m/opt/conda/envs/learn-env/lib/python3.6/site-packages/folium/utilities.py\u001b[0m in \u001b[0;36m_validate_coordinates\u001b[0;34m(coordinates)\u001b[0m\n\u001b[1;32m     37\u001b[0m \u001b[0;32mdef\u001b[0m \u001b[0m_validate_coordinates\u001b[0m\u001b[0;34m(\u001b[0m\u001b[0mcoordinates\u001b[0m\u001b[0;34m)\u001b[0m\u001b[0;34m:\u001b[0m\u001b[0;34m\u001b[0m\u001b[0m\n\u001b[1;32m     38\u001b[0m     \u001b[0;34m\"\"\"Validates multiple coordinates for the various markers in folium.\"\"\"\u001b[0m\u001b[0;34m\u001b[0m\u001b[0m\n\u001b[0;32m---> 39\u001b[0;31m     \u001b[0;32mif\u001b[0m \u001b[0m_isnan\u001b[0m\u001b[0;34m(\u001b[0m\u001b[0mcoordinates\u001b[0m\u001b[0;34m)\u001b[0m\u001b[0;34m:\u001b[0m\u001b[0;34m\u001b[0m\u001b[0m\n\u001b[0m\u001b[1;32m     40\u001b[0m         raise ValueError('Location values cannot contain NaNs, '\n\u001b[1;32m     41\u001b[0m                          'got:\\n{!r}'.format(coordinates))\n",
      "\u001b[0;32m/opt/conda/envs/learn-env/lib/python3.6/site-packages/folium/utilities.py\u001b[0m in \u001b[0;36m_isnan\u001b[0;34m(values)\u001b[0m\n\u001b[1;32m     63\u001b[0m \u001b[0;32mdef\u001b[0m \u001b[0m_isnan\u001b[0m\u001b[0;34m(\u001b[0m\u001b[0mvalues\u001b[0m\u001b[0;34m)\u001b[0m\u001b[0;34m:\u001b[0m\u001b[0;34m\u001b[0m\u001b[0m\n\u001b[1;32m     64\u001b[0m     \u001b[0;34m\"\"\"Check if there are NaNs values in the iterable.\"\"\"\u001b[0m\u001b[0;34m\u001b[0m\u001b[0m\n\u001b[0;32m---> 65\u001b[0;31m     \u001b[0;32mreturn\u001b[0m \u001b[0many\u001b[0m\u001b[0;34m(\u001b[0m\u001b[0mmath\u001b[0m\u001b[0;34m.\u001b[0m\u001b[0misnan\u001b[0m\u001b[0;34m(\u001b[0m\u001b[0mvalue\u001b[0m\u001b[0;34m)\u001b[0m \u001b[0;32mfor\u001b[0m \u001b[0mvalue\u001b[0m \u001b[0;32min\u001b[0m \u001b[0m_flatten\u001b[0m\u001b[0;34m(\u001b[0m\u001b[0mvalues\u001b[0m\u001b[0;34m)\u001b[0m\u001b[0;34m)\u001b[0m\u001b[0;34m\u001b[0m\u001b[0m\n\u001b[0m\u001b[1;32m     66\u001b[0m \u001b[0;34m\u001b[0m\u001b[0m\n\u001b[1;32m     67\u001b[0m \u001b[0;34m\u001b[0m\u001b[0m\n",
      "\u001b[0;32m/opt/conda/envs/learn-env/lib/python3.6/site-packages/folium/utilities.py\u001b[0m in \u001b[0;36m<genexpr>\u001b[0;34m(.0)\u001b[0m\n\u001b[1;32m     63\u001b[0m \u001b[0;32mdef\u001b[0m \u001b[0m_isnan\u001b[0m\u001b[0;34m(\u001b[0m\u001b[0mvalues\u001b[0m\u001b[0;34m)\u001b[0m\u001b[0;34m:\u001b[0m\u001b[0;34m\u001b[0m\u001b[0m\n\u001b[1;32m     64\u001b[0m     \u001b[0;34m\"\"\"Check if there are NaNs values in the iterable.\"\"\"\u001b[0m\u001b[0;34m\u001b[0m\u001b[0m\n\u001b[0;32m---> 65\u001b[0;31m     \u001b[0;32mreturn\u001b[0m \u001b[0many\u001b[0m\u001b[0;34m(\u001b[0m\u001b[0mmath\u001b[0m\u001b[0;34m.\u001b[0m\u001b[0misnan\u001b[0m\u001b[0;34m(\u001b[0m\u001b[0mvalue\u001b[0m\u001b[0;34m)\u001b[0m \u001b[0;32mfor\u001b[0m \u001b[0mvalue\u001b[0m \u001b[0;32min\u001b[0m \u001b[0m_flatten\u001b[0m\u001b[0;34m(\u001b[0m\u001b[0mvalues\u001b[0m\u001b[0;34m)\u001b[0m\u001b[0;34m)\u001b[0m\u001b[0;34m\u001b[0m\u001b[0m\n\u001b[0m\u001b[1;32m     66\u001b[0m \u001b[0;34m\u001b[0m\u001b[0m\n\u001b[1;32m     67\u001b[0m \u001b[0;34m\u001b[0m\u001b[0m\n",
      "\u001b[0;31mTypeError\u001b[0m: must be real number, not CircleMarker"
     ]
    }
   ],
   "source": [
    "map_with_markers = add_markers(trip_markers, manhattan_map)"
   ]
  },
  {
   "cell_type": "code",
   "execution_count": 47,
   "metadata": {},
   "outputs": [
    {
     "data": {
      "text/plain": [
       "[<folium.vector_layers.CircleMarker at 0x7fa9b335d1d0>,\n",
       " <folium.vector_layers.CircleMarker at 0x7fa9b334bf60>,\n",
       " <folium.vector_layers.CircleMarker at 0x7fa9b334bc50>,\n",
       " <folium.vector_layers.CircleMarker at 0x7fa9b32fb160>,\n",
       " <folium.vector_layers.CircleMarker at 0x7fa9b32fb0b8>,\n",
       " <folium.vector_layers.CircleMarker at 0x7fa9b32fb470>,\n",
       " <folium.vector_layers.CircleMarker at 0x7fa9b32fb358>,\n",
       " <folium.vector_layers.CircleMarker at 0x7fa9b32fb4a8>,\n",
       " <folium.vector_layers.CircleMarker at 0x7fa9b32fb5f8>,\n",
       " <folium.vector_layers.CircleMarker at 0x7fa9b32fb630>,\n",
       " <folium.vector_layers.CircleMarker at 0x7fa9b32fb780>,\n",
       " <folium.vector_layers.CircleMarker at 0x7fa9b32fb828>,\n",
       " <folium.vector_layers.CircleMarker at 0x7fa9b32fb8d0>,\n",
       " <folium.vector_layers.CircleMarker at 0x7fa9b335d860>,\n",
       " <folium.vector_layers.CircleMarker at 0x7fa9b334bd30>,\n",
       " <folium.vector_layers.CircleMarker at 0x7fa9b334bd68>,\n",
       " <folium.vector_layers.CircleMarker at 0x7fa9b32fb5c0>,\n",
       " <folium.vector_layers.CircleMarker at 0x7fa9b32fb4e0>,\n",
       " <folium.vector_layers.CircleMarker at 0x7fa9b32fb240>,\n",
       " <folium.vector_layers.CircleMarker at 0x7fa9b32fb550>,\n",
       " <folium.vector_layers.CircleMarker at 0x7fa9b32fb048>,\n",
       " <folium.vector_layers.CircleMarker at 0x7fa9b32fb978>,\n",
       " <folium.vector_layers.CircleMarker at 0x7fa9b32fb400>,\n",
       " <folium.vector_layers.CircleMarker at 0x7fa9b32fba20>,\n",
       " <folium.vector_layers.CircleMarker at 0x7fa9b32fb9e8>,\n",
       " <folium.vector_layers.CircleMarker at 0x7fa9b32fbb00>,\n",
       " <folium.vector_layers.CircleMarker at 0x7fa9b32fbba8>,\n",
       " <folium.vector_layers.CircleMarker at 0x7fa9b32fbc50>,\n",
       " <folium.vector_layers.CircleMarker at 0x7fa9b32fbb38>,\n",
       " <folium.vector_layers.CircleMarker at 0x7fa9b32fbbe0>,\n",
       " <folium.vector_layers.CircleMarker at 0x7fa9b32fb320>,\n",
       " <folium.vector_layers.CircleMarker at 0x7fa9b32fbeb8>,\n",
       " <folium.vector_layers.CircleMarker at 0x7fa9b32fbf60>,\n",
       " <folium.vector_layers.CircleMarker at 0x7fa9b32fbef0>,\n",
       " <folium.vector_layers.CircleMarker at 0x7fa9b335d668>,\n",
       " <folium.vector_layers.CircleMarker at 0x7fa9b334bfd0>,\n",
       " <folium.vector_layers.CircleMarker at 0x7fa9b32fbf28>,\n",
       " <folium.vector_layers.CircleMarker at 0x7fa9b32fbd30>,\n",
       " <folium.vector_layers.CircleMarker at 0x7fa9b32fbcc0>,\n",
       " <folium.vector_layers.CircleMarker at 0x7fa9b32fb2e8>,\n",
       " <folium.vector_layers.CircleMarker at 0x7fa9b32fbac8>,\n",
       " <folium.vector_layers.CircleMarker at 0x7fa9b32fba58>,\n",
       " <folium.vector_layers.CircleMarker at 0x7fa9b32fb9b0>,\n",
       " <folium.vector_layers.CircleMarker at 0x7fa9b32fb198>,\n",
       " <folium.vector_layers.CircleMarker at 0x7fa9b32fb518>,\n",
       " <folium.vector_layers.CircleMarker at 0x7fa9b32fb6a0>,\n",
       " <folium.vector_layers.CircleMarker at 0x7fa9b32fb710>,\n",
       " <folium.vector_layers.CircleMarker at 0x7fa9b32fb6d8>,\n",
       " <folium.vector_layers.CircleMarker at 0x7fa9b3312048>,\n",
       " <folium.vector_layers.CircleMarker at 0x7fa9b3312128>,\n",
       " <folium.vector_layers.CircleMarker at 0x7fa9b3312240>,\n",
       " <folium.vector_layers.CircleMarker at 0x7fa9b33122e8>,\n",
       " <folium.vector_layers.CircleMarker at 0x7fa9b3312390>,\n",
       " <folium.vector_layers.CircleMarker at 0x7fa9b3312438>,\n",
       " <folium.vector_layers.CircleMarker at 0x7fa9b33124e0>,\n",
       " <folium.vector_layers.CircleMarker at 0x7fa9b334bdd8>,\n",
       " <folium.vector_layers.CircleMarker at 0x7fa9b32fb7f0>,\n",
       " <folium.vector_layers.CircleMarker at 0x7fa9b32fb278>,\n",
       " <folium.vector_layers.CircleMarker at 0x7fa9b32fb908>,\n",
       " <folium.vector_layers.CircleMarker at 0x7fa9b32fb3c8>,\n",
       " <folium.vector_layers.CircleMarker at 0x7fa9b32fbcf8>,\n",
       " <folium.vector_layers.CircleMarker at 0x7fa9b335d9b0>,\n",
       " <folium.vector_layers.CircleMarker at 0x7fa9b32fb898>,\n",
       " <folium.vector_layers.CircleMarker at 0x7fa9b32fb860>,\n",
       " <folium.vector_layers.CircleMarker at 0x7fa9b32fbfd0>,\n",
       " <folium.vector_layers.CircleMarker at 0x7fa9b3312588>,\n",
       " <folium.vector_layers.CircleMarker at 0x7fa9b3312400>,\n",
       " <folium.vector_layers.CircleMarker at 0x7fa9b33122b0>,\n",
       " <folium.vector_layers.CircleMarker at 0x7fa9b33120f0>,\n",
       " <folium.vector_layers.CircleMarker at 0x7fa9b3312470>,\n",
       " <folium.vector_layers.CircleMarker at 0x7fa9b33126a0>,\n",
       " <folium.vector_layers.CircleMarker at 0x7fa9b33126d8>,\n",
       " <folium.vector_layers.CircleMarker at 0x7fa9b3312780>,\n",
       " <folium.vector_layers.CircleMarker at 0x7fa9b3312828>,\n",
       " <folium.vector_layers.CircleMarker at 0x7fa9b33128d0>,\n",
       " <folium.vector_layers.CircleMarker at 0x7fa9b3312978>,\n",
       " <folium.vector_layers.CircleMarker at 0x7fa9b3312a20>,\n",
       " <folium.vector_layers.CircleMarker at 0x7fa9b32fb748>,\n",
       " <folium.vector_layers.CircleMarker at 0x7fa9b32fbdd8>,\n",
       " <folium.vector_layers.CircleMarker at 0x7fa9b32fb588>,\n",
       " <folium.vector_layers.CircleMarker at 0x7fa9b334bf28>,\n",
       " <folium.vector_layers.CircleMarker at 0x7fa9b32fb7b8>,\n",
       " <folium.vector_layers.CircleMarker at 0x7fa9b32fba90>,\n",
       " <folium.vector_layers.CircleMarker at 0x7fa9b32fb1d0>,\n",
       " <folium.vector_layers.CircleMarker at 0x7fa9b3312710>,\n",
       " <folium.vector_layers.CircleMarker at 0x7fa9b3312630>,\n",
       " <folium.vector_layers.CircleMarker at 0x7fa9b3312208>,\n",
       " <folium.vector_layers.CircleMarker at 0x7fa9b3312160>,\n",
       " <folium.vector_layers.CircleMarker at 0x7fa9b3312198>,\n",
       " <folium.vector_layers.CircleMarker at 0x7fa9b33124a8>,\n",
       " <folium.vector_layers.CircleMarker at 0x7fa9b3312ac8>,\n",
       " <folium.vector_layers.CircleMarker at 0x7fa9b33129b0>,\n",
       " <folium.vector_layers.CircleMarker at 0x7fa9b3312be0>,\n",
       " <folium.vector_layers.CircleMarker at 0x7fa9b3312c18>,\n",
       " <folium.vector_layers.CircleMarker at 0x7fa9b3312cc0>,\n",
       " <folium.vector_layers.CircleMarker at 0x7fa9b3312d68>,\n",
       " <folium.vector_layers.CircleMarker at 0x7fa9b3312e10>,\n",
       " <folium.vector_layers.CircleMarker at 0x7fa9b3312eb8>,\n",
       " <folium.vector_layers.CircleMarker at 0x7fa9b3312f60>,\n",
       " <folium.vector_layers.CircleMarker at 0x7fa9b32fbe80>,\n",
       " <folium.vector_layers.CircleMarker at 0x7fa9b32fbb70>,\n",
       " <folium.vector_layers.CircleMarker at 0x7fa9b32fbe10>,\n",
       " <folium.vector_layers.CircleMarker at 0x7fa9b32fbc88>,\n",
       " <folium.vector_layers.CircleMarker at 0x7fa9b3312e80>,\n",
       " <folium.vector_layers.CircleMarker at 0x7fa9b3312d30>,\n",
       " <folium.vector_layers.CircleMarker at 0x7fa9b3312b38>,\n",
       " <folium.vector_layers.CircleMarker at 0x7fa9b3312ba8>,\n",
       " <folium.vector_layers.CircleMarker at 0x7fa9b33125c0>,\n",
       " <folium.vector_layers.CircleMarker at 0x7fa9b3312358>,\n",
       " <folium.vector_layers.CircleMarker at 0x7fa9b3312898>,\n",
       " <folium.vector_layers.CircleMarker at 0x7fa9b3312080>,\n",
       " <folium.vector_layers.CircleMarker at 0x7fa9b33127b8>,\n",
       " <folium.vector_layers.CircleMarker at 0x7fa9b3312e48>,\n",
       " <folium.vector_layers.CircleMarker at 0x7fa9b3312f98>,\n",
       " <folium.vector_layers.CircleMarker at 0x7fa9b3312860>,\n",
       " <folium.vector_layers.CircleMarker at 0x7fa9b33270b8>,\n",
       " <folium.vector_layers.CircleMarker at 0x7fa9b3327198>,\n",
       " <folium.vector_layers.CircleMarker at 0x7fa9b33272b0>,\n",
       " <folium.vector_layers.CircleMarker at 0x7fa9b3327358>,\n",
       " <folium.vector_layers.CircleMarker at 0x7fa9b3327400>,\n",
       " <folium.vector_layers.CircleMarker at 0x7fa9b33274a8>,\n",
       " <folium.vector_layers.CircleMarker at 0x7fa9b3312da0>,\n",
       " <folium.vector_layers.CircleMarker at 0x7fa9b3312fd0>,\n",
       " <folium.vector_layers.CircleMarker at 0x7fa9b33120b8>,\n",
       " <folium.vector_layers.CircleMarker at 0x7fa9b33121d0>,\n",
       " <folium.vector_layers.CircleMarker at 0x7fa9b3312c50>,\n",
       " <folium.vector_layers.CircleMarker at 0x7fa9b3312c88>,\n",
       " <folium.vector_layers.CircleMarker at 0x7fa9b3312f28>,\n",
       " <folium.vector_layers.CircleMarker at 0x7fa9b33125f8>,\n",
       " <folium.vector_layers.CircleMarker at 0x7fa9b32fbf98>,\n",
       " <folium.vector_layers.CircleMarker at 0x7fa9b32fb2b0>,\n",
       " <folium.vector_layers.CircleMarker at 0x7fa9b33273c8>,\n",
       " <folium.vector_layers.CircleMarker at 0x7fa9b3327208>,\n",
       " <folium.vector_layers.CircleMarker at 0x7fa9b3327080>,\n",
       " <folium.vector_layers.CircleMarker at 0x7fa9b3327550>,\n",
       " <folium.vector_layers.CircleMarker at 0x7fa9b3327438>,\n",
       " <folium.vector_layers.CircleMarker at 0x7fa9b3327668>,\n",
       " <folium.vector_layers.CircleMarker at 0x7fa9b33276a0>,\n",
       " <folium.vector_layers.CircleMarker at 0x7fa9b3327748>,\n",
       " <folium.vector_layers.CircleMarker at 0x7fa9b33277f0>,\n",
       " <folium.vector_layers.CircleMarker at 0x7fa9b3327898>,\n",
       " <folium.vector_layers.CircleMarker at 0x7fa9b3327940>,\n",
       " <folium.vector_layers.CircleMarker at 0x7fa9b33279e8>,\n",
       " <folium.vector_layers.CircleMarker at 0x7fa9b32fbc18>,\n",
       " <folium.vector_layers.CircleMarker at 0x7fa9b32fb668>,\n",
       " <folium.vector_layers.CircleMarker at 0x7fa9b3312dd8>,\n",
       " <folium.vector_layers.CircleMarker at 0x7fa9b33129e8>,\n",
       " <folium.vector_layers.CircleMarker at 0x7fa9b3312518>,\n",
       " <folium.vector_layers.CircleMarker at 0x7fa9b3312320>,\n",
       " <folium.vector_layers.CircleMarker at 0x7fa9b3327828>,\n",
       " <folium.vector_layers.CircleMarker at 0x7fa9b3327860>,\n",
       " <folium.vector_layers.CircleMarker at 0x7fa9b3327710>,\n",
       " <folium.vector_layers.CircleMarker at 0x7fa9b3327048>,\n",
       " <folium.vector_layers.CircleMarker at 0x7fa9b3327588>,\n",
       " <folium.vector_layers.CircleMarker at 0x7fa9b33271d0>,\n",
       " <folium.vector_layers.CircleMarker at 0x7fa9b3327320>,\n",
       " <folium.vector_layers.CircleMarker at 0x7fa9b3327a90>,\n",
       " <folium.vector_layers.CircleMarker at 0x7fa9b3327978>,\n",
       " <folium.vector_layers.CircleMarker at 0x7fa9b3327ba8>,\n",
       " <folium.vector_layers.CircleMarker at 0x7fa9b3327be0>,\n",
       " <folium.vector_layers.CircleMarker at 0x7fa9b3327c88>,\n",
       " <folium.vector_layers.CircleMarker at 0x7fa9b3327d30>,\n",
       " <folium.vector_layers.CircleMarker at 0x7fa9b3327dd8>,\n",
       " <folium.vector_layers.CircleMarker at 0x7fa9b3327e80>,\n",
       " <folium.vector_layers.CircleMarker at 0x7fa9b3327f28>,\n",
       " <folium.vector_layers.CircleMarker at 0x7fa9b32fbda0>,\n",
       " <folium.vector_layers.CircleMarker at 0x7fa9b3312cf8>,\n",
       " <folium.vector_layers.CircleMarker at 0x7fa9b3312b00>,\n",
       " <folium.vector_layers.CircleMarker at 0x7fa9b3312908>,\n",
       " <folium.vector_layers.CircleMarker at 0x7fa9b3327e48>,\n",
       " <folium.vector_layers.CircleMarker at 0x7fa9b3327cf8>,\n",
       " <folium.vector_layers.CircleMarker at 0x7fa9b3327b00>,\n",
       " <folium.vector_layers.CircleMarker at 0x7fa9b3327b70>,\n",
       " <folium.vector_layers.CircleMarker at 0x7fa9b3327128>,\n",
       " <folium.vector_layers.CircleMarker at 0x7fa9b3327240>,\n",
       " <folium.vector_layers.CircleMarker at 0x7fa9b33274e0>,\n",
       " <folium.vector_layers.CircleMarker at 0x7fa9b3327278>,\n",
       " <folium.vector_layers.CircleMarker at 0x7fa9b3327908>,\n",
       " <folium.vector_layers.CircleMarker at 0x7fa9b3327fd0>,\n",
       " <folium.vector_layers.CircleMarker at 0x7fa9b3327f60>,\n",
       " <folium.vector_layers.CircleMarker at 0x7fa9b33279b0>,\n",
       " <folium.vector_layers.CircleMarker at 0x7fa9b32bb0f0>,\n",
       " <folium.vector_layers.CircleMarker at 0x7fa9b32bb208>,\n",
       " <folium.vector_layers.CircleMarker at 0x7fa9b32bb2b0>,\n",
       " <folium.vector_layers.CircleMarker at 0x7fa9b32bb358>,\n",
       " <folium.vector_layers.CircleMarker at 0x7fa9b32bb400>,\n",
       " <folium.vector_layers.CircleMarker at 0x7fa9b32fbd68>,\n",
       " <folium.vector_layers.CircleMarker at 0x7fa9b3327eb8>,\n",
       " <folium.vector_layers.CircleMarker at 0x7fa9b33277b8>,\n",
       " <folium.vector_layers.CircleMarker at 0x7fa9b3327390>,\n",
       " <folium.vector_layers.CircleMarker at 0x7fa9b3327b38>,\n",
       " <folium.vector_layers.CircleMarker at 0x7fa9b3327470>,\n",
       " <folium.vector_layers.CircleMarker at 0x7fa9b3327a20>,\n",
       " <folium.vector_layers.CircleMarker at 0x7fa9b3327f98>,\n",
       " <folium.vector_layers.CircleMarker at 0x7fa9b3327cc0>,\n",
       " <folium.vector_layers.CircleMarker at 0x7fa9b3312b70>,\n",
       " <folium.vector_layers.CircleMarker at 0x7fa9b3312748>,\n",
       " <folium.vector_layers.CircleMarker at 0x7fa9b32bb3c8>,\n",
       " <folium.vector_layers.CircleMarker at 0x7fa9b32bb278>,\n",
       " <folium.vector_layers.CircleMarker at 0x7fa9b32bb0b8>,\n",
       " <folium.vector_layers.CircleMarker at 0x7fa9b32bb390>,\n",
       " <folium.vector_layers.CircleMarker at 0x7fa9b32bb5c0>,\n",
       " <folium.vector_layers.CircleMarker at 0x7fa9b32bb5f8>,\n",
       " <folium.vector_layers.CircleMarker at 0x7fa9b32bb6a0>,\n",
       " <folium.vector_layers.CircleMarker at 0x7fa9b32bb748>,\n",
       " <folium.vector_layers.CircleMarker at 0x7fa9b32bb7f0>,\n",
       " <folium.vector_layers.CircleMarker at 0x7fa9b32bb898>,\n",
       " <folium.vector_layers.CircleMarker at 0x7fa9b32bb940>,\n",
       " <folium.vector_layers.CircleMarker at 0x7fa9b33270f0>,\n",
       " <folium.vector_layers.CircleMarker at 0x7fa9b3327c50>,\n",
       " <folium.vector_layers.CircleMarker at 0x7fa9b33276d8>,\n",
       " <folium.vector_layers.CircleMarker at 0x7fa9b33275f8>,\n",
       " <folium.vector_layers.CircleMarker at 0x7fa9b3327a58>,\n",
       " <folium.vector_layers.CircleMarker at 0x7fa9b3327d68>,\n",
       " <folium.vector_layers.CircleMarker at 0x7fa9b32fbe48>,\n",
       " <folium.vector_layers.CircleMarker at 0x7fa9b3312278>,\n",
       " <folium.vector_layers.CircleMarker at 0x7fa9b3312ef0>,\n",
       " <folium.vector_layers.CircleMarker at 0x7fa9b3312940>,\n",
       " <folium.vector_layers.CircleMarker at 0x7fa9b335d588>,\n",
       " <folium.vector_layers.CircleMarker at 0x7fa9b335d8d0>,\n",
       " <folium.vector_layers.CircleMarker at 0x7fa9b335dc88>,\n",
       " <folium.vector_layers.CircleMarker at 0x7fa9dd6fb2b0>,\n",
       " <folium.vector_layers.CircleMarker at 0x7fa9b32bb780>,\n",
       " <folium.vector_layers.CircleMarker at 0x7fa9b32bb7b8>,\n",
       " <folium.vector_layers.CircleMarker at 0x7fa9b32bb668>,\n",
       " <folium.vector_layers.CircleMarker at 0x7fa9b32bb198>,\n",
       " <folium.vector_layers.CircleMarker at 0x7fa9b32bb4e0>,\n",
       " <folium.vector_layers.CircleMarker at 0x7fa9b32bb080>,\n",
       " <folium.vector_layers.CircleMarker at 0x7fa9b32bb2e8>,\n",
       " <folium.vector_layers.CircleMarker at 0x7fa9b32bb9e8>,\n",
       " <folium.vector_layers.CircleMarker at 0x7fa9b32bb8d0>,\n",
       " <folium.vector_layers.CircleMarker at 0x7fa9dd6fb320>,\n",
       " <folium.vector_layers.CircleMarker at 0x7fa9b335d710>,\n",
       " <folium.vector_layers.CircleMarker at 0x7fa9b335d2b0>,\n",
       " <folium.vector_layers.CircleMarker at 0x7fa9b32fb080>,\n",
       " <folium.vector_layers.CircleMarker at 0x7fa9b33127f0>,\n",
       " <folium.vector_layers.CircleMarker at 0x7fa9b33123c8>,\n",
       " <folium.vector_layers.CircleMarker at 0x7fa9b3327780>,\n",
       " <folium.vector_layers.CircleMarker at 0x7fa9b3327c18>,\n",
       " <folium.vector_layers.CircleMarker at 0x7fa9b3327ef0>,\n",
       " <folium.vector_layers.CircleMarker at 0x7fa9b32bb320>,\n",
       " <folium.vector_layers.CircleMarker at 0x7fa9b32bb518>,\n",
       " <folium.vector_layers.CircleMarker at 0x7fa9b32bb128>,\n",
       " <folium.vector_layers.CircleMarker at 0x7fa9b32bb550>,\n",
       " <folium.vector_layers.CircleMarker at 0x7fa9b32bb908>,\n",
       " <folium.vector_layers.CircleMarker at 0x7fa9b32bb4a8>,\n",
       " <folium.vector_layers.CircleMarker at 0x7fa9b32bbb38>,\n",
       " <folium.vector_layers.CircleMarker at 0x7fa9b32bba90>,\n",
       " <folium.vector_layers.CircleMarker at 0x7fa9b32bbc18>,\n",
       " <folium.vector_layers.CircleMarker at 0x7fa9b32bbcc0>,\n",
       " <folium.vector_layers.CircleMarker at 0x7fa9b32bbd68>,\n",
       " <folium.vector_layers.CircleMarker at 0x7fa9b32bbe10>,\n",
       " <folium.vector_layers.CircleMarker at 0x7fa9b32bbeb8>,\n",
       " <folium.vector_layers.CircleMarker at 0x7fa9b3327630>,\n",
       " <folium.vector_layers.CircleMarker at 0x7fa9b32fb940>,\n",
       " <folium.vector_layers.CircleMarker at 0x7fa9b3312a58>,\n",
       " <folium.vector_layers.CircleMarker at 0x7fa9b3312a90>,\n",
       " <folium.vector_layers.CircleMarker at 0x7fa9b3327e10>,\n",
       " <folium.vector_layers.CircleMarker at 0x7fa9b335d6a0>,\n",
       " <folium.vector_layers.CircleMarker at 0x7fa9b32bbcf8>,\n",
       " <folium.vector_layers.CircleMarker at 0x7fa9b32bbd30>,\n",
       " <folium.vector_layers.CircleMarker at 0x7fa9b32bbbe0>,\n",
       " <folium.vector_layers.CircleMarker at 0x7fa9b32bb710>,\n",
       " <folium.vector_layers.CircleMarker at 0x7fa9b32bbb00>,\n",
       " <folium.vector_layers.CircleMarker at 0x7fa9b32bb588>,\n",
       " <folium.vector_layers.CircleMarker at 0x7fa9b32bb160>,\n",
       " <folium.vector_layers.CircleMarker at 0x7fa9b32bbac8>,\n",
       " <folium.vector_layers.CircleMarker at 0x7fa9b32bbfd0>,\n",
       " <folium.vector_layers.CircleMarker at 0x7fa9b32bbef0>,\n",
       " <folium.vector_layers.CircleMarker at 0x7fa9b32bbf98>,\n",
       " <folium.vector_layers.CircleMarker at 0x7fa9b32cd0b8>,\n",
       " <folium.vector_layers.CircleMarker at 0x7fa9b32cd1d0>,\n",
       " <folium.vector_layers.CircleMarker at 0x7fa9b32cd278>,\n",
       " <folium.vector_layers.CircleMarker at 0x7fa9b32cd320>,\n",
       " <folium.vector_layers.CircleMarker at 0x7fa9b32cd3c8>,\n",
       " <folium.vector_layers.CircleMarker at 0x7fa9dd6fb0b8>,\n",
       " <folium.vector_layers.CircleMarker at 0x7fa9b32fb0f0>,\n",
       " <folium.vector_layers.CircleMarker at 0x7fa9b3327ac8>,\n",
       " <folium.vector_layers.CircleMarker at 0x7fa9b33272e8>,\n",
       " <folium.vector_layers.CircleMarker at 0x7fa9b32bb240>,\n",
       " <folium.vector_layers.CircleMarker at 0x7fa9b32bb1d0>,\n",
       " <folium.vector_layers.CircleMarker at 0x7fa9b32bba58>,\n",
       " <folium.vector_layers.CircleMarker at 0x7fa9b32bb860>,\n",
       " <folium.vector_layers.CircleMarker at 0x7fa9b32bb6d8>,\n",
       " <folium.vector_layers.CircleMarker at 0x7fa9b32bbc88>,\n",
       " <folium.vector_layers.CircleMarker at 0x7fa9b32bbf28>,\n",
       " <folium.vector_layers.CircleMarker at 0x7fa9b32bbba8>,\n",
       " <folium.vector_layers.CircleMarker at 0x7fa9b32cd080>,\n",
       " <folium.vector_layers.CircleMarker at 0x7fa9b32cd048>,\n",
       " <folium.vector_layers.CircleMarker at 0x7fa9b32cd4e0>,\n",
       " <folium.vector_layers.CircleMarker at 0x7fa9b32cd518>,\n",
       " <folium.vector_layers.CircleMarker at 0x7fa9b32cd400>,\n",
       " <folium.vector_layers.CircleMarker at 0x7fa9b32cd5f8>,\n",
       " <folium.vector_layers.CircleMarker at 0x7fa9b32cd6a0>,\n",
       " <folium.vector_layers.CircleMarker at 0x7fa9b32cd748>,\n",
       " <folium.vector_layers.CircleMarker at 0x7fa9b32cd7f0>,\n",
       " <folium.vector_layers.CircleMarker at 0x7fa9b32cd898>,\n",
       " <folium.vector_layers.CircleMarker at 0x7fa9b32bbda0>,\n",
       " <folium.vector_layers.CircleMarker at 0x7fa9b32bb978>,\n",
       " <folium.vector_layers.CircleMarker at 0x7fa9b32bba20>,\n",
       " <folium.vector_layers.CircleMarker at 0x7fa9b33278d0>,\n",
       " <folium.vector_layers.CircleMarker at 0x7fa9b33275c0>,\n",
       " <folium.vector_layers.CircleMarker at 0x7fa9b32bbf60>,\n",
       " <folium.vector_layers.CircleMarker at 0x7fa9b3312550>,\n",
       " <folium.vector_layers.CircleMarker at 0x7fa9b335d080>,\n",
       " <folium.vector_layers.CircleMarker at 0x7fa9b32cd0f0>,\n",
       " <folium.vector_layers.CircleMarker at 0x7fa9b32cd4a8>,\n",
       " <folium.vector_layers.CircleMarker at 0x7fa9b32cd588>,\n",
       " <folium.vector_layers.CircleMarker at 0x7fa9b32cd2e8>,\n",
       " <folium.vector_layers.CircleMarker at 0x7fa9b32cd198>,\n",
       " <folium.vector_layers.CircleMarker at 0x7fa9b32cd438>,\n",
       " <folium.vector_layers.CircleMarker at 0x7fa9b32cd9b0>,\n",
       " <folium.vector_layers.CircleMarker at 0x7fa9b32cd9e8>,\n",
       " <folium.vector_layers.CircleMarker at 0x7fa9b32cd8d0>,\n",
       " <folium.vector_layers.CircleMarker at 0x7fa9b32cdac8>,\n",
       " <folium.vector_layers.CircleMarker at 0x7fa9b32cdb70>,\n",
       " <folium.vector_layers.CircleMarker at 0x7fa9b32cdc18>,\n",
       " <folium.vector_layers.CircleMarker at 0x7fa9b32cdcc0>,\n",
       " <folium.vector_layers.CircleMarker at 0x7fa9dd6fb0f0>,\n",
       " <folium.vector_layers.CircleMarker at 0x7fa9b3327160>,\n",
       " <folium.vector_layers.CircleMarker at 0x7fa9b32bbe80>,\n",
       " <folium.vector_layers.CircleMarker at 0x7fa9b32bb438>,\n",
       " <folium.vector_layers.CircleMarker at 0x7fa9b32bb828>,\n",
       " <folium.vector_layers.CircleMarker at 0x7fa9b32cdd68>,\n",
       " <folium.vector_layers.CircleMarker at 0x7fa9b32cdbe0>,\n",
       " <folium.vector_layers.CircleMarker at 0x7fa9b32cda90>,\n",
       " <folium.vector_layers.CircleMarker at 0x7fa9b32cd128>,\n",
       " <folium.vector_layers.CircleMarker at 0x7fa9b32cd940>,\n",
       " <folium.vector_layers.CircleMarker at 0x7fa9b32cd5c0>,\n",
       " <folium.vector_layers.CircleMarker at 0x7fa9b32cd358>,\n",
       " <folium.vector_layers.CircleMarker at 0x7fa9b32cd668>,\n",
       " <folium.vector_layers.CircleMarker at 0x7fa9b32cd6d8>,\n",
       " <folium.vector_layers.CircleMarker at 0x7fa9b32cdc50>,\n",
       " <folium.vector_layers.CircleMarker at 0x7fa9b32cde80>,\n",
       " <folium.vector_layers.CircleMarker at 0x7fa9b32cdeb8>,\n",
       " <folium.vector_layers.CircleMarker at 0x7fa9b32cdf60>,\n",
       " <folium.vector_layers.CircleMarker at 0x7fa9b32cdef0>,\n",
       " <folium.vector_layers.CircleMarker at 0x7fa9b32e5048>,\n",
       " <folium.vector_layers.CircleMarker at 0x7fa9b32e5128>,\n",
       " <folium.vector_layers.CircleMarker at 0x7fa9b32e5240>,\n",
       " <folium.vector_layers.CircleMarker at 0x7fa9b32cdb00>,\n",
       " <folium.vector_layers.CircleMarker at 0x7fa9b32cdf28>,\n",
       " <folium.vector_layers.CircleMarker at 0x7fa9b32cd7b8>,\n",
       " <folium.vector_layers.CircleMarker at 0x7fa9b32cd630>,\n",
       " <folium.vector_layers.CircleMarker at 0x7fa9b32cd828>,\n",
       " <folium.vector_layers.CircleMarker at 0x7fa9b32cd208>,\n",
       " <folium.vector_layers.CircleMarker at 0x7fa9b32cd390>,\n",
       " <folium.vector_layers.CircleMarker at 0x7fa9b32cdb38>,\n",
       " <folium.vector_layers.CircleMarker at 0x7fa9b335d780>,\n",
       " <folium.vector_layers.CircleMarker at 0x7fa9b32cde48>,\n",
       " <folium.vector_layers.CircleMarker at 0x7fa9b32bb630>,\n",
       " <folium.vector_layers.CircleMarker at 0x7fa9b32bbc50>,\n",
       " <folium.vector_layers.CircleMarker at 0x7fa9b32bbb70>,\n",
       " <folium.vector_layers.CircleMarker at 0x7fa9b32e50b8>,\n",
       " <folium.vector_layers.CircleMarker at 0x7fa9b32e5160>,\n",
       " <folium.vector_layers.CircleMarker at 0x7fa9b32e5400>,\n",
       " <folium.vector_layers.CircleMarker at 0x7fa9b32e5438>,\n",
       " <folium.vector_layers.CircleMarker at 0x7fa9b32e54e0>,\n",
       " <folium.vector_layers.CircleMarker at 0x7fa9b32e5588>,\n",
       " <folium.vector_layers.CircleMarker at 0x7fa9b32e5630>,\n",
       " <folium.vector_layers.CircleMarker at 0x7fa9b32e56d8>,\n",
       " <folium.vector_layers.CircleMarker at 0x7fa9b32e5780>,\n",
       " <folium.vector_layers.CircleMarker at 0x7fa9b3312668>,\n",
       " <folium.vector_layers.CircleMarker at 0x7fa9b32bbdd8>,\n",
       " <folium.vector_layers.CircleMarker at 0x7fa9b32cda20>,\n",
       " <folium.vector_layers.CircleMarker at 0x7fa9b32cd470>,\n",
       " <folium.vector_layers.CircleMarker at 0x7fa9b32cd908>,\n",
       " <folium.vector_layers.CircleMarker at 0x7fa9b32cd160>,\n",
       " <folium.vector_layers.CircleMarker at 0x7fa9b32cde10>,\n",
       " <folium.vector_layers.CircleMarker at 0x7fa9b32cd550>,\n",
       " <folium.vector_layers.CircleMarker at 0x7fa9b32e56a0>,\n",
       " <folium.vector_layers.CircleMarker at 0x7fa9b32e5550>,\n",
       " <folium.vector_layers.CircleMarker at 0x7fa9b32e52e8>,\n",
       " <folium.vector_layers.CircleMarker at 0x7fa9b32e53c8>,\n",
       " <folium.vector_layers.CircleMarker at 0x7fa9b32e50f0>,\n",
       " <folium.vector_layers.CircleMarker at 0x7fa9b32e5828>,\n",
       " <folium.vector_layers.CircleMarker at 0x7fa9b32e5710>,\n",
       " <folium.vector_layers.CircleMarker at 0x7fa9b32e5940>,\n",
       " <folium.vector_layers.CircleMarker at 0x7fa9b32e5978>,\n",
       " <folium.vector_layers.CircleMarker at 0x7fa9b32e5a20>,\n",
       " <folium.vector_layers.CircleMarker at 0x7fa9b32e5ac8>,\n",
       " <folium.vector_layers.CircleMarker at 0x7fa9b32e5b70>,\n",
       " <folium.vector_layers.CircleMarker at 0x7fa9b32e5c18>,\n",
       " <folium.vector_layers.CircleMarker at 0x7fa9b32e5cc0>,\n",
       " <folium.vector_layers.CircleMarker at 0x7fa9b32cddd8>,\n",
       " <folium.vector_layers.CircleMarker at 0x7fa9b3327518>,\n",
       " <folium.vector_layers.CircleMarker at 0x7fa9b32bb048>,\n",
       " <folium.vector_layers.CircleMarker at 0x7fa9b32cd978>,\n",
       " <folium.vector_layers.CircleMarker at 0x7fa9b32cdda0>,\n",
       " <folium.vector_layers.CircleMarker at 0x7fa9b32e5be0>,\n",
       " <folium.vector_layers.CircleMarker at 0x7fa9b32e5a90>,\n",
       " <folium.vector_layers.CircleMarker at 0x7fa9b32e5898>,\n",
       " <folium.vector_layers.CircleMarker at 0x7fa9b32e5908>,\n",
       " <folium.vector_layers.CircleMarker at 0x7fa9b32e5208>,\n",
       " <folium.vector_layers.CircleMarker at 0x7fa9b32e5358>,\n",
       " <folium.vector_layers.CircleMarker at 0x7fa9b32e5518>,\n",
       " <folium.vector_layers.CircleMarker at 0x7fa9b32e55f8>,\n",
       " <folium.vector_layers.CircleMarker at 0x7fa9b32e5d68>,\n",
       " <folium.vector_layers.CircleMarker at 0x7fa9b32e5c50>,\n",
       " <folium.vector_layers.CircleMarker at 0x7fa9b32e5e80>,\n",
       " <folium.vector_layers.CircleMarker at 0x7fa9b32e5eb8>,\n",
       " <folium.vector_layers.CircleMarker at 0x7fa9b32e5f60>,\n",
       " <folium.vector_layers.CircleMarker at 0x7fa9b32e5ef0>,\n",
       " <folium.vector_layers.CircleMarker at 0x7fa9b3277048>,\n",
       " <folium.vector_layers.CircleMarker at 0x7fa9b3277128>,\n",
       " <folium.vector_layers.CircleMarker at 0x7fa9b3277240>,\n",
       " <folium.vector_layers.CircleMarker at 0x7fa9b32e5b00>,\n",
       " <folium.vector_layers.CircleMarker at 0x7fa9b32e5f28>,\n",
       " <folium.vector_layers.CircleMarker at 0x7fa9b32e54a8>,\n",
       " <folium.vector_layers.CircleMarker at 0x7fa9b32e5ba8>,\n",
       " <folium.vector_layers.CircleMarker at 0x7fa9b32e5320>,\n",
       " <folium.vector_layers.CircleMarker at 0x7fa9b32e5390>,\n",
       " <folium.vector_layers.CircleMarker at 0x7fa9b32bbe48>,\n",
       " <folium.vector_layers.CircleMarker at 0x7fa9b32e5080>,\n",
       " <folium.vector_layers.CircleMarker at 0x7fa9b32e58d0>,\n",
       " <folium.vector_layers.CircleMarker at 0x7fa9b32e5b38>,\n",
       " <folium.vector_layers.CircleMarker at 0x7fa9b32cd780>,\n",
       " <folium.vector_layers.CircleMarker at 0x7fa9b32cd2b0>,\n",
       " <folium.vector_layers.CircleMarker at 0x7fa9b32cdc88>,\n",
       " <folium.vector_layers.CircleMarker at 0x7fa9b32770b8>,\n",
       " <folium.vector_layers.CircleMarker at 0x7fa9b3277160>,\n",
       " <folium.vector_layers.CircleMarker at 0x7fa9b3277400>,\n",
       " <folium.vector_layers.CircleMarker at 0x7fa9b3277438>,\n",
       " <folium.vector_layers.CircleMarker at 0x7fa9b32774e0>,\n",
       " <folium.vector_layers.CircleMarker at 0x7fa9b3277588>,\n",
       " <folium.vector_layers.CircleMarker at 0x7fa9b3277630>,\n",
       " <folium.vector_layers.CircleMarker at 0x7fa9b32776d8>,\n",
       " <folium.vector_layers.CircleMarker at 0x7fa9b3277780>,\n",
       " <folium.vector_layers.CircleMarker at 0x7fa9b32cd240>,\n",
       " <folium.vector_layers.CircleMarker at 0x7fa9b32cd710>,\n",
       " <folium.vector_layers.CircleMarker at 0x7fa9b32e57b8>,\n",
       " <folium.vector_layers.CircleMarker at 0x7fa9b32e5860>,\n",
       " <folium.vector_layers.CircleMarker at 0x7fa9b32e5dd8>,\n",
       " <folium.vector_layers.CircleMarker at 0x7fa9b32e5470>,\n",
       " <folium.vector_layers.CircleMarker at 0x7fa9b32e5e10>,\n",
       " <folium.vector_layers.CircleMarker at 0x7fa9b32e5748>,\n",
       " <folium.vector_layers.CircleMarker at 0x7fa9b32775c0>,\n",
       " <folium.vector_layers.CircleMarker at 0x7fa9b32775f8>,\n",
       " <folium.vector_layers.CircleMarker at 0x7fa9b32774a8>,\n",
       " <folium.vector_layers.CircleMarker at 0x7fa9b3277080>,\n",
       " <folium.vector_layers.CircleMarker at 0x7fa9b3277358>,\n",
       " <folium.vector_layers.CircleMarker at 0x7fa9b32772b0>,\n",
       " <folium.vector_layers.CircleMarker at 0x7fa9b3277898>,\n",
       " <folium.vector_layers.CircleMarker at 0x7fa9b32778d0>,\n",
       " <folium.vector_layers.CircleMarker at 0x7fa9b32777b8>,\n",
       " <folium.vector_layers.CircleMarker at 0x7fa9b32779b0>,\n",
       " <folium.vector_layers.CircleMarker at 0x7fa9b3277a58>,\n",
       " <folium.vector_layers.CircleMarker at 0x7fa9b3277b00>,\n",
       " <folium.vector_layers.CircleMarker at 0x7fa9b3277ba8>,\n",
       " <folium.vector_layers.CircleMarker at 0x7fa9b32e59e8>,\n",
       " <folium.vector_layers.CircleMarker at 0x7fa9b32e5f98>,\n",
       " <folium.vector_layers.CircleMarker at 0x7fa9b32e5198>,\n",
       " <folium.vector_layers.CircleMarker at 0x7fa9b32cda58>,\n",
       " <folium.vector_layers.CircleMarker at 0x7fa9b32e5e48>,\n",
       " <folium.vector_layers.CircleMarker at 0x7fa9b32e5c88>,\n",
       " <folium.vector_layers.CircleMarker at 0x7fa9b3277b70>,\n",
       " <folium.vector_layers.CircleMarker at 0x7fa9b3277a20>,\n",
       " <folium.vector_layers.CircleMarker at 0x7fa9b3277668>,\n",
       " <folium.vector_layers.CircleMarker at 0x7fa9b3277710>,\n",
       " <folium.vector_layers.CircleMarker at 0x7fa9b32772e8>,\n",
       " <folium.vector_layers.CircleMarker at 0x7fa9b3277320>,\n",
       " <folium.vector_layers.CircleMarker at 0x7fa9b3277390>,\n",
       " <folium.vector_layers.CircleMarker at 0x7fa9b3277748>,\n",
       " <folium.vector_layers.CircleMarker at 0x7fa9b3277b38>,\n",
       " <folium.vector_layers.CircleMarker at 0x7fa9b3277d68>,\n",
       " <folium.vector_layers.CircleMarker at 0x7fa9b3277da0>,\n",
       " <folium.vector_layers.CircleMarker at 0x7fa9b3277e48>,\n",
       " <folium.vector_layers.CircleMarker at 0x7fa9b3277ef0>,\n",
       " <folium.vector_layers.CircleMarker at 0x7fa9b3277f98>,\n",
       " <folium.vector_layers.CircleMarker at 0x7fa9b3277f28>,\n",
       " <folium.vector_layers.CircleMarker at 0x7fa9b328b0b8>,\n",
       " <folium.vector_layers.CircleMarker at 0x7fa9b3277c50>,\n",
       " <folium.vector_layers.CircleMarker at 0x7fa9b3277be0>,\n",
       " <folium.vector_layers.CircleMarker at 0x7fa9b3277518>,\n",
       " <folium.vector_layers.CircleMarker at 0x7fa9b3277470>,\n",
       " <folium.vector_layers.CircleMarker at 0x7fa9b32776a0>,\n",
       " <folium.vector_layers.CircleMarker at 0x7fa9b3277940>,\n",
       " <folium.vector_layers.CircleMarker at 0x7fa9b3277828>,\n",
       " <folium.vector_layers.CircleMarker at 0x7fa9b32bb470>,\n",
       " <folium.vector_layers.CircleMarker at 0x7fa9b3277278>,\n",
       " <folium.vector_layers.CircleMarker at 0x7fa9b3277198>,\n",
       " <folium.vector_layers.CircleMarker at 0x7fa9b3277a90>,\n",
       " <folium.vector_layers.CircleMarker at 0x7fa9b32e5668>,\n",
       " <folium.vector_layers.CircleMarker at 0x7fa9b32e5da0>,\n",
       " <folium.vector_layers.CircleMarker at 0x7fa9b32e57f0>,\n",
       " <folium.vector_layers.CircleMarker at 0x7fa9b32e5278>,\n",
       " <folium.vector_layers.CircleMarker at 0x7fa9b32cdf98>,\n",
       " <folium.vector_layers.CircleMarker at 0x7fa9b32cdcf8>,\n",
       " <folium.vector_layers.CircleMarker at 0x7fa9b328b240>,\n",
       " <folium.vector_layers.CircleMarker at 0x7fa9b328b2b0>,\n",
       " <folium.vector_layers.CircleMarker at 0x7fa9b328b198>,\n",
       " <folium.vector_layers.CircleMarker at 0x7fa9b328b390>,\n",
       " <folium.vector_layers.CircleMarker at 0x7fa9b328b438>,\n",
       " <folium.vector_layers.CircleMarker at 0x7fa9b32cdba8>,\n",
       " <folium.vector_layers.CircleMarker at 0x7fa9b32cdd30>,\n",
       " <folium.vector_layers.CircleMarker at 0x7fa9b32e5fd0>,\n",
       " <folium.vector_layers.CircleMarker at 0x7fa9b32e5a58>,\n",
       " <folium.vector_layers.CircleMarker at 0x7fa9b3277c18>,\n",
       " <folium.vector_layers.CircleMarker at 0x7fa9b3277908>,\n",
       " <folium.vector_layers.CircleMarker at 0x7fa9b3277c88>,\n",
       " <folium.vector_layers.CircleMarker at 0x7fa9b3277208>,\n",
       " <folium.vector_layers.CircleMarker at 0x7fa9b3277dd8>,\n",
       " <folium.vector_layers.CircleMarker at 0x7fa9b3277cf8>,\n",
       " <folium.vector_layers.CircleMarker at 0x7fa9b3277d30>,\n",
       " <folium.vector_layers.CircleMarker at 0x7fa9b328b2e8>,\n",
       " <folium.vector_layers.CircleMarker at 0x7fa9b328b0f0>,\n",
       " <folium.vector_layers.CircleMarker at 0x7fa9b328b4e0>,\n",
       " <folium.vector_layers.CircleMarker at 0x7fa9b328b3c8>,\n",
       " <folium.vector_layers.CircleMarker at 0x7fa9b328b5f8>,\n",
       " <folium.vector_layers.CircleMarker at 0x7fa9b328b630>,\n",
       " <folium.vector_layers.CircleMarker at 0x7fa9b328b6d8>,\n",
       " <folium.vector_layers.CircleMarker at 0x7fa9b328b780>,\n",
       " <folium.vector_layers.CircleMarker at 0x7fa9b328b828>,\n",
       " <folium.vector_layers.CircleMarker at 0x7fa9b328b8d0>,\n",
       " <folium.vector_layers.CircleMarker at 0x7fa9b328b978>,\n",
       " <folium.vector_layers.CircleMarker at 0x7fa9b3277978>,\n",
       " <folium.vector_layers.CircleMarker at 0x7fa9b3277e10>,\n",
       " <folium.vector_layers.CircleMarker at 0x7fa9b32770f0>,\n",
       " <folium.vector_layers.CircleMarker at 0x7fa9b32cd860>,\n",
       " <folium.vector_layers.CircleMarker at 0x7fa9b3277550>,\n",
       " <folium.vector_layers.CircleMarker at 0x7fa9b32e55c0>,\n",
       " <folium.vector_layers.CircleMarker at 0x7fa9b32e52b0>,\n",
       " <folium.vector_layers.CircleMarker at 0x7fa9b328b7b8>,\n",
       " <folium.vector_layers.CircleMarker at 0x7fa9b328b7f0>,\n",
       " <folium.vector_layers.CircleMarker at 0x7fa9b328b6a0>,\n",
       " <folium.vector_layers.CircleMarker at 0x7fa9b328b278>,\n",
       " <folium.vector_layers.CircleMarker at 0x7fa9b328b518>,\n",
       " <folium.vector_layers.CircleMarker at 0x7fa9b328b358>,\n",
       " <folium.vector_layers.CircleMarker at 0x7fa9b328ba20>,\n",
       " <folium.vector_layers.CircleMarker at 0x7fa9b328b908>,\n",
       " <folium.vector_layers.CircleMarker at 0x7fa9b328bb38>,\n",
       " <folium.vector_layers.CircleMarker at 0x7fa9b328bb70>,\n",
       " <folium.vector_layers.CircleMarker at 0x7fa9b328bc18>,\n",
       " <folium.vector_layers.CircleMarker at 0x7fa9b328bcc0>,\n",
       " <folium.vector_layers.CircleMarker at 0x7fa9b328bd68>,\n",
       " <folium.vector_layers.CircleMarker at 0x7fa9b328be10>,\n",
       " <folium.vector_layers.CircleMarker at 0x7fa9b328beb8>,\n",
       " <folium.vector_layers.CircleMarker at 0x7fa9b32cdfd0>,\n",
       " <folium.vector_layers.CircleMarker at 0x7fa9b32e51d0>,\n",
       " <folium.vector_layers.CircleMarker at 0x7fa9b3277e80>,\n",
       " <folium.vector_layers.CircleMarker at 0x7fa9b3277eb8>,\n",
       " <folium.vector_layers.CircleMarker at 0x7fa9b32777f0>,\n",
       " <folium.vector_layers.CircleMarker at 0x7fa9b328bba8>,\n",
       " <folium.vector_layers.CircleMarker at 0x7fa9b328bac8>,\n",
       " <folium.vector_layers.CircleMarker at 0x7fa9b328b208>,\n",
       " <folium.vector_layers.CircleMarker at 0x7fa9b328b160>,\n",
       " <folium.vector_layers.CircleMarker at 0x7fa9b328b860>,\n",
       " <folium.vector_layers.CircleMarker at 0x7fa9b328b470>,\n",
       " <folium.vector_layers.CircleMarker at 0x7fa9b328b080>,\n",
       " <folium.vector_layers.CircleMarker at 0x7fa9b328b898>,\n",
       " <folium.vector_layers.CircleMarker at 0x7fa9b328bf60>,\n",
       " <folium.vector_layers.CircleMarker at 0x7fa9b328be48>,\n",
       " <folium.vector_layers.CircleMarker at 0x7fa9b328bfd0>,\n",
       " <folium.vector_layers.CircleMarker at 0x7fa9b32a2048>,\n",
       " <folium.vector_layers.CircleMarker at 0x7fa9b32a2160>,\n",
       " <folium.vector_layers.CircleMarker at 0x7fa9b32a2240>,\n",
       " <folium.vector_layers.CircleMarker at 0x7fa9b32a22e8>,\n",
       " <folium.vector_layers.CircleMarker at 0x7fa9b32a2390>,\n",
       " <folium.vector_layers.CircleMarker at 0x7fa9b32a2438>,\n",
       " <folium.vector_layers.CircleMarker at 0x7fa9b328be80>,\n",
       " <folium.vector_layers.CircleMarker at 0x7fa9b328bf98>,\n",
       " <folium.vector_layers.CircleMarker at 0x7fa9b328ba58>,\n",
       " <folium.vector_layers.CircleMarker at 0x7fa9b328b048>,\n",
       " <folium.vector_layers.CircleMarker at 0x7fa9b328bd30>,\n",
       " <folium.vector_layers.CircleMarker at 0x7fa9b328ba90>,\n",
       " <folium.vector_layers.CircleMarker at 0x7fa9b328bc50>,\n",
       " <folium.vector_layers.CircleMarker at 0x7fa9b328bc88>,\n",
       " <folium.vector_layers.CircleMarker at 0x7fa9b32e5cf8>,\n",
       " <folium.vector_layers.CircleMarker at 0x7fa9b32779e8>,\n",
       " <folium.vector_layers.CircleMarker at 0x7fa9b3277860>,\n",
       " <folium.vector_layers.CircleMarker at 0x7fa9b32a2128>,\n",
       " <folium.vector_layers.CircleMarker at 0x7fa9b32a20f0>,\n",
       " <folium.vector_layers.CircleMarker at 0x7fa9b32a24e0>,\n",
       " <folium.vector_layers.CircleMarker at 0x7fa9b32a23c8>,\n",
       " <folium.vector_layers.CircleMarker at 0x7fa9b32a25f8>,\n",
       " <folium.vector_layers.CircleMarker at 0x7fa9b32a2630>,\n",
       " <folium.vector_layers.CircleMarker at 0x7fa9b32a26d8>,\n",
       " <folium.vector_layers.CircleMarker at 0x7fa9b32a2780>,\n",
       " <folium.vector_layers.CircleMarker at 0x7fa9b32a2828>,\n",
       " <folium.vector_layers.CircleMarker at 0x7fa9b32a28d0>,\n",
       " <folium.vector_layers.CircleMarker at 0x7fa9b32a2978>,\n",
       " <folium.vector_layers.CircleMarker at 0x7fa9b32773c8>,\n",
       " <folium.vector_layers.CircleMarker at 0x7fa9b32771d0>,\n",
       " <folium.vector_layers.CircleMarker at 0x7fa9b328bbe0>,\n",
       " <folium.vector_layers.CircleMarker at 0x7fa9b328b5c0>,\n",
       " <folium.vector_layers.CircleMarker at 0x7fa9b328b550>,\n",
       " <folium.vector_layers.CircleMarker at 0x7fa9b328b940>,\n",
       " <folium.vector_layers.CircleMarker at 0x7fa9b328b710>,\n",
       " <folium.vector_layers.CircleMarker at 0x7fa9b32a2668>,\n",
       " <folium.vector_layers.CircleMarker at 0x7fa9b32a2588>,\n",
       " <folium.vector_layers.CircleMarker at 0x7fa9b32a20b8>,\n",
       " <folium.vector_layers.CircleMarker at 0x7fa9b32a22b0>,\n",
       " <folium.vector_layers.CircleMarker at 0x7fa9b32a2320>,\n",
       " <folium.vector_layers.CircleMarker at 0x7fa9b32a2198>,\n",
       " <folium.vector_layers.CircleMarker at 0x7fa9b32a2a20>,\n",
       " <folium.vector_layers.CircleMarker at 0x7fa9b32a2908>,\n",
       " <folium.vector_layers.CircleMarker at 0x7fa9b32a2b38>,\n",
       " <folium.vector_layers.CircleMarker at 0x7fa9b32a2b70>,\n",
       " <folium.vector_layers.CircleMarker at 0x7fa9b32a2c18>,\n",
       " <folium.vector_layers.CircleMarker at 0x7fa9b32a2cc0>,\n",
       " <folium.vector_layers.CircleMarker at 0x7fa9b32a2d68>,\n",
       " <folium.vector_layers.CircleMarker at 0x7fa9b32a2e10>,\n",
       " <folium.vector_layers.CircleMarker at 0x7fa9b328b9b0>,\n",
       " <folium.vector_layers.CircleMarker at 0x7fa9b32e5d30>,\n",
       " <folium.vector_layers.CircleMarker at 0x7fa9b3277ac8>,\n",
       " <folium.vector_layers.CircleMarker at 0x7fa9b328bcf8>,\n",
       " <folium.vector_layers.CircleMarker at 0x7fa9b328bdd8>,\n",
       " <folium.vector_layers.CircleMarker at 0x7fa9b32a2ba8>,\n",
       " <folium.vector_layers.CircleMarker at 0x7fa9b32a2ac8>,\n",
       " <folium.vector_layers.CircleMarker at 0x7fa9b32a2400>,\n",
       " <folium.vector_layers.CircleMarker at 0x7fa9b32a21d0>,\n",
       " <folium.vector_layers.CircleMarker at 0x7fa9b32a2860>,\n",
       " <folium.vector_layers.CircleMarker at 0x7fa9b32a26a0>,\n",
       " <folium.vector_layers.CircleMarker at 0x7fa9b32a25c0>,\n",
       " <folium.vector_layers.CircleMarker at 0x7fa9b32a2748>,\n",
       " <folium.vector_layers.CircleMarker at 0x7fa9b32a27b8>,\n",
       " <folium.vector_layers.CircleMarker at 0x7fa9b32a2da0>,\n",
       " <folium.vector_layers.CircleMarker at 0x7fa9b32a2fd0>,\n",
       " <folium.vector_layers.CircleMarker at 0x7fa9b32a2f60>,\n",
       " <folium.vector_layers.CircleMarker at 0x7fa9b3237048>,\n",
       " <folium.vector_layers.CircleMarker at 0x7fa9b3237160>,\n",
       " <folium.vector_layers.CircleMarker at 0x7fa9b3237240>,\n",
       " <folium.vector_layers.CircleMarker at 0x7fa9b32372e8>,\n",
       " <folium.vector_layers.CircleMarker at 0x7fa9b3237390>,\n",
       " <folium.vector_layers.CircleMarker at 0x7fa9b32a2f28>,\n",
       " <folium.vector_layers.CircleMarker at 0x7fa9b32a2f98>,\n",
       " <folium.vector_layers.CircleMarker at 0x7fa9b32a2080>,\n",
       " <folium.vector_layers.CircleMarker at 0x7fa9b32a27f0>,\n",
       " <folium.vector_layers.CircleMarker at 0x7fa9b32a2be0>,\n",
       " <folium.vector_layers.CircleMarker at 0x7fa9b3277cc0>,\n",
       " <folium.vector_layers.CircleMarker at 0x7fa9b32a2278>,\n",
       " <folium.vector_layers.CircleMarker at 0x7fa9b32a2518>,\n",
       " <folium.vector_layers.CircleMarker at 0x7fa9b32a2c50>,\n",
       " <folium.vector_layers.CircleMarker at 0x7fa9b328b400>,\n",
       " <folium.vector_layers.CircleMarker at 0x7fa9b328b748>,\n",
       " <folium.vector_layers.CircleMarker at 0x7fa9b3237198>,\n",
       " <folium.vector_layers.CircleMarker at 0x7fa9b32371d0>,\n",
       " <folium.vector_layers.CircleMarker at 0x7fa9b3237438>,\n",
       " <folium.vector_layers.CircleMarker at 0x7fa9b3237320>,\n",
       " <folium.vector_layers.CircleMarker at 0x7fa9b3237550>,\n",
       " <folium.vector_layers.CircleMarker at 0x7fa9b3237588>,\n",
       " <folium.vector_layers.CircleMarker at 0x7fa9b3237630>,\n",
       " <folium.vector_layers.CircleMarker at 0x7fa9b32376d8>,\n",
       " <folium.vector_layers.CircleMarker at 0x7fa9b3237780>,\n",
       " <folium.vector_layers.CircleMarker at 0x7fa9b3237828>,\n",
       " <folium.vector_layers.CircleMarker at 0x7fa9b32378d0>,\n",
       " <folium.vector_layers.CircleMarker at 0x7fa9b328b1d0>,\n",
       " <folium.vector_layers.CircleMarker at 0x7fa9b328bb00>,\n",
       " <folium.vector_layers.CircleMarker at 0x7fa9b32a29b0>,\n",
       " <folium.vector_layers.CircleMarker at 0x7fa9b32a2d30>,\n",
       " <folium.vector_layers.CircleMarker at 0x7fa9b32a2940>,\n",
       " <folium.vector_layers.CircleMarker at 0x7fa9b32a2ef0>,\n",
       " <folium.vector_layers.CircleMarker at 0x7fa9b32a2a58>,\n",
       " <folium.vector_layers.CircleMarker at 0x7fa9b3237710>,\n",
       " <folium.vector_layers.CircleMarker at 0x7fa9b3237748>,\n",
       " <folium.vector_layers.CircleMarker at 0x7fa9b32375f8>,\n",
       " <folium.vector_layers.CircleMarker at 0x7fa9b32370f0>,\n",
       " <folium.vector_layers.CircleMarker at 0x7fa9b3237470>,\n",
       " <folium.vector_layers.CircleMarker at 0x7fa9b32372b0>,\n",
       " <folium.vector_layers.CircleMarker at 0x7fa9b3237978>,\n",
       " <folium.vector_layers.CircleMarker at 0x7fa9b3237860>,\n",
       " <folium.vector_layers.CircleMarker at 0x7fa9b3237a90>,\n",
       " <folium.vector_layers.CircleMarker at 0x7fa9b3237ac8>,\n",
       " <folium.vector_layers.CircleMarker at 0x7fa9b3237b70>,\n",
       " <folium.vector_layers.CircleMarker at 0x7fa9b3237c18>,\n",
       " <folium.vector_layers.CircleMarker at 0x7fa9b3237cc0>,\n",
       " <folium.vector_layers.CircleMarker at 0x7fa9b3237d68>,\n",
       " <folium.vector_layers.CircleMarker at 0x7fa9b3237e10>,\n",
       " <folium.vector_layers.CircleMarker at 0x7fa9b32a2c88>,\n",
       " <folium.vector_layers.CircleMarker at 0x7fa9b32a2358>,\n",
       " <folium.vector_layers.CircleMarker at 0x7fa9b328bda0>,\n",
       " <folium.vector_layers.CircleMarker at 0x7fa9b32a29e8>,\n",
       " <folium.vector_layers.CircleMarker at 0x7fa9b32a2dd8>,\n",
       " <folium.vector_layers.CircleMarker at 0x7fa9b3237b00>,\n",
       " <folium.vector_layers.CircleMarker at 0x7fa9b3237a20>,\n",
       " <folium.vector_layers.CircleMarker at 0x7fa9b3237128>,\n",
       " <folium.vector_layers.CircleMarker at 0x7fa9b3237278>,\n",
       " <folium.vector_layers.CircleMarker at 0x7fa9b32377b8>,\n",
       " <folium.vector_layers.CircleMarker at 0x7fa9b32373c8>,\n",
       " <folium.vector_layers.CircleMarker at 0x7fa9b32370b8>,\n",
       " <folium.vector_layers.CircleMarker at 0x7fa9b32377f0>,\n",
       " <folium.vector_layers.CircleMarker at 0x7fa9b3237eb8>,\n",
       " <folium.vector_layers.CircleMarker at 0x7fa9b3237da0>,\n",
       " <folium.vector_layers.CircleMarker at 0x7fa9b3237fd0>,\n",
       " <folium.vector_layers.CircleMarker at 0x7fa9b3237f60>,\n",
       " <folium.vector_layers.CircleMarker at 0x7fa9b324c048>,\n",
       " <folium.vector_layers.CircleMarker at 0x7fa9b324c128>,\n",
       " <folium.vector_layers.CircleMarker at 0x7fa9b324c240>,\n",
       " <folium.vector_layers.CircleMarker at 0x7fa9b324c2e8>,\n",
       " <folium.vector_layers.CircleMarker at 0x7fa9b328b668>,\n",
       " <folium.vector_layers.CircleMarker at 0x7fa9b3237668>,\n",
       " <folium.vector_layers.CircleMarker at 0x7fa9b3237ef0>,\n",
       " <folium.vector_layers.CircleMarker at 0x7fa9b32376a0>,\n",
       " <folium.vector_layers.CircleMarker at 0x7fa9b3237358>,\n",
       " <folium.vector_layers.CircleMarker at 0x7fa9b3237518>,\n",
       " <folium.vector_layers.CircleMarker at 0x7fa9b3237d30>,\n",
       " <folium.vector_layers.CircleMarker at 0x7fa9b3237908>,\n",
       " <folium.vector_layers.CircleMarker at 0x7fa9b3237e80>,\n",
       " <folium.vector_layers.CircleMarker at 0x7fa9b32379e8>,\n",
       " <folium.vector_layers.CircleMarker at 0x7fa9b32a2208>,\n",
       " <folium.vector_layers.CircleMarker at 0x7fa9b32a2550>,\n",
       " <folium.vector_layers.CircleMarker at 0x7fa9b324c390>,\n",
       " <folium.vector_layers.CircleMarker at 0x7fa9b324c1d0>,\n",
       " <folium.vector_layers.CircleMarker at 0x7fa9b324c278>,\n",
       " <folium.vector_layers.CircleMarker at 0x7fa9b324c4a8>,\n",
       " <folium.vector_layers.CircleMarker at 0x7fa9b324c4e0>,\n",
       " <folium.vector_layers.CircleMarker at 0x7fa9b324c588>,\n",
       " <folium.vector_layers.CircleMarker at 0x7fa9b324c630>,\n",
       " <folium.vector_layers.CircleMarker at 0x7fa9b324c6d8>,\n",
       " <folium.vector_layers.CircleMarker at 0x7fa9b324c780>,\n",
       " <folium.vector_layers.CircleMarker at 0x7fa9b324c828>,\n",
       " <folium.vector_layers.CircleMarker at 0x7fa9b32a2b00>,\n",
       " <folium.vector_layers.CircleMarker at 0x7fa9b32a2eb8>,\n",
       " <folium.vector_layers.CircleMarker at 0x7fa9b3237c88>,\n",
       " <folium.vector_layers.CircleMarker at 0x7fa9b3237a58>,\n",
       " <folium.vector_layers.CircleMarker at 0x7fa9b3237898>,\n",
       " <folium.vector_layers.CircleMarker at 0x7fa9b3237f98>,\n",
       " <folium.vector_layers.CircleMarker at 0x7fa9b3237dd8>,\n",
       " <folium.vector_layers.CircleMarker at 0x7fa9b32374e0>,\n",
       " <folium.vector_layers.CircleMarker at 0x7fa9b324c748>,\n",
       " <folium.vector_layers.CircleMarker at 0x7fa9b324c5f8>,\n",
       " <folium.vector_layers.CircleMarker at 0x7fa9b324c0b8>,\n",
       " <folium.vector_layers.CircleMarker at 0x7fa9b324c470>,\n",
       " <folium.vector_layers.CircleMarker at 0x7fa9b324c2b0>,\n",
       " <folium.vector_layers.CircleMarker at 0x7fa9b324c8d0>,\n",
       " <folium.vector_layers.CircleMarker at 0x7fa9b324c7b8>,\n",
       " <folium.vector_layers.CircleMarker at 0x7fa9b324c9e8>,\n",
       " <folium.vector_layers.CircleMarker at 0x7fa9b324ca20>,\n",
       " <folium.vector_layers.CircleMarker at 0x7fa9b324cac8>,\n",
       " <folium.vector_layers.CircleMarker at 0x7fa9b324cb70>,\n",
       " <folium.vector_layers.CircleMarker at 0x7fa9b324cc18>,\n",
       " <folium.vector_layers.CircleMarker at 0x7fa9b324ccc0>,\n",
       " <folium.vector_layers.CircleMarker at 0x7fa9b324cd68>,\n",
       " <folium.vector_layers.CircleMarker at 0x7fa9b3237c50>,\n",
       " <folium.vector_layers.CircleMarker at 0x7fa9b3237080>,\n",
       " <folium.vector_layers.CircleMarker at 0x7fa9b3237be0>,\n",
       " <folium.vector_layers.CircleMarker at 0x7fa9b3237400>,\n",
       " <folium.vector_layers.CircleMarker at 0x7fa9b3237cf8>,\n",
       " <folium.vector_layers.CircleMarker at 0x7fa9b32a2898>,\n",
       " <folium.vector_layers.CircleMarker at 0x7fa9b32a2cf8>,\n",
       " <folium.vector_layers.CircleMarker at 0x7fa9b32a2e48>,\n",
       " <folium.vector_layers.CircleMarker at 0x7fa9b328b9e8>,\n",
       " <folium.vector_layers.CircleMarker at 0x7fa9b328bf28>,\n",
       " <folium.vector_layers.CircleMarker at 0x7fa9b324cc88>,\n",
       " <folium.vector_layers.CircleMarker at 0x7fa9b324cb38>,\n",
       " <folium.vector_layers.CircleMarker at 0x7fa9b324c940>,\n",
       " <folium.vector_layers.CircleMarker at 0x7fa9b324c9b0>,\n",
       " <folium.vector_layers.CircleMarker at 0x7fa9b324c160>,\n",
       " <folium.vector_layers.CircleMarker at 0x7fa9b324c080>,\n",
       " <folium.vector_layers.CircleMarker at 0x7fa9b324c5c0>,\n",
       " <folium.vector_layers.CircleMarker at 0x7fa9b324c6a0>,\n",
       " <folium.vector_layers.CircleMarker at 0x7fa9b324c198>,\n",
       " <folium.vector_layers.CircleMarker at 0x7fa9b324ce10>,\n",
       " <folium.vector_layers.CircleMarker at 0x7fa9b324ccf8>,\n",
       " <folium.vector_layers.CircleMarker at 0x7fa9b324cf28>,\n",
       " <folium.vector_layers.CircleMarker at 0x7fa9b3277f60>,\n",
       " <folium.vector_layers.CircleMarker at 0x7fa9b32a24a8>,\n",
       " <folium.vector_layers.CircleMarker at 0x7fa9b32a2710>,\n",
       " <folium.vector_layers.CircleMarker at 0x7fa9b328b4a8>,\n",
       " <folium.vector_layers.CircleMarker at 0x7fa9b3237940>,\n",
       " <folium.vector_layers.CircleMarker at 0x7fa9b32375c0>,\n",
       " <folium.vector_layers.CircleMarker at 0x7fa9b3237208>,\n",
       " <folium.vector_layers.CircleMarker at 0x7fa9b324c550>,\n",
       " <folium.vector_layers.CircleMarker at 0x7fa9b324c710>,\n",
       " <folium.vector_layers.CircleMarker at 0x7fa9b324c208>,\n",
       " <folium.vector_layers.CircleMarker at 0x7fa9b324c978>,\n",
       " <folium.vector_layers.CircleMarker at 0x7fa9b324c400>,\n",
       " <folium.vector_layers.CircleMarker at 0x7fa9b324c860>,\n",
       " <folium.vector_layers.CircleMarker at 0x7fa9b324cf60>,\n",
       " <folium.vector_layers.CircleMarker at 0x7fa9b324ceb8>,\n",
       " <folium.vector_layers.CircleMarker at 0x7fa9b324cfd0>,\n",
       " <folium.vector_layers.CircleMarker at 0x7fa9b3261048>,\n",
       " <folium.vector_layers.CircleMarker at 0x7fa9b3261160>,\n",
       " <folium.vector_layers.CircleMarker at 0x7fa9b3261240>,\n",
       " <folium.vector_layers.CircleMarker at 0x7fa9b32612e8>,\n",
       " <folium.vector_layers.CircleMarker at 0x7fa9b3261390>,\n",
       " <folium.vector_layers.CircleMarker at 0x7fa9b3261438>,\n",
       " <folium.vector_layers.CircleMarker at 0x7fa9b324cef0>,\n",
       " <folium.vector_layers.CircleMarker at 0x7fa9b324cf98>,\n",
       " <folium.vector_layers.CircleMarker at 0x7fa9b324c320>,\n",
       " <folium.vector_layers.CircleMarker at 0x7fa9b324c438>,\n",
       " <folium.vector_layers.CircleMarker at 0x7fa9b324c898>,\n",
       " <folium.vector_layers.CircleMarker at 0x7fa9b32a2470>,\n",
       " <folium.vector_layers.CircleMarker at 0x7fa9b328b588>,\n",
       " <folium.vector_layers.CircleMarker at 0x7fa9b32e59b0>,\n",
       " <folium.vector_layers.CircleMarker at 0x7fa9b324c518>,\n",
       " <folium.vector_layers.CircleMarker at 0x7fa9b3237f28>,\n",
       " <folium.vector_layers.CircleMarker at 0x7fa9b32379b0>,\n",
       " <folium.vector_layers.CircleMarker at 0x7fa9b3261128>,\n",
       " <folium.vector_layers.CircleMarker at 0x7fa9b32610f0>,\n",
       " <folium.vector_layers.CircleMarker at 0x7fa9b32614e0>,\n",
       " <folium.vector_layers.CircleMarker at 0x7fa9b32613c8>,\n",
       " <folium.vector_layers.CircleMarker at 0x7fa9b32615f8>,\n",
       " <folium.vector_layers.CircleMarker at 0x7fa9b3261630>,\n",
       " <folium.vector_layers.CircleMarker at 0x7fa9b32616d8>,\n",
       " <folium.vector_layers.CircleMarker at 0x7fa9b3261780>,\n",
       " <folium.vector_layers.CircleMarker at 0x7fa9b3261828>,\n",
       " <folium.vector_layers.CircleMarker at 0x7fa9b32618d0>,\n",
       " <folium.vector_layers.CircleMarker at 0x7fa9b3261978>,\n",
       " <folium.vector_layers.CircleMarker at 0x7fa9b3237ba8>,\n",
       " <folium.vector_layers.CircleMarker at 0x7fa9b32a2e80>,\n",
       " <folium.vector_layers.CircleMarker at 0x7fa9b324ce48>,\n",
       " <folium.vector_layers.CircleMarker at 0x7fa9b324c908>,\n",
       " <folium.vector_layers.CircleMarker at 0x7fa9b324c0f0>,\n",
       " <folium.vector_layers.CircleMarker at 0x7fa9b324cbe0>,\n",
       " <folium.vector_layers.CircleMarker at 0x7fa9b324c3c8>,\n",
       " <folium.vector_layers.CircleMarker at 0x7fa9b3261668>,\n",
       " <folium.vector_layers.CircleMarker at 0x7fa9b3261588>,\n",
       " <folium.vector_layers.CircleMarker at 0x7fa9b32610b8>,\n",
       " <folium.vector_layers.CircleMarker at 0x7fa9b32612b0>,\n",
       " <folium.vector_layers.CircleMarker at 0x7fa9b3261320>,\n",
       " <folium.vector_layers.CircleMarker at 0x7fa9b3261198>,\n",
       " <folium.vector_layers.CircleMarker at 0x7fa9b3261a20>,\n",
       " <folium.vector_layers.CircleMarker at 0x7fa9b3261908>,\n",
       " <folium.vector_layers.CircleMarker at 0x7fa9b3261b38>,\n",
       " <folium.vector_layers.CircleMarker at 0x7fa9b3261b70>,\n",
       " <folium.vector_layers.CircleMarker at 0x7fa9b3261c18>,\n",
       " <folium.vector_layers.CircleMarker at 0x7fa9b3261cc0>,\n",
       " <folium.vector_layers.CircleMarker at 0x7fa9b3261d68>,\n",
       " <folium.vector_layers.CircleMarker at 0x7fa9b3261e10>,\n",
       " <folium.vector_layers.CircleMarker at 0x7fa9b3261eb8>,\n",
       " <folium.vector_layers.CircleMarker at 0x7fa9b32a2a90>,\n",
       " <folium.vector_layers.CircleMarker at 0x7fa9b328b320>,\n",
       " <folium.vector_layers.CircleMarker at 0x7fa9b324cc50>,\n",
       " <folium.vector_layers.CircleMarker at 0x7fa9b324cba8>,\n",
       " <folium.vector_layers.CircleMarker at 0x7fa9b3261dd8>,\n",
       " <folium.vector_layers.CircleMarker at 0x7fa9b3261c88>,\n",
       " <folium.vector_layers.CircleMarker at 0x7fa9b3261a90>,\n",
       " <folium.vector_layers.CircleMarker at 0x7fa9b3261b00>,\n",
       " <folium.vector_layers.CircleMarker at 0x7fa9b3261518>,\n",
       " <folium.vector_layers.CircleMarker at 0x7fa9b3261208>,\n",
       " <folium.vector_layers.CircleMarker at 0x7fa9b32617f0>,\n",
       " <folium.vector_layers.CircleMarker at 0x7fa9b3261550>,\n",
       " <folium.vector_layers.CircleMarker at 0x7fa9b3261710>,\n",
       " <folium.vector_layers.CircleMarker at 0x7fa9b3261f60>,\n",
       " <folium.vector_layers.CircleMarker at 0x7fa9b3261e48>,\n",
       " <folium.vector_layers.CircleMarker at 0x7fa9b3261fd0>,\n",
       " <folium.vector_layers.CircleMarker at 0x7fa9b31f6048>,\n",
       " <folium.vector_layers.CircleMarker at 0x7fa9b31f6160>,\n",
       " <folium.vector_layers.CircleMarker at 0x7fa9b31f6240>,\n",
       " <folium.vector_layers.CircleMarker at 0x7fa9b31f62e8>,\n",
       " <folium.vector_layers.CircleMarker at 0x7fa9b31f6390>,\n",
       " <folium.vector_layers.CircleMarker at 0x7fa9b31f6438>,\n",
       " <folium.vector_layers.CircleMarker at 0x7fa9b3261cf8>,\n",
       " <folium.vector_layers.CircleMarker at 0x7fa9b3261f98>,\n",
       " <folium.vector_layers.CircleMarker at 0x7fa9b3261860>,\n",
       " <folium.vector_layers.CircleMarker at 0x7fa9b3261358>,\n",
       " <folium.vector_layers.CircleMarker at 0x7fa9b3261ac8>,\n",
       " <folium.vector_layers.CircleMarker at 0x7fa9b328bef0>,\n",
       " <folium.vector_layers.CircleMarker at 0x7fa9b3261400>,\n",
       " <folium.vector_layers.CircleMarker at 0x7fa9b32374a8>,\n",
       " <folium.vector_layers.CircleMarker at 0x7fa9b3261e80>,\n",
       " <folium.vector_layers.CircleMarker at 0x7fa9b324ca90>,\n",
       " <folium.vector_layers.CircleMarker at 0x7fa9b324c358>,\n",
       " <folium.vector_layers.CircleMarker at 0x7fa9b31f6128>,\n",
       " <folium.vector_layers.CircleMarker at 0x7fa9b31f60f0>,\n",
       " <folium.vector_layers.CircleMarker at 0x7fa9b31f64e0>,\n",
       " <folium.vector_layers.CircleMarker at 0x7fa9b31f63c8>,\n",
       " <folium.vector_layers.CircleMarker at 0x7fa9b31f65f8>,\n",
       " <folium.vector_layers.CircleMarker at 0x7fa9b31f6630>,\n",
       " <folium.vector_layers.CircleMarker at 0x7fa9b31f66d8>,\n",
       " <folium.vector_layers.CircleMarker at 0x7fa9b31f6780>,\n",
       " <folium.vector_layers.CircleMarker at 0x7fa9b31f6828>,\n",
       " <folium.vector_layers.CircleMarker at 0x7fa9b31f68d0>,\n",
       " <folium.vector_layers.CircleMarker at 0x7fa9b31f6978>,\n",
       " <folium.vector_layers.CircleMarker at 0x7fa9b324cb00>,\n",
       " <folium.vector_layers.CircleMarker at 0x7fa9b3261a58>,\n",
       " <folium.vector_layers.CircleMarker at 0x7fa9b3261898>,\n",
       " <folium.vector_layers.CircleMarker at 0x7fa9b3261080>,\n",
       " <folium.vector_layers.CircleMarker at 0x7fa9b32616a0>,\n",
       " <folium.vector_layers.CircleMarker at 0x7fa9b32617b8>,\n",
       " <folium.vector_layers.CircleMarker at 0x7fa9b3261da0>,\n",
       " <folium.vector_layers.CircleMarker at 0x7fa9b31f6898>,\n",
       " <folium.vector_layers.CircleMarker at 0x7fa9b31f6748>,\n",
       " <folium.vector_layers.CircleMarker at 0x7fa9b31f6550>,\n",
       " <folium.vector_layers.CircleMarker at 0x7fa9b31f65c0>,\n",
       " <folium.vector_layers.CircleMarker at 0x7fa9b31f6358>,\n",
       " <folium.vector_layers.CircleMarker at 0x7fa9b31f6208>,\n",
       " <folium.vector_layers.CircleMarker at 0x7fa9b31f64a8>,\n",
       " <folium.vector_layers.CircleMarker at 0x7fa9b31f6a90>,\n",
       " <folium.vector_layers.CircleMarker at 0x7fa9b31f6ac8>,\n",
       " <folium.vector_layers.CircleMarker at 0x7fa9b31f69b0>,\n",
       " <folium.vector_layers.CircleMarker at 0x7fa9b31f6ba8>,\n",
       " <folium.vector_layers.CircleMarker at 0x7fa9b31f6c50>,\n",
       " <folium.vector_layers.CircleMarker at 0x7fa9b31f6cf8>,\n",
       " <folium.vector_layers.CircleMarker at 0x7fa9b31f6da0>,\n",
       " <folium.vector_layers.CircleMarker at 0x7fa9b3261278>,\n",
       " <folium.vector_layers.CircleMarker at 0x7fa9b324c7f0>,\n",
       " <folium.vector_layers.CircleMarker at 0x7fa9b3261d30>,\n",
       " <folium.vector_layers.CircleMarker at 0x7fa9b3261ef0>,\n",
       " <folium.vector_layers.CircleMarker at 0x7fa9b3261be0>,\n",
       " <folium.vector_layers.CircleMarker at 0x7fa9b31f6d68>,\n",
       " <folium.vector_layers.CircleMarker at 0x7fa9b31f6c18>,\n",
       " <folium.vector_layers.CircleMarker at 0x7fa9b31f6860>,\n",
       " <folium.vector_layers.CircleMarker at 0x7fa9b31f6908>,\n",
       " <folium.vector_layers.CircleMarker at 0x7fa9b31f62b0>,\n",
       " <folium.vector_layers.CircleMarker at 0x7fa9b31f61d0>,\n",
       " <folium.vector_layers.CircleMarker at 0x7fa9b31f6668>,\n",
       " <folium.vector_layers.CircleMarker at 0x7fa9b31f66a0>,\n",
       " <folium.vector_layers.CircleMarker at 0x7fa9b31f6940>,\n",
       " <folium.vector_layers.CircleMarker at 0x7fa9b31f6d30>,\n",
       " <folium.vector_layers.CircleMarker at 0x7fa9b31f6f60>,\n",
       " <folium.vector_layers.CircleMarker at 0x7fa9b31f6f98>,\n",
       " <folium.vector_layers.CircleMarker at 0x7fa9b31f6dd8>,\n",
       " <folium.vector_layers.CircleMarker at 0x7fa9b320a080>,\n",
       " <folium.vector_layers.CircleMarker at 0x7fa9b320a160>,\n",
       " <folium.vector_layers.CircleMarker at 0x7fa9b320a278>,\n",
       " <folium.vector_layers.CircleMarker at 0x7fa9b320a320>,\n",
       " <folium.vector_layers.CircleMarker at 0x7fa9b31f6e48>,\n",
       " <folium.vector_layers.CircleMarker at 0x7fa9b31f6470>,\n",
       " <folium.vector_layers.CircleMarker at 0x7fa9b31f67f0>,\n",
       " <folium.vector_layers.CircleMarker at 0x7fa9b31f6320>,\n",
       " <folium.vector_layers.CircleMarker at 0x7fa9b31f60b8>,\n",
       " <folium.vector_layers.CircleMarker at 0x7fa9b324ca58>,\n",
       " <folium.vector_layers.CircleMarker at 0x7fa9b31f6518>,\n",
       " <folium.vector_layers.CircleMarker at 0x7fa9b31f6a58>,\n",
       " <folium.vector_layers.CircleMarker at 0x7fa9b31f6cc0>,\n",
       " <folium.vector_layers.CircleMarker at 0x7fa9b32611d0>,\n",
       " <folium.vector_layers.CircleMarker at 0x7fa9b3261940>,\n",
       " <folium.vector_layers.CircleMarker at 0x7fa9b3261c50>,\n",
       " <folium.vector_layers.CircleMarker at 0x7fa9b320a128>,\n",
       " <folium.vector_layers.CircleMarker at 0x7fa9b320a3c8>,\n",
       " <folium.vector_layers.CircleMarker at 0x7fa9b320a2b0>,\n",
       " <folium.vector_layers.CircleMarker at 0x7fa9b320a4e0>,\n",
       " <folium.vector_layers.CircleMarker at 0x7fa9b320a518>,\n",
       " <folium.vector_layers.CircleMarker at 0x7fa9b320a5c0>,\n",
       " <folium.vector_layers.CircleMarker at 0x7fa9b320a668>,\n",
       " <folium.vector_layers.CircleMarker at 0x7fa9b320a710>,\n",
       " <folium.vector_layers.CircleMarker at 0x7fa9b320a7b8>,\n",
       " <folium.vector_layers.CircleMarker at 0x7fa9b320a860>,\n",
       " <folium.vector_layers.CircleMarker at 0x7fa9b32619b0>,\n",
       " <folium.vector_layers.CircleMarker at 0x7fa9b3261ba8>,\n",
       " <folium.vector_layers.CircleMarker at 0x7fa9b31f6b00>,\n",
       " <folium.vector_layers.CircleMarker at 0x7fa9b31f6a20>,\n",
       " <folium.vector_layers.CircleMarker at 0x7fa9b31f69e8>,\n",
       " <folium.vector_layers.CircleMarker at 0x7fa9b31f6080>,\n",
       " <folium.vector_layers.CircleMarker at 0x7fa9b31f6710>,\n",
       " <folium.vector_layers.CircleMarker at 0x7fa9b320a6a0>,\n",
       " <folium.vector_layers.CircleMarker at 0x7fa9b320a6d8>,\n",
       " <folium.vector_layers.CircleMarker at 0x7fa9b320a588>,\n",
       " <folium.vector_layers.CircleMarker at 0x7fa9b320a0b8>,\n",
       " <folium.vector_layers.CircleMarker at 0x7fa9b320a400>,\n",
       " <folium.vector_layers.CircleMarker at 0x7fa9b320a208>,\n",
       " <folium.vector_layers.CircleMarker at 0x7fa9b320a908>,\n",
       " <folium.vector_layers.CircleMarker at 0x7fa9b320a7f0>,\n",
       " <folium.vector_layers.CircleMarker at 0x7fa9b320aa20>,\n",
       " <folium.vector_layers.CircleMarker at 0x7fa9b320aa58>,\n",
       " <folium.vector_layers.CircleMarker at 0x7fa9b320ab00>,\n",
       " <folium.vector_layers.CircleMarker at 0x7fa9b320aba8>,\n",
       " <folium.vector_layers.CircleMarker at 0x7fa9b320ac50>,\n",
       " <folium.vector_layers.CircleMarker at 0x7fa9b320acf8>,\n",
       " <folium.vector_layers.CircleMarker at 0x7fa9b320ada0>,\n",
       " <folium.vector_layers.CircleMarker at 0x7fa9b31f6b70>,\n",
       " <folium.vector_layers.CircleMarker at 0x7fa9b31f6e80>,\n",
       " <folium.vector_layers.CircleMarker at 0x7fa9b3261470>,\n",
       " <folium.vector_layers.CircleMarker at 0x7fa9b31f6ef0>,\n",
       " <folium.vector_layers.CircleMarker at 0x7fa9b31f6198>,\n",
       " <folium.vector_layers.CircleMarker at 0x7fa9b320aa90>,\n",
       " <folium.vector_layers.CircleMarker at 0x7fa9b320a9b0>,\n",
       " <folium.vector_layers.CircleMarker at 0x7fa9b320a2e8>,\n",
       " <folium.vector_layers.CircleMarker at 0x7fa9b320a198>,\n",
       " <folium.vector_layers.CircleMarker at 0x7fa9b320a748>,\n",
       " <folium.vector_layers.CircleMarker at 0x7fa9b320a358>,\n",
       " <folium.vector_layers.CircleMarker at 0x7fa9b320a240>,\n",
       " <folium.vector_layers.CircleMarker at 0x7fa9b320a780>,\n",
       " <folium.vector_layers.CircleMarker at 0x7fa9b320ae48>,\n",
       " <folium.vector_layers.CircleMarker at 0x7fa9b320ad30>,\n",
       " <folium.vector_layers.CircleMarker at 0x7fa9b320af60>,\n",
       " <folium.vector_layers.CircleMarker at 0x7fa9b320af98>,\n",
       " <folium.vector_layers.CircleMarker at 0x7fa9b320add8>,\n",
       " <folium.vector_layers.CircleMarker at 0x7fa9b321c080>,\n",
       " <folium.vector_layers.CircleMarker at 0x7fa9b321c160>,\n",
       " <folium.vector_layers.CircleMarker at 0x7fa9b321c278>,\n",
       " <folium.vector_layers.CircleMarker at 0x7fa9b321c320>,\n",
       " <folium.vector_layers.CircleMarker at 0x7fa9b320ad68>,\n",
       " <folium.vector_layers.CircleMarker at 0x7fa9b320a828>,\n",
       " <folium.vector_layers.CircleMarker at 0x7fa9b320ac88>,\n",
       " <folium.vector_layers.CircleMarker at 0x7fa9b320a940>,\n",
       " <folium.vector_layers.CircleMarker at 0x7fa9b320a048>,\n",
       " <folium.vector_layers.CircleMarker at 0x7fa9b3261748>,\n",
       " <folium.vector_layers.CircleMarker at 0x7fa9b320a550>,\n",
       " <folium.vector_layers.CircleMarker at 0x7fa9b320aac8>,\n",
       " <folium.vector_layers.CircleMarker at 0x7fa9b320a898>,\n",
       " <folium.vector_layers.CircleMarker at 0x7fa9b31f6eb8>,\n",
       " <folium.vector_layers.CircleMarker at 0x7fa9b31f6be0>,\n",
       " <folium.vector_layers.CircleMarker at 0x7fa9b31f6f28>,\n",
       " <folium.vector_layers.CircleMarker at 0x7fa9b321c128>,\n",
       " <folium.vector_layers.CircleMarker at 0x7fa9b321c3c8>,\n",
       " <folium.vector_layers.CircleMarker at 0x7fa9b321c2b0>,\n",
       " <folium.vector_layers.CircleMarker at 0x7fa9b321c4e0>,\n",
       " <folium.vector_layers.CircleMarker at 0x7fa9b321c518>,\n",
       " <folium.vector_layers.CircleMarker at 0x7fa9b321c5c0>,\n",
       " <folium.vector_layers.CircleMarker at 0x7fa9b321c668>,\n",
       " <folium.vector_layers.CircleMarker at 0x7fa9b321c710>,\n",
       " <folium.vector_layers.CircleMarker at 0x7fa9b321c7b8>,\n",
       " <folium.vector_layers.CircleMarker at 0x7fa9b321c860>,\n",
       " <folium.vector_layers.CircleMarker at 0x7fa9b320a9e8>,\n",
       " <folium.vector_layers.CircleMarker at 0x7fa9b320acc0>,\n",
       " <folium.vector_layers.CircleMarker at 0x7fa9b320a0f0>,\n",
       " <folium.vector_layers.CircleMarker at 0x7fa9b320ae80>]"
      ]
     },
     "execution_count": 47,
     "metadata": {},
     "output_type": "execute_result"
    }
   ],
   "source": [
    "map_with_markers"
   ]
  },
  {
   "cell_type": "markdown",
   "metadata": {},
   "source": [
    "### Using Nearest Neighbors"
   ]
  },
  {
   "cell_type": "markdown",
   "metadata": {},
   "source": [
    "Ok, let's write a function that given a latitude and longitude will predict the distance for us.  We'll do this by first finding the nearest trips given a latitude and longitude. "
   ]
  },
  {
   "cell_type": "markdown",
   "metadata": {},
   "source": [
    "Here we once again apply the nearest neighbors formula. As a first step, write a function named `distance_location` that calculates the distance in pickup location between two trips."
   ]
  },
  {
   "cell_type": "code",
   "execution_count": null,
   "metadata": {},
   "outputs": [],
   "source": [
    "import math\n",
    "\n",
    "def distance_location(selected_trip, neighbor_trip):\n",
    "    pass"
   ]
  },
  {
   "cell_type": "code",
   "execution_count": null,
   "metadata": {},
   "outputs": [],
   "source": [
    "first_trip = {'pickup_latitude': 40.64499, 'pickup_longitude': -73.78115, 'trip_distance': 18.38}\n",
    "second_trip = {'pickup_latitude': 40.766931, 'pickup_longitude': -73.982098, 'trip_distance': 1.3}\n",
    "distance_first_and_second = distance_location(first_trip, second_trip)\n",
    "\n",
    "distance_first_and_second and round(distance_first_and_second, 3) # 0.235"
   ]
  },
  {
   "cell_type": "markdown",
   "metadata": {},
   "source": [
    "Ok, next write a function called `distance_between_neighbors` that adds a new key-value pair, called `distance_from_selected`, that calculates the distance of the `neighbor_trip` from the `selected_trip`."
   ]
  },
  {
   "cell_type": "code",
   "execution_count": null,
   "metadata": {},
   "outputs": [],
   "source": [
    "def distance_between_neighbors(selected_trip, neighbor_trip):\n",
    "    pass"
   ]
  },
  {
   "cell_type": "code",
   "execution_count": null,
   "metadata": {},
   "outputs": [],
   "source": [
    "distance_between_neighbors(first_trip, second_trip)\n",
    "\n",
    "# {'distance_from_selected': 0.23505256047318146,\n",
    "#  'pickup_latitude': 40.766931,\n",
    "#  'pickup_longitude': -73.982098,\n",
    "#  'trip_distance': 1.3}"
   ]
  },
  {
   "cell_type": "markdown",
   "metadata": {},
   "source": [
    "Ok, now our `neighbor_trip` has another attribute called `distance_from_selected`, that indicates the distance from the `neighbor_trip`'s pickup location from the `selected_trip`."
   ]
  },
  {
   "cell_type": "markdown",
   "metadata": {},
   "source": [
    "> ** Understand the data:** Our dictionary now has a few attributes, two of which say distance.  Let's make sure we understand the difference. \n",
    "> * **`distance_from_selected`:** This is our calculation of the distance of the neighbor's pickup location from the selected trip.\n",
    "> * **`trip_distance`:** This is the attribute we were provided initially.  It tells us the length of the neighbor's taxi trip from pickup to drop-off.  "
   ]
  },
  {
   "cell_type": "markdown",
   "metadata": {},
   "source": [
    "Next, write a function called `distance_all` that provided a list of neighbors, returns each of those neighbors with their respective `distance_from_selected` numbers."
   ]
  },
  {
   "cell_type": "code",
   "execution_count": null,
   "metadata": {},
   "outputs": [],
   "source": [
    "def distance_all(selected_individual, neighbors):\n",
    "    pass"
   ]
  },
  {
   "cell_type": "code",
   "execution_count": null,
   "metadata": {},
   "outputs": [],
   "source": [
    "cleaned_trips and distance_all(first_trip, cleaned_trips[0:4])"
   ]
  },
  {
   "cell_type": "markdown",
   "metadata": {},
   "source": [
    "Now write the nearest neighbors formula to calculate the distance of the `selected_trip` from all of the `cleaned_trips` in our dataset.  If no number is provided, it should return the top 3 neighbors."
   ]
  },
  {
   "cell_type": "code",
   "execution_count": null,
   "metadata": {},
   "outputs": [],
   "source": [
    "def nearest_neighbors(selected_trip, trips, number = 3):\n",
    "    pass"
   ]
  },
  {
   "cell_type": "code",
   "execution_count": null,
   "metadata": {},
   "outputs": [],
   "source": [
    "new_trip = {'pickup_latitude': 40.64499,\n",
    "'pickup_longitude': -73.78115,\n",
    "'trip_distance': 18.38}\n",
    "\n",
    "nearest_three_neighbors = nearest_neighbors(new_trip, cleaned_trips or [], number = 3)\n",
    "nearest_three_neighbors\n",
    "# [{'distance_from_selected': 0.0004569288784918792,\n",
    "#   'pickup_latitude': 40.64483,\n",
    "#   'pickup_longitude': -73.781578,\n",
    "#   'trip_distance': 7.78},\n",
    "#  {'distance_from_selected': 0.0011292165425673159,\n",
    "#   'pickup_latitude': 40.644657,\n",
    "#   'pickup_longitude': -73.782229,\n",
    "#   'trip_distance': 12.7},\n",
    "#  {'distance_from_selected': 0.0042359798158141185,\n",
    "#   'pickup_latitude': 40.648509,\n",
    "#   'pickup_longitude': -73.783508,\n",
    "#   'trip_distance': 17.3}]"
   ]
  },
  {
   "cell_type": "markdown",
   "metadata": {},
   "source": [
    "Ok great! Now that we can provide a new trip location, and find the distances of the three nearest trips, we can take  calculate an estimate of the trip distance for that new trip location.  \n",
    "\n",
    "We do so simply by calculating the average of it's nearest neighbors."
   ]
  },
  {
   "cell_type": "code",
   "execution_count": null,
   "metadata": {},
   "outputs": [],
   "source": [
    "import statistics\n",
    "def mean_distance(neighbors):\n",
    "    nearest_distances = list(map(lambda neighbor: neighbor['trip_distance'], neighbors))\n",
    "    return round(statistics.mean(nearest_distances), 3)\n",
    "\n",
    "nearest_three_neighbors = nearest_neighbors(new_trip, cleaned_trips or [], number = 3)\n",
    "distance_estimate_of_selected_trip = mean_distance(nearest_three_neighbors) # 12.593\n",
    "distance_estimate_of_selected_trip"
   ]
  },
  {
   "cell_type": "markdown",
   "metadata": {},
   "source": [
    "### Choosing the correct number of neighbors"
   ]
  },
  {
   "cell_type": "markdown",
   "metadata": {},
   "source": [
    "Now, as we know from the last lesson, one tricky element is to determine how many neighbors to choose, our $k$ value,  before calculating the average.  We want to choose our value of $k$ such that it properly matches actual data, and so that it applies to new data.  There are fancy formulas to ensure that we **train** our algorithm so that our formula is optimized for all data, but here let's see different $k$ values manually.  This is the gist of choosing our $k$ value:\n",
    "\n",
    "* If we choose a $k$ value too low, our formula will be too heavily influenced by a single neighbor, whereas if our $k$ value is too high, we will be choosing so many neighbors that our nearest neighbors formula will not be adjust enough according to locations.\n",
    "\n",
    "Ok, let's experiment with this."
   ]
  },
  {
   "cell_type": "markdown",
   "metadata": {},
   "source": [
    "First, let's choose a midtown location, to see what the trip distance would be.  A Google search reveals the coordinates of 51st and 7th avenue to be the following."
   ]
  },
  {
   "cell_type": "code",
   "execution_count": null,
   "metadata": {},
   "outputs": [],
   "source": [
    "midtown_trip = dict(pickup_latitude=40.761710, pickup_longitude=-73.982760)"
   ]
  },
  {
   "cell_type": "code",
   "execution_count": null,
   "metadata": {},
   "outputs": [],
   "source": [
    "seven_closest = nearest_neighbors(midtown_trip, cleaned_trips, number = 7)\n",
    "seven_closest\n",
    "# [{'trip_distance': 0.58,\n",
    "#   'pickup_latitude': 40.761372,\n",
    "#   'pickup_longitude': -73.982602,\n",
    "#   'distance_from_selected': 0.00037310588309379025},\n",
    "#  {'trip_distance': 0.8,\n",
    "#   'pickup_latitude': 40.762444,\n",
    "#   'pickup_longitude': -73.98244,\n",
    "#   'distance_from_selected': 0.00080072217404248},\n",
    "#  {'trip_distance': 1.4,\n",
    "#   'pickup_latitude': 40.762767,\n",
    "#   'pickup_longitude': -73.982293,\n",
    "#   'distance_from_selected': 0.0011555682584735844},\n",
    "#  {'trip_distance': 8.3,\n",
    "#   'pickup_latitude': 40.762868,\n",
    "#   'pickup_longitude': -73.983233,\n",
    "#   'distance_from_selected': 0.0012508768924205918},\n",
    "#  {'trip_distance': 1.26,\n",
    "#   'pickup_latitude': 40.760057,\n",
    "#   'pickup_longitude': -73.983502,\n",
    "#   'distance_from_selected': 0.0018118976240381972},\n",
    "#  {'trip_distance': 0.0,\n",
    "#   'pickup_latitude': 40.760644,\n",
    "#   'pickup_longitude': -73.984531,\n",
    "#   'distance_from_selected': 0.002067074502774709},\n",
    "#  {'trip_distance': 1.72,\n",
    "#   'pickup_latitude': 40.762107,\n",
    "#   'pickup_longitude': -73.98479,\n",
    "#   'distance_from_selected': 0.0020684557041472677}]"
   ]
  },
  {
   "cell_type": "markdown",
   "metadata": {},
   "source": [
    "Looking at the `distance_from_selected` it appears that our our trips are still fairly close to our selected trip.  Notice that most of the data is within a distance of .002 away, so going to the top 7 nearest neighbors didn't seem to give us neighbors too far from each other, which is a good sign.\n",
    "\n",
    "Still, it's hard to know what distance in latitude and longitude really look like, so let's map the data. "
   ]
  },
  {
   "cell_type": "code",
   "execution_count": null,
   "metadata": {},
   "outputs": [],
   "source": [
    "midtown_location = location(midtown_trip) # [40.76171, -73.98276]\n",
    "midtown_map = map_from(midtown_location, 16)\n",
    "closest_markers = markers_from_trips(seven_closest)\n",
    "\n",
    "add_markers(closest_markers, midtown_map)"
   ]
  },
  {
   "cell_type": "markdown",
   "metadata": {},
   "source": [
    "Ok.  These locations stay fairly close to our estimated location of 51st street and 7th Avenue.  So they could be a good estimate of a trip distance."
   ]
  },
  {
   "cell_type": "code",
   "execution_count": null,
   "metadata": {},
   "outputs": [],
   "source": [
    "mean_distance(seven_closest) # 2.009"
   ]
  },
  {
   "cell_type": "markdown",
   "metadata": {},
   "source": [
    "Ok, now let's try a different location"
   ]
  },
  {
   "cell_type": "code",
   "execution_count": null,
   "metadata": {},
   "outputs": [],
   "source": [
    "charging_bull_closest = nearest_neighbors({'pickup_latitude': 40.7049, 'pickup_longitude': -74.0137}, cleaned_trips, number = 12)"
   ]
  },
  {
   "cell_type": "code",
   "execution_count": null,
   "metadata": {
    "scrolled": true
   },
   "outputs": [],
   "source": [
    "mean_distance(charging_bull_closest) # 3.145"
   ]
  },
  {
   "cell_type": "markdown",
   "metadata": {},
   "source": [
    "Ok, so there appears to be a significant difference between choosing a location near Times Square versus choosing a location at Wall Street."
   ]
  },
  {
   "cell_type": "markdown",
   "metadata": {},
   "source": [
    "### Summary"
   ]
  },
  {
   "cell_type": "markdown",
   "metadata": {},
   "source": [
    "In this lab, we used the nearest neighbors function to predict the length of a taxi ride.  To do so, we selected a location, then found a number of taxi rides closest to that location, and finally took the average trip lengths of the nearest taxi rides to find an estimate of the new ride's trip length.  You can see that even with just a little bit of math and programming we can begin to make meaningful predictions with data."
   ]
  }
 ],
 "metadata": {
  "kernelspec": {
   "display_name": "Python 3",
   "language": "python",
   "name": "python3"
  },
  "language_info": {
   "codemirror_mode": {
    "name": "ipython",
    "version": 3
   },
   "file_extension": ".py",
   "mimetype": "text/x-python",
   "name": "python",
   "nbconvert_exporter": "python",
   "pygments_lexer": "ipython3",
   "version": "3.6.6"
  }
 },
 "nbformat": 4,
 "nbformat_minor": 2
}
